{
 "cells": [
  {
   "cell_type": "code",
   "execution_count": 1,
   "id": "q1yr4nUCERC1",
   "metadata": {
    "colab": {
     "base_uri": "https://localhost:8080/"
    },
    "id": "q1yr4nUCERC1",
    "outputId": "19492f4f-2000-41a1-ae07-feab8340276d"
   },
   "outputs": [
    {
     "name": "stdout",
     "output_type": "stream",
     "text": [
      "Collecting colab-xterm\n",
      "  Downloading colab_xterm-0.2.0-py3-none-any.whl.metadata (1.2 kB)\n",
      "Requirement already satisfied: ptyprocess~=0.7.0 in /usr/local/lib/python3.11/dist-packages (from colab-xterm) (0.7.0)\n",
      "Requirement already satisfied: tornado>5.1 in /usr/local/lib/python3.11/dist-packages (from colab-xterm) (6.4.2)\n",
      "Downloading colab_xterm-0.2.0-py3-none-any.whl (115 kB)\n",
      "\u001b[?25l   \u001b[90m━━━━━━━━━━━━━━━━━━━━━━━━━━━━━━━━━━━━━━━━\u001b[0m \u001b[32m0.0/115.6 kB\u001b[0m \u001b[31m?\u001b[0m eta \u001b[36m-:--:--\u001b[0m\r",
      "\u001b[2K   \u001b[90m━━━━━━━━━━━━━━━━━━━━━━━━━━━━━━━━━━━━━━━━\u001b[0m \u001b[32m115.6/115.6 kB\u001b[0m \u001b[31m11.0 MB/s\u001b[0m eta \u001b[36m0:00:00\u001b[0m\n",
      "\u001b[?25hInstalling collected packages: colab-xterm\n",
      "Successfully installed colab-xterm-0.2.0\n",
      "\u001b[2K   \u001b[90m━━━━━━━━━━━━━━━━━━━━━━━━━━━━━━━━━━━━━━━━\u001b[0m \u001b[32m2.5/2.5 MB\u001b[0m \u001b[31m46.3 MB/s\u001b[0m eta \u001b[36m0:00:00\u001b[0m\n",
      "\u001b[2K   \u001b[90m━━━━━━━━━━━━━━━━━━━━━━━━━━━━━━━━━━━━━━━━\u001b[0m \u001b[32m45.2/45.2 kB\u001b[0m \u001b[31m3.0 MB/s\u001b[0m eta \u001b[36m0:00:00\u001b[0m\n",
      "\u001b[2K   \u001b[90m━━━━━━━━━━━━━━━━━━━━━━━━━━━━━━━━━━━━━━━━\u001b[0m \u001b[32m50.9/50.9 kB\u001b[0m \u001b[31m3.1 MB/s\u001b[0m eta \u001b[36m0:00:00\u001b[0m\n",
      "\u001b[?25h"
     ]
    }
   ],
   "source": [
    "!pip install colab-xterm #https://pypi.org/project/colab-xterm/\n",
    "%load_ext colabxterm\n",
    "\n",
    "!pip install colab-xterm -qqq\n",
    "!pip install langchain -qqq\n",
    "!pip install langchain_community -qqq"
   ]
  },
  {
   "cell_type": "code",
   "execution_count": 2,
   "id": "7xU1knzoEhvF",
   "metadata": {
    "colab": {
     "base_uri": "https://localhost:8080/"
    },
    "id": "7xU1knzoEhvF",
    "outputId": "a96819ec-d84b-4837-f4b8-9428eede0c6f"
   },
   "outputs": [
    {
     "name": "stdout",
     "output_type": "stream",
     "text": [
      "\u001b[?25l   \u001b[90m━━━━━━━━━━━━━━━━━━━━━━━━━━━━━━━━━━━━━━━━\u001b[0m \u001b[32m0.0/312.3 kB\u001b[0m \u001b[31m?\u001b[0m eta \u001b[36m-:--:--\u001b[0m\r",
      "\u001b[2K   \u001b[90m━━━━━━━━━━━━━━━━━━━━━━━━━━━━━━━━━━━━━━━━\u001b[0m \u001b[32m312.3/312.3 kB\u001b[0m \u001b[31m15.8 MB/s\u001b[0m eta \u001b[36m0:00:00\u001b[0m\n",
      "\u001b[?25h\u001b[?25l   \u001b[90m━━━━━━━━━━━━━━━━━━━━━━━━━━━━━━━━━━━━━━━━\u001b[0m \u001b[32m0.0/189.7 kB\u001b[0m \u001b[31m?\u001b[0m eta \u001b[36m-:--:--\u001b[0m\r",
      "\u001b[2K   \u001b[90m━━━━━━━━━━━━━━━━━━━━━━━━━━━━━━━━━━━━━━━━\u001b[0m \u001b[32m189.7/189.7 kB\u001b[0m \u001b[31m12.6 MB/s\u001b[0m eta \u001b[36m0:00:00\u001b[0m\n",
      "\u001b[?25h\u001b[?25l   \u001b[90m━━━━━━━━━━━━━━━━━━━━━━━━━━━━━━━━━━━━━━━━\u001b[0m \u001b[32m0.0/183.9 kB\u001b[0m \u001b[31m?\u001b[0m eta \u001b[36m-:--:--\u001b[0m\r",
      "\u001b[2K   \u001b[90m━━━━━━━━━━━━━━━━━━━━━━━━━━━━━━━━━━━━━━━━\u001b[0m \u001b[32m183.9/183.9 kB\u001b[0m \u001b[31m15.7 MB/s\u001b[0m eta \u001b[36m0:00:00\u001b[0m\n",
      "\u001b[?25h\u001b[?25l   \u001b[90m━━━━━━━━━━━━━━━━━━━━━━━━━━━━━━━━━━━━━━━━\u001b[0m \u001b[32m0.0/305.5 kB\u001b[0m \u001b[31m?\u001b[0m eta \u001b[36m-:--:--\u001b[0m\r",
      "\u001b[2K   \u001b[90m━━━━━━━━━━━━━━━━━━━━━━━━━━━━━━━━━━━━━━━━\u001b[0m \u001b[32m305.5/305.5 kB\u001b[0m \u001b[31m22.6 MB/s\u001b[0m eta \u001b[36m0:00:00\u001b[0m\n",
      "\u001b[?25h\u001b[31mERROR: pip's dependency resolver does not currently take into account all the packages that are installed. This behaviour is the source of the following dependency conflicts.\n",
      "torch 2.6.0+cu124 requires nvidia-cublas-cu12==12.4.5.8; platform_system == \"Linux\" and platform_machine == \"x86_64\", but you have nvidia-cublas-cu12 12.5.3.2 which is incompatible.\n",
      "torch 2.6.0+cu124 requires nvidia-cuda-cupti-cu12==12.4.127; platform_system == \"Linux\" and platform_machine == \"x86_64\", but you have nvidia-cuda-cupti-cu12 12.5.82 which is incompatible.\n",
      "torch 2.6.0+cu124 requires nvidia-cuda-nvrtc-cu12==12.4.127; platform_system == \"Linux\" and platform_machine == \"x86_64\", but you have nvidia-cuda-nvrtc-cu12 12.5.82 which is incompatible.\n",
      "torch 2.6.0+cu124 requires nvidia-cuda-runtime-cu12==12.4.127; platform_system == \"Linux\" and platform_machine == \"x86_64\", but you have nvidia-cuda-runtime-cu12 12.5.82 which is incompatible.\n",
      "torch 2.6.0+cu124 requires nvidia-cudnn-cu12==9.1.0.70; platform_system == \"Linux\" and platform_machine == \"x86_64\", but you have nvidia-cudnn-cu12 9.3.0.75 which is incompatible.\n",
      "torch 2.6.0+cu124 requires nvidia-cufft-cu12==11.2.1.3; platform_system == \"Linux\" and platform_machine == \"x86_64\", but you have nvidia-cufft-cu12 11.2.3.61 which is incompatible.\n",
      "torch 2.6.0+cu124 requires nvidia-curand-cu12==10.3.5.147; platform_system == \"Linux\" and platform_machine == \"x86_64\", but you have nvidia-curand-cu12 10.3.6.82 which is incompatible.\n",
      "torch 2.6.0+cu124 requires nvidia-cusolver-cu12==11.6.1.9; platform_system == \"Linux\" and platform_machine == \"x86_64\", but you have nvidia-cusolver-cu12 11.6.3.83 which is incompatible.\n",
      "torch 2.6.0+cu124 requires nvidia-cusparse-cu12==12.3.1.170; platform_system == \"Linux\" and platform_machine == \"x86_64\", but you have nvidia-cusparse-cu12 12.5.1.3 which is incompatible.\n",
      "torch 2.6.0+cu124 requires nvidia-nvjitlink-cu12==12.4.127; platform_system == \"Linux\" and platform_machine == \"x86_64\", but you have nvidia-nvjitlink-cu12 12.5.82 which is incompatible.\n",
      "gcsfs 2025.3.2 requires fsspec==2025.3.2, but you have fsspec 2024.12.0 which is incompatible.\u001b[0m\u001b[31m\n",
      "\u001b[2K   \u001b[90m━━━━━━━━━━━━━━━━━━━━━━━━━━━━━━━━━━━━━━━━\u001b[0m \u001b[32m70.4/70.4 kB\u001b[0m \u001b[31m7.7 MB/s\u001b[0m eta \u001b[36m0:00:00\u001b[0m\n",
      "\u001b[2K   \u001b[90m━━━━━━━━━━━━━━━━━━━━━━━━━━━━━━━━━━━━━━━━\u001b[0m \u001b[32m47.4/47.4 kB\u001b[0m \u001b[31m4.5 MB/s\u001b[0m eta \u001b[36m0:00:00\u001b[0m\n",
      "\u001b[2K   \u001b[90m━━━━━━━━━━━━━━━━━━━━━━━━━━━━━━━━━━━━━━━━\u001b[0m \u001b[32m1.4/1.4 MB\u001b[0m \u001b[31m60.7 MB/s\u001b[0m eta \u001b[36m0:00:00\u001b[0m\n",
      "\u001b[2K   \u001b[90m━━━━━━━━━━━━━━━━━━━━━━━━━━━━━━━━━━━━━━━━\u001b[0m \u001b[32m441.4/441.4 kB\u001b[0m \u001b[31m35.2 MB/s\u001b[0m eta \u001b[36m0:00:00\u001b[0m\n",
      "\u001b[?25h\u001b[31mERROR: pip's dependency resolver does not currently take into account all the packages that are installed. This behaviour is the source of the following dependency conflicts.\n",
      "google-generativeai 0.8.5 requires google-ai-generativelanguage==0.6.15, but you have google-ai-generativelanguage 0.6.18 which is incompatible.\u001b[0m\u001b[31m\n",
      "\u001b[2K   \u001b[90m━━━━━━━━━━━━━━━━━━━━━━━━━━━━━━━━━━━━━━━━\u001b[0m \u001b[32m209.2/209.2 kB\u001b[0m \u001b[31m16.9 MB/s\u001b[0m eta \u001b[36m0:00:00\u001b[0m\n",
      "\u001b[2K   \u001b[90m━━━━━━━━━━━━━━━━━━━━━━━━━━━━━━━━━━━━━━━━\u001b[0m \u001b[32m754.3/754.3 kB\u001b[0m \u001b[31m37.2 MB/s\u001b[0m eta \u001b[36m0:00:00\u001b[0m\n",
      "\u001b[?25h"
     ]
    }
   ],
   "source": [
    "!pip install langchain_neo4j -qqq\n",
    "!pip install langchain_openai  -qqq\n",
    "!pip install langchain_google_genai  -qqq\n",
    "!pip install langchain_huggingface -qqq\n",
    "!pip install langchain_experimental -qqq\n",
    "!pip install jq -qqq"
   ]
  },
  {
   "cell_type": "code",
   "execution_count": 3,
   "id": "91fa3477",
   "metadata": {
    "id": "91fa3477"
   },
   "outputs": [],
   "source": [
    "from langchain.docstore.document import Document\n",
    "from langchain.text_splitter import CharacterTextSplitter\n",
    "from langchain_community.document_loaders import TextLoader,JSONLoader\n",
    "from langchain_neo4j import Neo4jVector,Neo4jGraph,GraphCypherQAChain\n",
    "from langchain_openai import OpenAIEmbeddings"
   ]
  },
  {
   "cell_type": "code",
   "execution_count": null,
   "id": "b375d3cb",
   "metadata": {
    "id": "b375d3cb"
   },
   "outputs": [],
   "source": [
    "# from langchain_google_genai import GoogleGenerativeAIEmbeddings\n",
    "\n",
    "# embeddings = GoogleGenerativeAIEmbeddings(model=\"models/gemini-embedding-exp-03-07\")"
   ]
  },
  {
   "cell_type": "code",
   "execution_count": null,
   "id": "3bcc908d",
   "metadata": {
    "colab": {
     "base_uri": "https://localhost:8080/",
     "height": 493,
     "referenced_widgets": [
      "b0826090852c46a09e0324938f6bdb7b",
      "a4198ef065194492a7461b45dfc541fa",
      "7707690ae3fe472e84808fb517f8d035",
      "d7fbd86f40974c0e8bcc3bd031b54c4e",
      "d2dac5ca285641b794bcac6a83ed4aa7",
      "3d675ead219d4afa8a1c583d0cf98b21",
      "5ecda912e7fc4b52a641081b7e4b8b61",
      "d24fb54bd6f7489a9a27c95631329674",
      "72bca3ff344e403a8d54c78dba00fa1f",
      "ff1120f0259d44faa64f047384c379b4",
      "1625d587d5134d7a9fb0821c3f6f066f",
      "8eb0c7eba9234c499fd86d346924212e",
      "e2a7b9f4864e41078cb3132d55999d08",
      "030210062a4f4490a3153a457b19b3f7",
      "c555d3d0eb7345618d251c2beb585922",
      "73acab5f4a7d4bf6b39ea6ff816c96cc",
      "407457322b7b486aa52de6d24a5247a0",
      "14c77fdb983d421d9cfe69948b911699",
      "3df5d337825d4d51bc8d337a63e05f9f",
      "7a647e5773574bce9a060f282ecd017b",
      "a14d1f241c94474a987eef2f802f000d",
      "75941c4e7ce841bb80a93351830cb032",
      "05d13ac9562243828bfa154a82846c80",
      "26402a63181441a6965c23f8a35d63d0",
      "c9a496cf7cc4490cbeaee73998232b4c",
      "b85d06ef513c4fffae908d41e24fc0f4",
      "5c5cf46757554d41893b896b1f36b373",
      "cee8ed34de8a4805aaf59beaecbc290b",
      "48d2ea5367a140f7a4106b7731e81ff1",
      "71a22f758c2245feb263cae40ca87052",
      "aa1b6e409e1249ae8d376b7975e4c881",
      "c41c14fd797d4e0fabe1b8cef03e8716",
      "b087ba0c6e0b4e949f54df5f6374a342",
      "a4dc75a323bc46c2abefef12c99e58d5",
      "f7045c3b76844a3f8c5df6fe3b94abe3",
      "b49bcac76b3c45ceac22315f1a5b6380",
      "22f4f1062a6c4df288f7d42016030baf",
      "7aed057acdc2427e9053aea815b12d79",
      "2bfc33babb8d45cbb43d6d3a001ecb10",
      "55ece95c76d94960a804f466909d1584",
      "fa73e7ececcc44269ae9015071234da3",
      "061cf8f1fe504add8e5830096eafb79a",
      "f99b42078ec149a0a86cc698ce9cee13",
      "b477f870d31e4835bfcc129bee498feb",
      "a55fa01dbeea45f1a3841b36c2afd47d",
      "df94bb9bd74d4731a597e48bbe95c9bf",
      "2abf45ef2d4e44f5b3b4d6e537ab2a5a",
      "81985119abda40ec91651bb795427d9f",
      "bc86f964952d42f8a32bcac8d0706c2d",
      "0fcc71c1e0b94a4cb835fb2ddbc41ef3",
      "552e947f0b064839b545c066ac990fc6",
      "ae45883f003d433b8a4f12fdabad146b",
      "e0cc7b9f456041338e78b3b7e04efe17",
      "a19a077326c040aca6feb09633148874",
      "00e436c3df1743c9bec02f39f868b3a4",
      "73133810367046cbb02af342705f1917",
      "8b53af5a684c42ec9f2345e22896000a",
      "49eac08aa2af4af587bfc9a021d4c27c",
      "26a0e7f67760442b8cacbc9dea4bcec8",
      "58197c9d60f14350af5afb7b250354ed",
      "409185b861954d669d64ba5531de01b6",
      "8f96422563db41bab42c01fc64d95398",
      "5d8b2e94d86242f1a47790f9d0b54ba4",
      "3868ba9bdd3d431486f1b21eb6645cd2",
      "de39c8ba0ae44b9785210fb9d5cf761c",
      "d0b653f415eb49eab55cca31cdb0dee4",
      "4386a916507f40eb84a416448f5625ca",
      "cf9f4d901a994645a88785e7ab099140",
      "b25980b7d39b4d8bb03d0cc9f2b6f5a1",
      "6798a9a1c27e43968c0b5c912fba7ac7",
      "53fc401779a445d8ae21af6dcc9bcd8f",
      "8c823e8ba3ed4be4b1cd075da20a19f1",
      "e792a80fd91d4ada90fd84a8c4f7217b",
      "f790ede0bc5d4c13ab044c18e3a01715",
      "e2cc8706b4eb4b29a6d05de2d3f17ad7",
      "528a8c175f494d18902f3acae2884ac9",
      "7b0b660d15664260afb6f7a65c8b90ec",
      "5d208c9ee89d48aa962041c9c20a8d2d",
      "3dc48be608a64453aacb00f299293b86",
      "2d307324202145dc8001bc61340dad10",
      "2e9188ecdfa9477683bf5eb726c0de8b",
      "77e9792365ca457e876eb9a3245ba3c0",
      "37beeebd6d2b48c7a473aed3235eb4c5",
      "ed372a9643f145468f6650ffa05000a0",
      "a17d362907d147698a30c90fff77e0f4",
      "b12a33027ea74f228332934ed8711b38",
      "e10aa37830304667ae9ec1ad3cf9be04",
      "cec53797a0f147a3b3d1249ea50e1a24",
      "761a435120974f44a7bc2cb990f06ff0",
      "20f0d45834d344d981e3f37261f847f4",
      "24ecaaf085a641158c2f329d5fd481f4",
      "1a10fbf5cb9843ec90a6351d6e112de7",
      "f0ccae41e2c240cd90525e867d32dd28",
      "326413f1d9f0447e8ef5b18e07d84d1f",
      "ec116dc8c90148cc8d8aabb8b79675d8",
      "bd001494a13b409e906e9121bfecb996",
      "2fd340b133dd40e68bb9441b0cad506a",
      "40c6e05724e242a1b23bdb8cabe90d87",
      "2a4e613019fe4a209e4fe1abd9a0f986",
      "825ba97f4f4f4ba990945b53aefbc9c3",
      "0063c1af940e4997834a50b05c9be83c",
      "9621b479449c4693a2c157d30e11469b",
      "5ec890589f8349f6bb4f77254750452c",
      "7006208bffd44ce3be675a55c64a4a2e",
      "58df4c3f68c047deb738a6297a696e04",
      "af7213250b7e410188c4cdec9f1ead7c",
      "0dca95702533400fa6d06e8c6b5860e8",
      "818c2484afec4f6f81ee334d048090a7",
      "5222e66670ff4bc5ae5e7ee2e70bc02d",
      "9aed532b6c6f40b09ee2343cebdfd23d",
      "b641c7341b79433299b1ac111e12c7c9",
      "a06c5f00e798422a864dd310e61b4113",
      "599844e3d1a34a228b26246432ca0e2a",
      "f8393249a9b6460abf017cacd6c7990f",
      "50edcb635bb14c7ea011d17445c932f1",
      "035cb19d33e4432f826c79aabff3def6",
      "3fe86f3d225444d4a661b743ae8c9580",
      "fb62604bd6ef4a9bbdff247d1bcd2f43",
      "057ccda0764d4c978347065aaf76334d",
      "f7a2e1c83502408f9bbf2bf00a3ebf56",
      "5298c536b11b4d28b304b7808fd0aea5"
     ]
    },
    "id": "3bcc908d",
    "outputId": "a43c2da7-e92e-4000-8189-29cf2e8338db"
   },
   "outputs": [
    {
     "name": "stderr",
     "output_type": "stream",
     "text": [
      "/usr/local/lib/python3.11/dist-packages/huggingface_hub/utils/_auth.py:94: UserWarning: \n",
      "The secret `HF_TOKEN` does not exist in your Colab secrets.\n",
      "To authenticate with the Hugging Face Hub, create a token in your settings tab (https://huggingface.co/settings/tokens), set it as secret in your Google Colab and restart your session.\n",
      "You will be able to reuse this secret in all of your notebooks.\n",
      "Please note that authentication is recommended but still optional to access public models or datasets.\n",
      "  warnings.warn(\n"
     ]
    },
    {
     "data": {
      "application/vnd.jupyter.widget-view+json": {
       "model_id": "b0826090852c46a09e0324938f6bdb7b",
       "version_major": 2,
       "version_minor": 0
      },
      "text/plain": [
       "modules.json:   0%|          | 0.00/349 [00:00<?, ?B/s]"
      ]
     },
     "metadata": {},
     "output_type": "display_data"
    },
    {
     "data": {
      "application/vnd.jupyter.widget-view+json": {
       "model_id": "8eb0c7eba9234c499fd86d346924212e",
       "version_major": 2,
       "version_minor": 0
      },
      "text/plain": [
       "config_sentence_transformers.json:   0%|          | 0.00/116 [00:00<?, ?B/s]"
      ]
     },
     "metadata": {},
     "output_type": "display_data"
    },
    {
     "data": {
      "application/vnd.jupyter.widget-view+json": {
       "model_id": "05d13ac9562243828bfa154a82846c80",
       "version_major": 2,
       "version_minor": 0
      },
      "text/plain": [
       "README.md: 0.00B [00:00, ?B/s]"
      ]
     },
     "metadata": {},
     "output_type": "display_data"
    },
    {
     "data": {
      "application/vnd.jupyter.widget-view+json": {
       "model_id": "a4dc75a323bc46c2abefef12c99e58d5",
       "version_major": 2,
       "version_minor": 0
      },
      "text/plain": [
       "sentence_bert_config.json:   0%|          | 0.00/53.0 [00:00<?, ?B/s]"
      ]
     },
     "metadata": {},
     "output_type": "display_data"
    },
    {
     "data": {
      "application/vnd.jupyter.widget-view+json": {
       "model_id": "a55fa01dbeea45f1a3841b36c2afd47d",
       "version_major": 2,
       "version_minor": 0
      },
      "text/plain": [
       "config.json:   0%|          | 0.00/571 [00:00<?, ?B/s]"
      ]
     },
     "metadata": {},
     "output_type": "display_data"
    },
    {
     "data": {
      "application/vnd.jupyter.widget-view+json": {
       "model_id": "73133810367046cbb02af342705f1917",
       "version_major": 2,
       "version_minor": 0
      },
      "text/plain": [
       "model.safetensors:   0%|          | 0.00/438M [00:00<?, ?B/s]"
      ]
     },
     "metadata": {},
     "output_type": "display_data"
    },
    {
     "data": {
      "application/vnd.jupyter.widget-view+json": {
       "model_id": "4386a916507f40eb84a416448f5625ca",
       "version_major": 2,
       "version_minor": 0
      },
      "text/plain": [
       "tokenizer_config.json:   0%|          | 0.00/363 [00:00<?, ?B/s]"
      ]
     },
     "metadata": {},
     "output_type": "display_data"
    },
    {
     "data": {
      "application/vnd.jupyter.widget-view+json": {
       "model_id": "5d208c9ee89d48aa962041c9c20a8d2d",
       "version_major": 2,
       "version_minor": 0
      },
      "text/plain": [
       "vocab.txt: 0.00B [00:00, ?B/s]"
      ]
     },
     "metadata": {},
     "output_type": "display_data"
    },
    {
     "data": {
      "application/vnd.jupyter.widget-view+json": {
       "model_id": "761a435120974f44a7bc2cb990f06ff0",
       "version_major": 2,
       "version_minor": 0
      },
      "text/plain": [
       "tokenizer.json: 0.00B [00:00, ?B/s]"
      ]
     },
     "metadata": {},
     "output_type": "display_data"
    },
    {
     "data": {
      "application/vnd.jupyter.widget-view+json": {
       "model_id": "825ba97f4f4f4ba990945b53aefbc9c3",
       "version_major": 2,
       "version_minor": 0
      },
      "text/plain": [
       "special_tokens_map.json:   0%|          | 0.00/239 [00:00<?, ?B/s]"
      ]
     },
     "metadata": {},
     "output_type": "display_data"
    },
    {
     "data": {
      "application/vnd.jupyter.widget-view+json": {
       "model_id": "b641c7341b79433299b1ac111e12c7c9",
       "version_major": 2,
       "version_minor": 0
      },
      "text/plain": [
       "config.json:   0%|          | 0.00/190 [00:00<?, ?B/s]"
      ]
     },
     "metadata": {},
     "output_type": "display_data"
    }
   ],
   "source": [
    "from langchain_huggingface import HuggingFaceEmbeddings\n",
    "\n",
    "model_name = \"sentence-transformers/all-mpnet-base-v2\"\n",
    "model_kwargs = {'device': 'cpu'}\n",
    "encode_kwargs = {'normalize_embeddings': False}\n",
    "embeddings = HuggingFaceEmbeddings(\n",
    "    model_name=model_name,\n",
    "    model_kwargs=model_kwargs,\n",
    "    encode_kwargs=encode_kwargs\n",
    ")"
   ]
  },
  {
   "cell_type": "code",
   "execution_count": null,
   "id": "8e0577ac",
   "metadata": {
    "id": "8e0577ac"
   },
   "outputs": [],
   "source": [
    "import json\n",
    "from pathlib import Path\n",
    "from langchain.document_loaders import JSONLoader  # Make sure this is installed\n",
    "\n",
    "# Path to your JSON file\n",
    "file_path = '/content/processed_with_metadata.json'\n",
    "\n",
    "# JSON root is a list of dictionaries — so use .[] to iterate each record\n",
    "jq_schema = '.[]'\n",
    "\n",
    "# Field that contains main document text\n",
    "content_key = 'text'\n",
    "\n",
    "# Function to extract structured metadata from each record\n",
    "def metadata_func(record: dict, metadata: dict) -> dict:\n",
    "    headings = record.get('headings', [])\n",
    "    media = record.get('media_links', {})\n",
    "    anchor_links = record.get('anchors', [])\n",
    "\n",
    "    metadata['url'] = record.get('url')\n",
    "    metadata['page_name'] = record.get('page')\n",
    "    metadata['nav_path'] = record.get('nav_path', [])\n",
    "    metadata['title'] = headings[1] if len(headings) > 1 else \"N/A\"\n",
    "    metadata['categories'] = list(set(h for h in headings if h.strip()))\n",
    "\n",
    "    metadata['pdf_count'] = len(media.get('pdfs', []))\n",
    "    metadata['image_count'] = len(media.get('images', []))\n",
    "    metadata['video_count'] = len(media.get('videos', []))\n",
    "    metadata['total_anchors'] = len(anchor_links)\n",
    "    metadata['linked_domains'] = list({link.split(\"/\")[2] for link in anchor_links if link.startswith(\"http\")})\n",
    "\n",
    "    return metadata\n",
    "\n",
    "# Load the documents\n",
    "loader = JSONLoader(\n",
    "    file_path=file_path,\n",
    "    jq_schema=jq_schema,\n",
    "    # content_key=content_key,\n",
    "    # metadata_func=metadata_func,\n",
    "    text_content=False\n",
    ")\n",
    "\n",
    "documents = loader.load()\n",
    "\n",
    "\n"
   ]
  },
  {
   "cell_type": "code",
   "execution_count": null,
   "id": "45d125e7",
   "metadata": {
    "id": "45d125e7"
   },
   "outputs": [],
   "source": [
    "# loader = TextLoader(\"sample.txt\")\n",
    "# loader = TextLoader(\"data.json\", encoding=\"utf-8\")\n",
    "# documents = loader.load()\n",
    "\n",
    "text_splitter = CharacterTextSplitter(chunk_size=1000, chunk_overlap=0)\n",
    "docs = text_splitter.split_documents(documents)"
   ]
  },
  {
   "cell_type": "code",
   "execution_count": null,
   "id": "fd523a09",
   "metadata": {
    "colab": {
     "base_uri": "https://localhost:8080/"
    },
    "id": "fd523a09",
    "outputId": "f740d8f5-c9e0-4e14-d33a-76a97bf71049"
   },
   "outputs": [
    {
     "data": {
      "text/plain": [
       "139"
      ]
     },
     "execution_count": 10,
     "metadata": {},
     "output_type": "execute_result"
    }
   ],
   "source": [
    "len(docs)"
   ]
  },
  {
   "cell_type": "code",
   "execution_count": null,
   "id": "359244c8",
   "metadata": {
    "id": "359244c8"
   },
   "outputs": [],
   "source": [
    "# docs[110]"
   ]
  },
  {
   "cell_type": "code",
   "execution_count": 4,
   "id": "6d08bf4b",
   "metadata": {
    "id": "6d08bf4b"
   },
   "outputs": [],
   "source": [
    "uri= \"neo4j+s://691cf4c8.databases.neo4j.io\"\n",
    "username= \"neo4j\"\n",
    "password= \"V7oAh2uCKq7ivrzqZwRIk5FPRLi0SGUVnycxH1Xjwmo\""
   ]
  },
  {
   "cell_type": "code",
   "execution_count": null,
   "id": "26723a52",
   "metadata": {
    "id": "26723a52"
   },
   "outputs": [],
   "source": [
    "db = Neo4jVector.from_documents(\n",
    "    docs, embeddings, url=uri, username=username, password=password,\n",
    "    search_type=\"hybrid\"\n",
    ")"
   ]
  },
  {
   "cell_type": "code",
   "execution_count": null,
   "id": "07aef2d9",
   "metadata": {
    "id": "07aef2d9"
   },
   "outputs": [],
   "source": [
    "query = \"name the satelitte project in sriharikotta\"\n",
    "docs_with_score = db.similarity_search_with_score(query, k=2)"
   ]
  },
  {
   "cell_type": "code",
   "execution_count": null,
   "id": "c875462b",
   "metadata": {
    "id": "c875462b",
    "outputId": "140144c0-70ba-4c13-952f-5fbe1026be9c"
   },
   "outputs": [
    {
     "data": {
      "text/plain": [
       "[(Document(metadata={'linked_domains': ['www.mosdac.gov.in'], 'seq_num': 10, 'image_count': 11, 'url': 'https://www.mosdac.gov.in/about-us', 'title': 'You are here', 'source': '/Users/sec22ad081/Desktop/kg/data.json', 'pdf_count': 1, 'categories': ['You are here', 'Search', 'Secondary menu', 'About Us', 'Follow Us'], 'nav_path': ['Homepage', 'www.mosdac.gov.in', 'imageshow', 'terms-conditions', 'copyright-policy'], 'total_anchors': 60, 'page_name': 'about-us', 'video_count': 0}, page_content='Secondary menu\\nYou are here\\nAbout Us\\nSearch\\nFollow Us\\nSkip to main Content\\nSpace Applications Centre (SAC) is an ISRO Centre located at Ahmedabad, dealing with a wide variety of themes from satellite payload development, operational data reception and processing to societal applications. SAC is responsible for the development, realization and qualification of communication, navigation, earth observation and planetary payloads and related data processing and ground systems in the areas of communications, broadcasting, remote sensing and disaster monitoring / mitigation. Meteorological and Oceanographic Satellite Data Archival Centre (MOSDAC) is a Data Centre of Space Applications Centre (SAC) and has facility for satellite data reception, processing, analysis and dissemination. MOSDAC is operationally supplying earth observation data from Indian meteorology and oceanography satellites, to cater to national and international research requirements.\\nWebsite owned and maintained by MOSDAC, Space Applications Centre, Indian Space Research Organisation, Govt. of INDIA.\\n\"Ver 3.0; Last reviewed and updated on\\n02 Jul, 2025& Served By:\\nWeb-Srv-Pri'),\n",
       "  1.0),\n",
       " (Document(metadata={'source': 'sample.txt'}, page_content='SARAL-AltiKa\\nSARAL mission results from the common interest of both CNES and ISRO in studying ocean from space using altimetry system and in promoting maximum use of the ARGOS Data Collecting System. Radar altimetry by satellite is a technique used in oceanography to measure, globally over the oceans, the sea level needed to understand ocean circulation and its variability. The importance of altimetry data to better understand the ocean circulation and its impact on the climate of the Earth led to the TOPEX/Poseidon and Jason series of satellites complemented by ERS1-2, GFO and ENVISAT. With the launch of these missions began a data collection that must continue well into the century in order to monitor the inter-annual evolution and separate transient phenomena from secular variations. SARAL/AltiKa mission belongs to the global altimetry system and then participates to the precise and accurate observations of ocean circulation and sea surface elevation for its life time. Thus it is the aim of AltiKa part of the SARAL mission to provide altimetric measurements designed to study ocean circulation and sea surface elevation with the same accuracy as the one provided by ENVISAT mission and complementary to Jasons mission. The AltiKa project developed by CNES is based on a large Ka-band altimeter (35.75 GHz, 500MHz), 1st oceanographic altimeter using such a high frequency. The use of the Ka-band frequency will supply more accurate measurements (improvement of the spatial and vertical resolution) enabling a better observation of ices, coastal areas, continental water bodies as well as the waves height. The drawback of this Ka-band frequency is its sensitivity to rain that can lead to signal attenuation. The SARAL/AltiKa mission is part of the operational satellite altimetry system, jointly with Jason-2, and enables to ensure the service continuity which is nowadays provided by ENVISAT altimeter jointly with Jason-2 and Jason-1. By ensuring the observations continuity and widening the observation areas, CNES answers the wish of the oceanography community by bringing a description: For the meso-scale in open ocean,, In coastal areas, For the seasonal forecast, For the hydrology, For the climate studies. AltiKa data will thus contribute, along with data from others altimetry missions, to the development of operational oceanography, to our climate understanding and to the development of forecasting capabilities through data assimilation methods improvement in coupled oceanatmosphere coupling models, bio-chemistry models, etc'),\n",
       "  1.0)]"
      ]
     },
     "execution_count": 22,
     "metadata": {},
     "output_type": "execute_result"
    }
   ],
   "source": [
    "docs_with_score"
   ]
  },
  {
   "cell_type": "code",
   "execution_count": null,
   "id": "4bebe0bd",
   "metadata": {
    "id": "4bebe0bd"
   },
   "outputs": [],
   "source": [
    "from langchain_experimental.graph_transformers import LLMGraphTransformer"
   ]
  },
  {
   "cell_type": "code",
   "execution_count": 5,
   "id": "ca03d488",
   "metadata": {
    "id": "ca03d488"
   },
   "outputs": [],
   "source": [
    "from langchain.chat_models import init_chat_model"
   ]
  },
  {
   "cell_type": "code",
   "execution_count": 6,
   "id": "eaef1db9",
   "metadata": {
    "id": "eaef1db9"
   },
   "outputs": [],
   "source": [
    "llm = init_chat_model(model ='mistral',model_provider='ollama')\n",
    "# llm = init_chat_model(model = \"llama-3.3-70b-versatile\",model_provider='groq')"
   ]
  },
  {
   "cell_type": "code",
   "execution_count": null,
   "id": "be434769",
   "metadata": {
    "id": "be434769"
   },
   "outputs": [],
   "source": [
    "llm_transformer = LLMGraphTransformer(llm=llm)"
   ]
  },
  {
   "cell_type": "code",
   "execution_count": null,
   "id": "0c1618ba",
   "metadata": {
    "id": "0c1618ba"
   },
   "outputs": [],
   "source": [
    "graph_documents = await llm_transformer.aconvert_to_graph_documents(docs[:2])"
   ]
  },
  {
   "cell_type": "code",
   "execution_count": null,
   "id": "aabb66b3",
   "metadata": {
    "colab": {
     "base_uri": "https://localhost:8080/"
    },
    "id": "aabb66b3",
    "outputId": "fdfaef11-d29c-4223-cee4-5e03c81de629"
   },
   "outputs": [
    {
     "name": "stdout",
     "output_type": "stream",
     "text": [
      "Nodes:[Node(id='Meteorological & Oceanographic Satellite Data Archival Centre', type='Organization', properties={}), Node(id='Indian Space Research Organisation', type='Organization', properties={}), Node(id='Govt. Of India', type='Organization', properties={})]\n",
      "Relationships:[Relationship(source=Node(id='Meteorological & Oceanographic Satellite Data Archival Centre', type='Organization', properties={}), target=Node(id='Indian Space Research Organisation', type='Organization', properties={}), type='MAINTAINED_BY', properties={}), Relationship(source=Node(id='Indian Space Research Organisation', type='Organization', properties={}), target=Node(id='Govt. Of India', type='Organization', properties={}), type='GOVERNED_BY', properties={})]\n"
     ]
    }
   ],
   "source": [
    "print(f\"Nodes:{graph_documents[1].nodes}\")\n",
    "print(f\"Relationships:{graph_documents[1].relationships}\")"
   ]
  },
  {
   "cell_type": "code",
   "execution_count": null,
   "id": "f06d84c7",
   "metadata": {
    "colab": {
     "base_uri": "https://localhost:8080/"
    },
    "id": "f06d84c7",
    "outputId": "3ef56aa0-3c90-49af-9945-4fafec8ade72"
   },
   "outputs": [
    {
     "data": {
      "text/plain": [
       "[Node(id='Meteorological & Oceanographic Satellite Data Archival Centre', type='Organization', properties={}),\n",
       " Node(id='Indian Space Research Organisation', type='Organization', properties={}),\n",
       " Node(id='Govt. Of India', type='Organization', properties={})]"
      ]
     },
     "execution_count": 97,
     "metadata": {},
     "output_type": "execute_result"
    }
   ],
   "source": [
    "graph_documents[1].nodes"
   ]
  },
  {
   "cell_type": "code",
   "execution_count": 8,
   "id": "5a07d4ad",
   "metadata": {
    "id": "5a07d4ad"
   },
   "outputs": [],
   "source": [
    "graph = Neo4jGraph(url=uri, username=username, password=password)"
   ]
  },
  {
   "cell_type": "code",
   "execution_count": null,
   "id": "9125bf83",
   "metadata": {
    "id": "9125bf83"
   },
   "outputs": [],
   "source": [
    "graph.add_graph_documents(graph_documents)"
   ]
  },
  {
   "cell_type": "code",
   "execution_count": null,
   "id": "wdHARhuKHVSn",
   "metadata": {
    "colab": {
     "base_uri": "https://localhost:8080/"
    },
    "id": "wdHARhuKHVSn",
    "outputId": "07bb9951-6eed-4ed6-8738-e6e4c7b68055"
   },
   "outputs": [
    {
     "name": "stdout",
     "output_type": "stream",
     "text": [
      "\u001b[2K   \u001b[90m━━━━━━━━━━━━━━━━━━━━━━━━━━━━━━━━━━━━━━━━\u001b[0m \u001b[32m15.7/15.7 MB\u001b[0m \u001b[31m104.3 MB/s\u001b[0m eta \u001b[36m0:00:00\u001b[0m\n",
      "\u001b[2K   \u001b[90m━━━━━━━━━━━━━━━━━━━━━━━━━━━━━━━━━━━━━━━━\u001b[0m \u001b[32m1.6/1.6 MB\u001b[0m \u001b[31m19.3 MB/s\u001b[0m eta \u001b[36m0:00:00\u001b[0m\n",
      "\u001b[?25h"
     ]
    }
   ],
   "source": [
    "!pip install yfiles_jupyter_graphs -qqq"
   ]
  },
  {
   "cell_type": "code",
   "execution_count": null,
   "id": "a90d4caa",
   "metadata": {
    "id": "a90d4caa"
   },
   "outputs": [],
   "source": [
    "import os\n",
    "from neo4j import GraphDatabase\n",
    "from IPython.display import display\n",
    "from yfiles_jupyter_graphs import GraphWidget  # Replace with actual widget library you're using\n",
    "\n",
    "def showGraph(cypher: str = \"MATCH (n)-[r]->(m) RETURN n, r, m\"):\n",
    "    # Create Neo4j driver using environment variables\n",
    "    driver = GraphDatabase.driver(\n",
    "        uri,\n",
    "        auth=(username, password)\n",
    "    )\n",
    "\n",
    "    # Create a session\n",
    "    with driver.session() as session:\n",
    "        # Run the Cypher query\n",
    "        result = session.run(cypher)\n",
    "\n",
    "        # Create graph widget\n",
    "        widget = GraphWidget(graph=result.graph())\n",
    "        widget.node_label_mapping = 'id'  # Adjust based on your node properties\n",
    "\n",
    "        # Display the widget\n",
    "        display(widget)\n",
    "\n",
    "    return widget"
   ]
  },
  {
   "cell_type": "code",
   "execution_count": null,
   "id": "0920d51d",
   "metadata": {
    "colab": {
     "base_uri": "https://localhost:8080/",
     "height": 1000,
     "referenced_widgets": [
      "f27a671ddc984249aab620ce607bb2cc",
      "1ed675f6cab140bd99436b3d75233c08"
     ]
    },
    "id": "0920d51d",
    "outputId": "b5761cb4-6af2-4b8c-b251-c7bbecd82eb9"
   },
   "outputs": [
    {
     "data": {
      "application/vnd.jupyter.widget-view+json": {
       "model_id": "f27a671ddc984249aab620ce607bb2cc",
       "version_major": 2,
       "version_minor": 0
      },
      "text/plain": [
       "GraphWidget(layout=Layout(height='800px', width='100%'))"
      ]
     },
     "metadata": {
      "application/vnd.jupyter.widget-view+json": {
       "colab": {
        "custom_widget_manager": {
         "url": "https://ssl.gstatic.com/colaboratory-static/widgets/colab-cdn-widget-manager/2b70e893a8ba7c0f/manager.min.js"
        }
       }
      }
     },
     "output_type": "display_data"
    },
    {
     "data": {
      "application/vnd.jupyter.widget-view+json": {
       "model_id": "f27a671ddc984249aab620ce607bb2cc",
       "version_major": 2,
       "version_minor": 0
      },
      "text/plain": [
       "GraphWidget(layout=Layout(height='800px', width='100%'))"
      ]
     },
     "metadata": {
      "application/vnd.jupyter.widget-view+json": {
       "colab": {
        "custom_widget_manager": {
         "url": "https://ssl.gstatic.com/colaboratory-static/widgets/colab-cdn-widget-manager/2b70e893a8ba7c0f/manager.min.js"
        }
       }
      }
     },
     "output_type": "display_data"
    }
   ],
   "source": [
    "showGraph()"
   ]
  },
  {
   "cell_type": "code",
   "execution_count": null,
   "id": "vFxiMhBsHlip",
   "metadata": {
    "id": "vFxiMhBsHlip"
   },
   "outputs": [],
   "source": [
    "from google.colab import output\n",
    "output.enable_custom_widget_manager()"
   ]
  },
  {
   "cell_type": "markdown",
   "id": "lZZZrCSLHliq",
   "metadata": {
    "id": "lZZZrCSLHliq"
   },
   "source": [
    "Support for third party widgets will remain active for the duration of the session. To disable support:"
   ]
  },
  {
   "cell_type": "code",
   "execution_count": null,
   "id": "X-juZLp5Hlir",
   "metadata": {
    "id": "X-juZLp5Hlir"
   },
   "outputs": [],
   "source": [
    "from google.colab import output\n",
    "output.disable_custom_widget_manager()"
   ]
  },
  {
   "cell_type": "code",
   "execution_count": null,
   "id": "qz9FHVRfH_6d",
   "metadata": {
    "colab": {
     "base_uri": "https://localhost:8080/",
     "height": 522
    },
    "id": "qz9FHVRfH_6d",
    "outputId": "4e0931c5-adb6-4c10-a9ff-5578ba7694e6"
   },
   "outputs": [
    {
     "data": {
      "application/vnd.google.colaboratory.intrinsic+json": {
       "type": "string"
      },
      "text/plain": [
       "'{\"url\": \"https://www.mosdac.gov.in\", \"title\": \"Meteorological & Oceanographic Satellite Data Archival Centre\", \"text\": \"Skip to main Content 3-hourly Weather forecast. Cold wave prediction over India (WRF Model) Sat. Based Cyclone Obser. and Realtime Pred. over IO. Heat Wave Prediction over India (WRF Model) Heavy Rain (>5mm/hr) forecast using NWP model. Lightning Forecast Monsoon Prediction 2024 Sea State forecast in terms of Wave Height, Wave period etc. 3 Days Solar and Wind Forecast for every 15 minutes Cloud Burst Nowcast for 6 hours\\\\u00a0over Western Himalayan region. Satellite based nowcast for Heavy rain events for 6 hours. AWS Time Series Heavy Rain Events Let\\'s Interactively Visualise the Earth (LIVE) Alerts for Indian States Alerts for\\\\u00a0South East Asian Countries Solar Energy Rainfall Air Quality Soil Wetness Index Sat. Based Cyclone Obser. and Realtime Pred. over IO. ALTIMETER LCS-CORES AND STRETCHING DIRECTIONS Ocean Subsurface Fields RIP Current Forecast for All-India beaches. Ocean State Forecast Eddy Currents Website owned and maintained by MOSDAC, Space Applications Centre, Indian Space Research Organisation, Govt. of INDIA. \\\\\"Ver 3.0; Last reviewed and updated on\\\\n06 Jul, 2025& Served By:\\\\nWeb-Srv-Pri\", \"headings\": [\"Meteorological & Oceanographic Satellite Data Archival Centre\", \"Secondary menu\", \"Services\", \"City Weather\", \"Cold Waves\", \"Cyclone\", \"Heat Waves\", \"Heavy Rain\", \"Lightning\", \"Monsoon\", \"Sea State\", \"Solar & Wind\", \"Cloud Burst\", \"Heavy Rain\", \"AWS Time Series\", \"Heavy Rain\", \"MOSDAC LIVE\", \"Indian State Portal\", \"South East Asian Countries\", \"Urja\", \"VARSHA\", \"VAYU\", \"Soil Moisture\", \"SCORPIO\", \"OIL SPILL\", \"Ocean Subsurface Fields\", \"Safe Beach\", \"Ocean-Eye\", \"Eddy Currents\", \"Announcements\", \"Search\", \"Follow Us\"], \"main_heading\": \"Meteorological & Oceanographic Satellite Data Archival Centre\", \"section_titles\": [\"Announcements\", \"Ocean-Eye\", \"Cloud Burst\", \"Sea State\", \"Soil Moisture\", \"Indian State Portal\", \"Cyclone\", \"VARSHA\", \"VAYU\", \"City Weather\", \"Secondary menu\", \"Eddy Currents\", \"Heavy Rain\", \"Solar & Wind\", \"Urja\", \"Cold Waves\", \"OIL SPILL\", \"Lightning\", \"South East Asian Countries\", \"Safe Beach\", \"Services\", \"Ocean Subsurface Fields\", \"MOSDAC LIVE\", \"AWS Time Series\", \"Follow Us\", \"Search\", \"Monsoon\", \"Heat Waves\", \"SCORPIO\"], \"table_count\": 0}'"
      ]
     },
     "execution_count": 63,
     "metadata": {},
     "output_type": "execute_result"
    }
   ],
   "source": [
    "docs[0].page_content"
   ]
  },
  {
   "cell_type": "code",
   "execution_count": null,
   "id": "_jyhT3MtJmuv",
   "metadata": {
    "id": "_jyhT3MtJmuv"
   },
   "outputs": [],
   "source": [
    "# ollm = init_chat_model(model='llama3.1:latest',model_provider='ollama')"
   ]
  },
  {
   "cell_type": "code",
   "execution_count": 9,
   "id": "01914083",
   "metadata": {
    "id": "01914083"
   },
   "outputs": [],
   "source": [
    "chain = GraphCypherQAChain.from_llm(\n",
    "    llm, graph=graph, verbose=True,\n",
    "    allow_dangerous_requests=True\n",
    ")"
   ]
  },
  {
   "cell_type": "code",
   "execution_count": 12,
   "id": "8a46e1e5",
   "metadata": {
    "colab": {
     "base_uri": "https://localhost:8080/",
     "height": 229
    },
    "id": "8a46e1e5",
    "outputId": "ef408e4d-db3d-431e-c238-ba5aba6bc3b2"
   },
   "outputs": [
    {
     "name": "stdout",
     "output_type": "stream",
     "text": [
      "\n",
      "\n",
      "\u001b[1m> Entering new GraphCypherQAChain chain...\u001b[0m\n",
      "Generated Cypher:\n",
      "\u001b[32;1m\u001b[1;3m MATCH (system:System)-[:SENDS_DATA_TO]->(receiver:System)\n",
      "RETURN receiver\u001b[0m\n",
      "Full Context:\n",
      "\u001b[32;1m\u001b[1;3m[{'receiver': {'id': 'Data Processing System'}}, {'receiver': {'id': 'Product Generation And Dissemination System'}}]\u001b[0m\n",
      "\n",
      "\u001b[1m> Finished chain.\u001b[0m\n"
     ]
    },
    {
     "data": {
      "application/vnd.google.colaboratory.intrinsic+json": {
       "type": "string"
      },
      "text/plain": [
       "' The Data Processing System sends data to the Product Generation and Dissemination System.'"
      ]
     },
     "execution_count": 12,
     "metadata": {},
     "output_type": "execute_result"
    }
   ],
   "source": [
    "chain.run(\"where the data processing system sends data?\")"
   ]
  },
  {
   "cell_type": "code",
   "execution_count": null,
   "id": "e23e0ef8",
   "metadata": {
    "id": "e23e0ef8"
   },
   "outputs": [],
   "source": [
    "#it is just initial RnD of this project\n",
    "#and we successfully completed the ground work and now it is devoloping efficiently"
   ]
  }
 ],
 "metadata": {
  "accelerator": "GPU",
  "colab": {
   "gpuType": "T4",
   "provenance": []
  },
  "kernelspec": {
   "display_name": "Python 3",
   "name": "python3"
  },
  "language_info": {
   "codemirror_mode": {
    "name": "ipython",
    "version": 3
   },
   "file_extension": ".py",
   "mimetype": "text/x-python",
   "name": "python",
   "nbconvert_exporter": "python",
   "pygments_lexer": "ipython3",
   "version": "3.13.2"
  }
 },
 "nbformat": 4,
 "nbformat_minor": 5
}
