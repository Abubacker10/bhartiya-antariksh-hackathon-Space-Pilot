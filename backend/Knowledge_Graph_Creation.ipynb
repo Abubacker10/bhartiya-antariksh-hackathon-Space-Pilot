{
  "cells": [
    {
      "cell_type": "code",
      "source": [
        "!pip install colab-xterm #https://pypi.org/project/colab-xterm/\n",
        "%load_ext colabxterm\n",
        "\n",
        "!pip install colab-xterm -qqq\n",
        "!pip install langchain -qqq\n",
        "!pip install langchain_community -qqq"
      ],
      "metadata": {
        "colab": {
          "base_uri": "https://localhost:8080/"
        },
        "id": "q1yr4nUCERC1",
        "outputId": "19492f4f-2000-41a1-ae07-feab8340276d"
      },
      "id": "q1yr4nUCERC1",
      "execution_count": 1,
      "outputs": [
        {
          "output_type": "stream",
          "name": "stdout",
          "text": [
            "Collecting colab-xterm\n",
            "  Downloading colab_xterm-0.2.0-py3-none-any.whl.metadata (1.2 kB)\n",
            "Requirement already satisfied: ptyprocess~=0.7.0 in /usr/local/lib/python3.11/dist-packages (from colab-xterm) (0.7.0)\n",
            "Requirement already satisfied: tornado>5.1 in /usr/local/lib/python3.11/dist-packages (from colab-xterm) (6.4.2)\n",
            "Downloading colab_xterm-0.2.0-py3-none-any.whl (115 kB)\n",
            "\u001b[?25l   \u001b[90m━━━━━━━━━━━━━━━━━━━━━━━━━━━━━━━━━━━━━━━━\u001b[0m \u001b[32m0.0/115.6 kB\u001b[0m \u001b[31m?\u001b[0m eta \u001b[36m-:--:--\u001b[0m\r\u001b[2K   \u001b[90m━━━━━━━━━━━━━━━━━━━━━━━━━━━━━━━━━━━━━━━━\u001b[0m \u001b[32m115.6/115.6 kB\u001b[0m \u001b[31m11.0 MB/s\u001b[0m eta \u001b[36m0:00:00\u001b[0m\n",
            "\u001b[?25hInstalling collected packages: colab-xterm\n",
            "Successfully installed colab-xterm-0.2.0\n",
            "\u001b[2K   \u001b[90m━━━━━━━━━━━━━━━━━━━━━━━━━━━━━━━━━━━━━━━━\u001b[0m \u001b[32m2.5/2.5 MB\u001b[0m \u001b[31m46.3 MB/s\u001b[0m eta \u001b[36m0:00:00\u001b[0m\n",
            "\u001b[2K   \u001b[90m━━━━━━━━━━━━━━━━━━━━━━━━━━━━━━━━━━━━━━━━\u001b[0m \u001b[32m45.2/45.2 kB\u001b[0m \u001b[31m3.0 MB/s\u001b[0m eta \u001b[36m0:00:00\u001b[0m\n",
            "\u001b[2K   \u001b[90m━━━━━━━━━━━━━━━━━━━━━━━━━━━━━━━━━━━━━━━━\u001b[0m \u001b[32m50.9/50.9 kB\u001b[0m \u001b[31m3.1 MB/s\u001b[0m eta \u001b[36m0:00:00\u001b[0m\n",
            "\u001b[?25h"
          ]
        }
      ]
    },
    {
      "cell_type": "code",
      "source": [
        "!pip install langchain_neo4j -qqq\n",
        "!pip install langchain_openai  -qqq\n",
        "!pip install langchain_google_genai  -qqq\n",
        "!pip install langchain_huggingface -qqq\n",
        "!pip install langchain_experimental -qqq\n",
        "!pip install jq -qqq"
      ],
      "metadata": {
        "colab": {
          "base_uri": "https://localhost:8080/"
        },
        "id": "7xU1knzoEhvF",
        "outputId": "a96819ec-d84b-4837-f4b8-9428eede0c6f"
      },
      "id": "7xU1knzoEhvF",
      "execution_count": 2,
      "outputs": [
        {
          "output_type": "stream",
          "name": "stdout",
          "text": [
            "\u001b[?25l   \u001b[90m━━━━━━━━━━━━━━━━━━━━━━━━━━━━━━━━━━━━━━━━\u001b[0m \u001b[32m0.0/312.3 kB\u001b[0m \u001b[31m?\u001b[0m eta \u001b[36m-:--:--\u001b[0m\r\u001b[2K   \u001b[90m━━━━━━━━━━━━━━━━━━━━━━━━━━━━━━━━━━━━━━━━\u001b[0m \u001b[32m312.3/312.3 kB\u001b[0m \u001b[31m15.8 MB/s\u001b[0m eta \u001b[36m0:00:00\u001b[0m\n",
            "\u001b[?25h\u001b[?25l   \u001b[90m━━━━━━━━━━━━━━━━━━━━━━━━━━━━━━━━━━━━━━━━\u001b[0m \u001b[32m0.0/189.7 kB\u001b[0m \u001b[31m?\u001b[0m eta \u001b[36m-:--:--\u001b[0m\r\u001b[2K   \u001b[90m━━━━━━━━━━━━━━━━━━━━━━━━━━━━━━━━━━━━━━━━\u001b[0m \u001b[32m189.7/189.7 kB\u001b[0m \u001b[31m12.6 MB/s\u001b[0m eta \u001b[36m0:00:00\u001b[0m\n",
            "\u001b[?25h\u001b[?25l   \u001b[90m━━━━━━━━━━━━━━━━━━━━━━━━━━━━━━━━━━━━━━━━\u001b[0m \u001b[32m0.0/183.9 kB\u001b[0m \u001b[31m?\u001b[0m eta \u001b[36m-:--:--\u001b[0m\r\u001b[2K   \u001b[90m━━━━━━━━━━━━━━━━━━━━━━━━━━━━━━━━━━━━━━━━\u001b[0m \u001b[32m183.9/183.9 kB\u001b[0m \u001b[31m15.7 MB/s\u001b[0m eta \u001b[36m0:00:00\u001b[0m\n",
            "\u001b[?25h\u001b[?25l   \u001b[90m━━━━━━━━━━━━━━━━━━━━━━━━━━━━━━━━━━━━━━━━\u001b[0m \u001b[32m0.0/305.5 kB\u001b[0m \u001b[31m?\u001b[0m eta \u001b[36m-:--:--\u001b[0m\r\u001b[2K   \u001b[90m━━━━━━━━━━━━━━━━━━━━━━━━━━━━━━━━━━━━━━━━\u001b[0m \u001b[32m305.5/305.5 kB\u001b[0m \u001b[31m22.6 MB/s\u001b[0m eta \u001b[36m0:00:00\u001b[0m\n",
            "\u001b[?25h\u001b[31mERROR: pip's dependency resolver does not currently take into account all the packages that are installed. This behaviour is the source of the following dependency conflicts.\n",
            "torch 2.6.0+cu124 requires nvidia-cublas-cu12==12.4.5.8; platform_system == \"Linux\" and platform_machine == \"x86_64\", but you have nvidia-cublas-cu12 12.5.3.2 which is incompatible.\n",
            "torch 2.6.0+cu124 requires nvidia-cuda-cupti-cu12==12.4.127; platform_system == \"Linux\" and platform_machine == \"x86_64\", but you have nvidia-cuda-cupti-cu12 12.5.82 which is incompatible.\n",
            "torch 2.6.0+cu124 requires nvidia-cuda-nvrtc-cu12==12.4.127; platform_system == \"Linux\" and platform_machine == \"x86_64\", but you have nvidia-cuda-nvrtc-cu12 12.5.82 which is incompatible.\n",
            "torch 2.6.0+cu124 requires nvidia-cuda-runtime-cu12==12.4.127; platform_system == \"Linux\" and platform_machine == \"x86_64\", but you have nvidia-cuda-runtime-cu12 12.5.82 which is incompatible.\n",
            "torch 2.6.0+cu124 requires nvidia-cudnn-cu12==9.1.0.70; platform_system == \"Linux\" and platform_machine == \"x86_64\", but you have nvidia-cudnn-cu12 9.3.0.75 which is incompatible.\n",
            "torch 2.6.0+cu124 requires nvidia-cufft-cu12==11.2.1.3; platform_system == \"Linux\" and platform_machine == \"x86_64\", but you have nvidia-cufft-cu12 11.2.3.61 which is incompatible.\n",
            "torch 2.6.0+cu124 requires nvidia-curand-cu12==10.3.5.147; platform_system == \"Linux\" and platform_machine == \"x86_64\", but you have nvidia-curand-cu12 10.3.6.82 which is incompatible.\n",
            "torch 2.6.0+cu124 requires nvidia-cusolver-cu12==11.6.1.9; platform_system == \"Linux\" and platform_machine == \"x86_64\", but you have nvidia-cusolver-cu12 11.6.3.83 which is incompatible.\n",
            "torch 2.6.0+cu124 requires nvidia-cusparse-cu12==12.3.1.170; platform_system == \"Linux\" and platform_machine == \"x86_64\", but you have nvidia-cusparse-cu12 12.5.1.3 which is incompatible.\n",
            "torch 2.6.0+cu124 requires nvidia-nvjitlink-cu12==12.4.127; platform_system == \"Linux\" and platform_machine == \"x86_64\", but you have nvidia-nvjitlink-cu12 12.5.82 which is incompatible.\n",
            "gcsfs 2025.3.2 requires fsspec==2025.3.2, but you have fsspec 2024.12.0 which is incompatible.\u001b[0m\u001b[31m\n",
            "\u001b[2K   \u001b[90m━━━━━━━━━━━━━━━━━━━━━━━━━━━━━━━━━━━━━━━━\u001b[0m \u001b[32m70.4/70.4 kB\u001b[0m \u001b[31m7.7 MB/s\u001b[0m eta \u001b[36m0:00:00\u001b[0m\n",
            "\u001b[2K   \u001b[90m━━━━━━━━━━━━━━━━━━━━━━━━━━━━━━━━━━━━━━━━\u001b[0m \u001b[32m47.4/47.4 kB\u001b[0m \u001b[31m4.5 MB/s\u001b[0m eta \u001b[36m0:00:00\u001b[0m\n",
            "\u001b[2K   \u001b[90m━━━━━━━━━━━━━━━━━━━━━━━━━━━━━━━━━━━━━━━━\u001b[0m \u001b[32m1.4/1.4 MB\u001b[0m \u001b[31m60.7 MB/s\u001b[0m eta \u001b[36m0:00:00\u001b[0m\n",
            "\u001b[2K   \u001b[90m━━━━━━━━━━━━━━━━━━━━━━━━━━━━━━━━━━━━━━━━\u001b[0m \u001b[32m441.4/441.4 kB\u001b[0m \u001b[31m35.2 MB/s\u001b[0m eta \u001b[36m0:00:00\u001b[0m\n",
            "\u001b[?25h\u001b[31mERROR: pip's dependency resolver does not currently take into account all the packages that are installed. This behaviour is the source of the following dependency conflicts.\n",
            "google-generativeai 0.8.5 requires google-ai-generativelanguage==0.6.15, but you have google-ai-generativelanguage 0.6.18 which is incompatible.\u001b[0m\u001b[31m\n",
            "\u001b[2K   \u001b[90m━━━━━━━━━━━━━━━━━━━━━━━━━━━━━━━━━━━━━━━━\u001b[0m \u001b[32m209.2/209.2 kB\u001b[0m \u001b[31m16.9 MB/s\u001b[0m eta \u001b[36m0:00:00\u001b[0m\n",
            "\u001b[2K   \u001b[90m━━━━━━━━━━━━━━━━━━━━━━━━━━━━━━━━━━━━━━━━\u001b[0m \u001b[32m754.3/754.3 kB\u001b[0m \u001b[31m37.2 MB/s\u001b[0m eta \u001b[36m0:00:00\u001b[0m\n",
            "\u001b[?25h"
          ]
        }
      ]
    },
    {
      "cell_type": "code",
      "execution_count": 3,
      "id": "91fa3477",
      "metadata": {
        "id": "91fa3477"
      },
      "outputs": [],
      "source": [
        "from langchain.docstore.document import Document\n",
        "from langchain.text_splitter import CharacterTextSplitter\n",
        "from langchain_community.document_loaders import TextLoader,JSONLoader\n",
        "from langchain_neo4j import Neo4jVector,Neo4jGraph,GraphCypherQAChain\n",
        "from langchain_openai import OpenAIEmbeddings"
      ]
    },
    {
      "cell_type": "code",
      "execution_count": null,
      "id": "b375d3cb",
      "metadata": {
        "id": "b375d3cb"
      },
      "outputs": [],
      "source": [
        "# from langchain_google_genai import GoogleGenerativeAIEmbeddings\n",
        "\n",
        "# embeddings = GoogleGenerativeAIEmbeddings(model=\"models/gemini-embedding-exp-03-07\")"
      ]
    },
    {
      "cell_type": "code",
      "execution_count": null,
      "id": "3bcc908d",
      "metadata": {
        "colab": {
          "base_uri": "https://localhost:8080/",
          "height": 493,
          "referenced_widgets": [
            "b0826090852c46a09e0324938f6bdb7b",
            "a4198ef065194492a7461b45dfc541fa",
            "7707690ae3fe472e84808fb517f8d035",
            "d7fbd86f40974c0e8bcc3bd031b54c4e",
            "d2dac5ca285641b794bcac6a83ed4aa7",
            "3d675ead219d4afa8a1c583d0cf98b21",
            "5ecda912e7fc4b52a641081b7e4b8b61",
            "d24fb54bd6f7489a9a27c95631329674",
            "72bca3ff344e403a8d54c78dba00fa1f",
            "ff1120f0259d44faa64f047384c379b4",
            "1625d587d5134d7a9fb0821c3f6f066f",
            "8eb0c7eba9234c499fd86d346924212e",
            "e2a7b9f4864e41078cb3132d55999d08",
            "030210062a4f4490a3153a457b19b3f7",
            "c555d3d0eb7345618d251c2beb585922",
            "73acab5f4a7d4bf6b39ea6ff816c96cc",
            "407457322b7b486aa52de6d24a5247a0",
            "14c77fdb983d421d9cfe69948b911699",
            "3df5d337825d4d51bc8d337a63e05f9f",
            "7a647e5773574bce9a060f282ecd017b",
            "a14d1f241c94474a987eef2f802f000d",
            "75941c4e7ce841bb80a93351830cb032",
            "05d13ac9562243828bfa154a82846c80",
            "26402a63181441a6965c23f8a35d63d0",
            "c9a496cf7cc4490cbeaee73998232b4c",
            "b85d06ef513c4fffae908d41e24fc0f4",
            "5c5cf46757554d41893b896b1f36b373",
            "cee8ed34de8a4805aaf59beaecbc290b",
            "48d2ea5367a140f7a4106b7731e81ff1",
            "71a22f758c2245feb263cae40ca87052",
            "aa1b6e409e1249ae8d376b7975e4c881",
            "c41c14fd797d4e0fabe1b8cef03e8716",
            "b087ba0c6e0b4e949f54df5f6374a342",
            "a4dc75a323bc46c2abefef12c99e58d5",
            "f7045c3b76844a3f8c5df6fe3b94abe3",
            "b49bcac76b3c45ceac22315f1a5b6380",
            "22f4f1062a6c4df288f7d42016030baf",
            "7aed057acdc2427e9053aea815b12d79",
            "2bfc33babb8d45cbb43d6d3a001ecb10",
            "55ece95c76d94960a804f466909d1584",
            "fa73e7ececcc44269ae9015071234da3",
            "061cf8f1fe504add8e5830096eafb79a",
            "f99b42078ec149a0a86cc698ce9cee13",
            "b477f870d31e4835bfcc129bee498feb",
            "a55fa01dbeea45f1a3841b36c2afd47d",
            "df94bb9bd74d4731a597e48bbe95c9bf",
            "2abf45ef2d4e44f5b3b4d6e537ab2a5a",
            "81985119abda40ec91651bb795427d9f",
            "bc86f964952d42f8a32bcac8d0706c2d",
            "0fcc71c1e0b94a4cb835fb2ddbc41ef3",
            "552e947f0b064839b545c066ac990fc6",
            "ae45883f003d433b8a4f12fdabad146b",
            "e0cc7b9f456041338e78b3b7e04efe17",
            "a19a077326c040aca6feb09633148874",
            "00e436c3df1743c9bec02f39f868b3a4",
            "73133810367046cbb02af342705f1917",
            "8b53af5a684c42ec9f2345e22896000a",
            "49eac08aa2af4af587bfc9a021d4c27c",
            "26a0e7f67760442b8cacbc9dea4bcec8",
            "58197c9d60f14350af5afb7b250354ed",
            "409185b861954d669d64ba5531de01b6",
            "8f96422563db41bab42c01fc64d95398",
            "5d8b2e94d86242f1a47790f9d0b54ba4",
            "3868ba9bdd3d431486f1b21eb6645cd2",
            "de39c8ba0ae44b9785210fb9d5cf761c",
            "d0b653f415eb49eab55cca31cdb0dee4",
            "4386a916507f40eb84a416448f5625ca",
            "cf9f4d901a994645a88785e7ab099140",
            "b25980b7d39b4d8bb03d0cc9f2b6f5a1",
            "6798a9a1c27e43968c0b5c912fba7ac7",
            "53fc401779a445d8ae21af6dcc9bcd8f",
            "8c823e8ba3ed4be4b1cd075da20a19f1",
            "e792a80fd91d4ada90fd84a8c4f7217b",
            "f790ede0bc5d4c13ab044c18e3a01715",
            "e2cc8706b4eb4b29a6d05de2d3f17ad7",
            "528a8c175f494d18902f3acae2884ac9",
            "7b0b660d15664260afb6f7a65c8b90ec",
            "5d208c9ee89d48aa962041c9c20a8d2d",
            "3dc48be608a64453aacb00f299293b86",
            "2d307324202145dc8001bc61340dad10",
            "2e9188ecdfa9477683bf5eb726c0de8b",
            "77e9792365ca457e876eb9a3245ba3c0",
            "37beeebd6d2b48c7a473aed3235eb4c5",
            "ed372a9643f145468f6650ffa05000a0",
            "a17d362907d147698a30c90fff77e0f4",
            "b12a33027ea74f228332934ed8711b38",
            "e10aa37830304667ae9ec1ad3cf9be04",
            "cec53797a0f147a3b3d1249ea50e1a24",
            "761a435120974f44a7bc2cb990f06ff0",
            "20f0d45834d344d981e3f37261f847f4",
            "24ecaaf085a641158c2f329d5fd481f4",
            "1a10fbf5cb9843ec90a6351d6e112de7",
            "f0ccae41e2c240cd90525e867d32dd28",
            "326413f1d9f0447e8ef5b18e07d84d1f",
            "ec116dc8c90148cc8d8aabb8b79675d8",
            "bd001494a13b409e906e9121bfecb996",
            "2fd340b133dd40e68bb9441b0cad506a",
            "40c6e05724e242a1b23bdb8cabe90d87",
            "2a4e613019fe4a209e4fe1abd9a0f986",
            "825ba97f4f4f4ba990945b53aefbc9c3",
            "0063c1af940e4997834a50b05c9be83c",
            "9621b479449c4693a2c157d30e11469b",
            "5ec890589f8349f6bb4f77254750452c",
            "7006208bffd44ce3be675a55c64a4a2e",
            "58df4c3f68c047deb738a6297a696e04",
            "af7213250b7e410188c4cdec9f1ead7c",
            "0dca95702533400fa6d06e8c6b5860e8",
            "818c2484afec4f6f81ee334d048090a7",
            "5222e66670ff4bc5ae5e7ee2e70bc02d",
            "9aed532b6c6f40b09ee2343cebdfd23d",
            "b641c7341b79433299b1ac111e12c7c9",
            "a06c5f00e798422a864dd310e61b4113",
            "599844e3d1a34a228b26246432ca0e2a",
            "f8393249a9b6460abf017cacd6c7990f",
            "50edcb635bb14c7ea011d17445c932f1",
            "035cb19d33e4432f826c79aabff3def6",
            "3fe86f3d225444d4a661b743ae8c9580",
            "fb62604bd6ef4a9bbdff247d1bcd2f43",
            "057ccda0764d4c978347065aaf76334d",
            "f7a2e1c83502408f9bbf2bf00a3ebf56",
            "5298c536b11b4d28b304b7808fd0aea5"
          ]
        },
        "id": "3bcc908d",
        "outputId": "a43c2da7-e92e-4000-8189-29cf2e8338db"
      },
      "outputs": [
        {
          "output_type": "stream",
          "name": "stderr",
          "text": [
            "/usr/local/lib/python3.11/dist-packages/huggingface_hub/utils/_auth.py:94: UserWarning: \n",
            "The secret `HF_TOKEN` does not exist in your Colab secrets.\n",
            "To authenticate with the Hugging Face Hub, create a token in your settings tab (https://huggingface.co/settings/tokens), set it as secret in your Google Colab and restart your session.\n",
            "You will be able to reuse this secret in all of your notebooks.\n",
            "Please note that authentication is recommended but still optional to access public models or datasets.\n",
            "  warnings.warn(\n"
          ]
        },
        {
          "output_type": "display_data",
          "data": {
            "text/plain": [
              "modules.json:   0%|          | 0.00/349 [00:00<?, ?B/s]"
            ],
            "application/vnd.jupyter.widget-view+json": {
              "version_major": 2,
              "version_minor": 0,
              "model_id": "b0826090852c46a09e0324938f6bdb7b"
            }
          },
          "metadata": {}
        },
        {
          "output_type": "display_data",
          "data": {
            "text/plain": [
              "config_sentence_transformers.json:   0%|          | 0.00/116 [00:00<?, ?B/s]"
            ],
            "application/vnd.jupyter.widget-view+json": {
              "version_major": 2,
              "version_minor": 0,
              "model_id": "8eb0c7eba9234c499fd86d346924212e"
            }
          },
          "metadata": {}
        },
        {
          "output_type": "display_data",
          "data": {
            "text/plain": [
              "README.md: 0.00B [00:00, ?B/s]"
            ],
            "application/vnd.jupyter.widget-view+json": {
              "version_major": 2,
              "version_minor": 0,
              "model_id": "05d13ac9562243828bfa154a82846c80"
            }
          },
          "metadata": {}
        },
        {
          "output_type": "display_data",
          "data": {
            "text/plain": [
              "sentence_bert_config.json:   0%|          | 0.00/53.0 [00:00<?, ?B/s]"
            ],
            "application/vnd.jupyter.widget-view+json": {
              "version_major": 2,
              "version_minor": 0,
              "model_id": "a4dc75a323bc46c2abefef12c99e58d5"
            }
          },
          "metadata": {}
        },
        {
          "output_type": "display_data",
          "data": {
            "text/plain": [
              "config.json:   0%|          | 0.00/571 [00:00<?, ?B/s]"
            ],
            "application/vnd.jupyter.widget-view+json": {
              "version_major": 2,
              "version_minor": 0,
              "model_id": "a55fa01dbeea45f1a3841b36c2afd47d"
            }
          },
          "metadata": {}
        },
        {
          "output_type": "display_data",
          "data": {
            "text/plain": [
              "model.safetensors:   0%|          | 0.00/438M [00:00<?, ?B/s]"
            ],
            "application/vnd.jupyter.widget-view+json": {
              "version_major": 2,
              "version_minor": 0,
              "model_id": "73133810367046cbb02af342705f1917"
            }
          },
          "metadata": {}
        },
        {
          "output_type": "display_data",
          "data": {
            "text/plain": [
              "tokenizer_config.json:   0%|          | 0.00/363 [00:00<?, ?B/s]"
            ],
            "application/vnd.jupyter.widget-view+json": {
              "version_major": 2,
              "version_minor": 0,
              "model_id": "4386a916507f40eb84a416448f5625ca"
            }
          },
          "metadata": {}
        },
        {
          "output_type": "display_data",
          "data": {
            "text/plain": [
              "vocab.txt: 0.00B [00:00, ?B/s]"
            ],
            "application/vnd.jupyter.widget-view+json": {
              "version_major": 2,
              "version_minor": 0,
              "model_id": "5d208c9ee89d48aa962041c9c20a8d2d"
            }
          },
          "metadata": {}
        },
        {
          "output_type": "display_data",
          "data": {
            "text/plain": [
              "tokenizer.json: 0.00B [00:00, ?B/s]"
            ],
            "application/vnd.jupyter.widget-view+json": {
              "version_major": 2,
              "version_minor": 0,
              "model_id": "761a435120974f44a7bc2cb990f06ff0"
            }
          },
          "metadata": {}
        },
        {
          "output_type": "display_data",
          "data": {
            "text/plain": [
              "special_tokens_map.json:   0%|          | 0.00/239 [00:00<?, ?B/s]"
            ],
            "application/vnd.jupyter.widget-view+json": {
              "version_major": 2,
              "version_minor": 0,
              "model_id": "825ba97f4f4f4ba990945b53aefbc9c3"
            }
          },
          "metadata": {}
        },
        {
          "output_type": "display_data",
          "data": {
            "text/plain": [
              "config.json:   0%|          | 0.00/190 [00:00<?, ?B/s]"
            ],
            "application/vnd.jupyter.widget-view+json": {
              "version_major": 2,
              "version_minor": 0,
              "model_id": "b641c7341b79433299b1ac111e12c7c9"
            }
          },
          "metadata": {}
        }
      ],
      "source": [
        "from langchain_huggingface import HuggingFaceEmbeddings\n",
        "\n",
        "model_name = \"sentence-transformers/all-mpnet-base-v2\"\n",
        "model_kwargs = {'device': 'cpu'}\n",
        "encode_kwargs = {'normalize_embeddings': False}\n",
        "embeddings = HuggingFaceEmbeddings(\n",
        "    model_name=model_name,\n",
        "    model_kwargs=model_kwargs,\n",
        "    encode_kwargs=encode_kwargs\n",
        ")"
      ]
    },
    {
      "cell_type": "code",
      "execution_count": null,
      "id": "8e0577ac",
      "metadata": {
        "id": "8e0577ac"
      },
      "outputs": [],
      "source": [
        "import json\n",
        "from pathlib import Path\n",
        "from langchain.document_loaders import JSONLoader  # Make sure this is installed\n",
        "\n",
        "# Path to your JSON file\n",
        "file_path = '/content/processed_with_metadata.json'\n",
        "\n",
        "# JSON root is a list of dictionaries — so use .[] to iterate each record\n",
        "jq_schema = '.[]'\n",
        "\n",
        "# Field that contains main document text\n",
        "content_key = 'text'\n",
        "\n",
        "# Function to extract structured metadata from each record\n",
        "def metadata_func(record: dict, metadata: dict) -> dict:\n",
        "    headings = record.get('headings', [])\n",
        "    media = record.get('media_links', {})\n",
        "    anchor_links = record.get('anchors', [])\n",
        "\n",
        "    metadata['url'] = record.get('url')\n",
        "    metadata['page_name'] = record.get('page')\n",
        "    metadata['nav_path'] = record.get('nav_path', [])\n",
        "    metadata['title'] = headings[1] if len(headings) > 1 else \"N/A\"\n",
        "    metadata['categories'] = list(set(h for h in headings if h.strip()))\n",
        "\n",
        "    metadata['pdf_count'] = len(media.get('pdfs', []))\n",
        "    metadata['image_count'] = len(media.get('images', []))\n",
        "    metadata['video_count'] = len(media.get('videos', []))\n",
        "    metadata['total_anchors'] = len(anchor_links)\n",
        "    metadata['linked_domains'] = list({link.split(\"/\")[2] for link in anchor_links if link.startswith(\"http\")})\n",
        "\n",
        "    return metadata\n",
        "\n",
        "# Load the documents\n",
        "loader = JSONLoader(\n",
        "    file_path=file_path,\n",
        "    jq_schema=jq_schema,\n",
        "    # content_key=content_key,\n",
        "    # metadata_func=metadata_func,\n",
        "    text_content=False\n",
        ")\n",
        "\n",
        "documents = loader.load()\n",
        "\n",
        "\n"
      ]
    },
    {
      "cell_type": "code",
      "execution_count": null,
      "id": "45d125e7",
      "metadata": {
        "id": "45d125e7"
      },
      "outputs": [],
      "source": [
        "# loader = TextLoader(\"sample.txt\")\n",
        "# loader = TextLoader(\"data.json\", encoding=\"utf-8\")\n",
        "# documents = loader.load()\n",
        "\n",
        "text_splitter = CharacterTextSplitter(chunk_size=1000, chunk_overlap=0)\n",
        "docs = text_splitter.split_documents(documents)"
      ]
    },
    {
      "cell_type": "code",
      "execution_count": null,
      "id": "fd523a09",
      "metadata": {
        "colab": {
          "base_uri": "https://localhost:8080/"
        },
        "id": "fd523a09",
        "outputId": "f740d8f5-c9e0-4e14-d33a-76a97bf71049"
      },
      "outputs": [
        {
          "output_type": "execute_result",
          "data": {
            "text/plain": [
              "139"
            ]
          },
          "metadata": {},
          "execution_count": 10
        }
      ],
      "source": [
        "len(docs)"
      ]
    },
    {
      "cell_type": "code",
      "execution_count": null,
      "id": "359244c8",
      "metadata": {
        "id": "359244c8"
      },
      "outputs": [],
      "source": [
        "# docs[110]"
      ]
    },
    {
      "cell_type": "code",
      "execution_count": 4,
      "id": "6d08bf4b",
      "metadata": {
        "id": "6d08bf4b"
      },
      "outputs": [],
      "source": [
        "uri= \"neo4j+s://691cf4c8.databases.neo4j.io\"\n",
        "username= \"neo4j\"\n",
        "password= \"V7oAh2uCKq7ivrzqZwRIk5FPRLi0SGUVnycxH1Xjwmo\""
      ]
    },
    {
      "cell_type": "code",
      "execution_count": null,
      "id": "26723a52",
      "metadata": {
        "id": "26723a52"
      },
      "outputs": [],
      "source": [
        "db = Neo4jVector.from_documents(\n",
        "    docs, embeddings, url=uri, username=username, password=password,\n",
        "    search_type=\"hybrid\"\n",
        ")"
      ]
    },
    {
      "cell_type": "code",
      "execution_count": null,
      "id": "07aef2d9",
      "metadata": {
        "id": "07aef2d9"
      },
      "outputs": [],
      "source": [
        "query = \"name the satelitte project in sriharikotta\"\n",
        "docs_with_score = db.similarity_search_with_score(query, k=2)"
      ]
    },
    {
      "cell_type": "code",
      "execution_count": null,
      "id": "c875462b",
      "metadata": {
        "id": "c875462b",
        "outputId": "140144c0-70ba-4c13-952f-5fbe1026be9c"
      },
      "outputs": [
        {
          "data": {
            "text/plain": [
              "[(Document(metadata={'linked_domains': ['www.mosdac.gov.in'], 'seq_num': 10, 'image_count': 11, 'url': 'https://www.mosdac.gov.in/about-us', 'title': 'You are here', 'source': '/Users/sec22ad081/Desktop/kg/data.json', 'pdf_count': 1, 'categories': ['You are here', 'Search', 'Secondary menu', 'About Us', 'Follow Us'], 'nav_path': ['Homepage', 'www.mosdac.gov.in', 'imageshow', 'terms-conditions', 'copyright-policy'], 'total_anchors': 60, 'page_name': 'about-us', 'video_count': 0}, page_content='Secondary menu\\nYou are here\\nAbout Us\\nSearch\\nFollow Us\\nSkip to main Content\\nSpace Applications Centre (SAC) is an ISRO Centre located at Ahmedabad, dealing with a wide variety of themes from satellite payload development, operational data reception and processing to societal applications. SAC is responsible for the development, realization and qualification of communication, navigation, earth observation and planetary payloads and related data processing and ground systems in the areas of communications, broadcasting, remote sensing and disaster monitoring / mitigation. Meteorological and Oceanographic Satellite Data Archival Centre (MOSDAC) is a Data Centre of Space Applications Centre (SAC) and has facility for satellite data reception, processing, analysis and dissemination. MOSDAC is operationally supplying earth observation data from Indian meteorology and oceanography satellites, to cater to national and international research requirements.\\nWebsite owned and maintained by MOSDAC, Space Applications Centre, Indian Space Research Organisation, Govt. of INDIA.\\n\"Ver 3.0; Last reviewed and updated on\\n02 Jul, 2025& Served By:\\nWeb-Srv-Pri'),\n",
              "  1.0),\n",
              " (Document(metadata={'source': 'sample.txt'}, page_content='SARAL-AltiKa\\nSARAL mission results from the common interest of both CNES and ISRO in studying ocean from space using altimetry system and in promoting maximum use of the ARGOS Data Collecting System. Radar altimetry by satellite is a technique used in oceanography to measure, globally over the oceans, the sea level needed to understand ocean circulation and its variability. The importance of altimetry data to better understand the ocean circulation and its impact on the climate of the Earth led to the TOPEX/Poseidon and Jason series of satellites complemented by ERS1-2, GFO and ENVISAT. With the launch of these missions began a data collection that must continue well into the century in order to monitor the inter-annual evolution and separate transient phenomena from secular variations. SARAL/AltiKa mission belongs to the global altimetry system and then participates to the precise and accurate observations of ocean circulation and sea surface elevation for its life time. Thus it is the aim of AltiKa part of the SARAL mission to provide altimetric measurements designed to study ocean circulation and sea surface elevation with the same accuracy as the one provided by ENVISAT mission and complementary to Jasons mission. The AltiKa project developed by CNES is based on a large Ka-band altimeter (35.75 GHz, 500MHz), 1st oceanographic altimeter using such a high frequency. The use of the Ka-band frequency will supply more accurate measurements (improvement of the spatial and vertical resolution) enabling a better observation of ices, coastal areas, continental water bodies as well as the waves height. The drawback of this Ka-band frequency is its sensitivity to rain that can lead to signal attenuation. The SARAL/AltiKa mission is part of the operational satellite altimetry system, jointly with Jason-2, and enables to ensure the service continuity which is nowadays provided by ENVISAT altimeter jointly with Jason-2 and Jason-1. By ensuring the observations continuity and widening the observation areas, CNES answers the wish of the oceanography community by bringing a description: For the meso-scale in open ocean,, In coastal areas, For the seasonal forecast, For the hydrology, For the climate studies. AltiKa data will thus contribute, along with data from others altimetry missions, to the development of operational oceanography, to our climate understanding and to the development of forecasting capabilities through data assimilation methods improvement in coupled oceanatmosphere coupling models, bio-chemistry models, etc'),\n",
              "  1.0)]"
            ]
          },
          "execution_count": 22,
          "metadata": {},
          "output_type": "execute_result"
        }
      ],
      "source": [
        "docs_with_score"
      ]
    },
    {
      "cell_type": "code",
      "execution_count": null,
      "id": "4bebe0bd",
      "metadata": {
        "id": "4bebe0bd"
      },
      "outputs": [],
      "source": [
        "from langchain_experimental.graph_transformers import LLMGraphTransformer"
      ]
    },
    {
      "cell_type": "code",
      "execution_count": 5,
      "id": "ca03d488",
      "metadata": {
        "id": "ca03d488"
      },
      "outputs": [],
      "source": [
        "from langchain.chat_models import init_chat_model"
      ]
    },
    {
      "cell_type": "code",
      "execution_count": 6,
      "id": "eaef1db9",
      "metadata": {
        "id": "eaef1db9"
      },
      "outputs": [],
      "source": [
        "llm = init_chat_model(model ='mistral',model_provider='ollama')\n",
        "# llm = init_chat_model(model = \"llama-3.3-70b-versatile\",model_provider='groq')"
      ]
    },
    {
      "cell_type": "code",
      "execution_count": null,
      "id": "be434769",
      "metadata": {
        "id": "be434769"
      },
      "outputs": [],
      "source": [
        "llm_transformer = LLMGraphTransformer(llm=llm)"
      ]
    },
    {
      "cell_type": "code",
      "execution_count": null,
      "id": "0c1618ba",
      "metadata": {
        "id": "0c1618ba"
      },
      "outputs": [],
      "source": [
        "graph_documents = await llm_transformer.aconvert_to_graph_documents(docs[:2])"
      ]
    },
    {
      "cell_type": "code",
      "execution_count": null,
      "id": "aabb66b3",
      "metadata": {
        "colab": {
          "base_uri": "https://localhost:8080/"
        },
        "id": "aabb66b3",
        "outputId": "fdfaef11-d29c-4223-cee4-5e03c81de629"
      },
      "outputs": [
        {
          "output_type": "stream",
          "name": "stdout",
          "text": [
            "Nodes:[Node(id='Meteorological & Oceanographic Satellite Data Archival Centre', type='Organization', properties={}), Node(id='Indian Space Research Organisation', type='Organization', properties={}), Node(id='Govt. Of India', type='Organization', properties={})]\n",
            "Relationships:[Relationship(source=Node(id='Meteorological & Oceanographic Satellite Data Archival Centre', type='Organization', properties={}), target=Node(id='Indian Space Research Organisation', type='Organization', properties={}), type='MAINTAINED_BY', properties={}), Relationship(source=Node(id='Indian Space Research Organisation', type='Organization', properties={}), target=Node(id='Govt. Of India', type='Organization', properties={}), type='GOVERNED_BY', properties={})]\n"
          ]
        }
      ],
      "source": [
        "print(f\"Nodes:{graph_documents[1].nodes}\")\n",
        "print(f\"Relationships:{graph_documents[1].relationships}\")"
      ]
    },
    {
      "cell_type": "code",
      "execution_count": null,
      "id": "f06d84c7",
      "metadata": {
        "colab": {
          "base_uri": "https://localhost:8080/"
        },
        "id": "f06d84c7",
        "outputId": "3ef56aa0-3c90-49af-9945-4fafec8ade72"
      },
      "outputs": [
        {
          "output_type": "execute_result",
          "data": {
            "text/plain": [
              "[Node(id='Meteorological & Oceanographic Satellite Data Archival Centre', type='Organization', properties={}),\n",
              " Node(id='Indian Space Research Organisation', type='Organization', properties={}),\n",
              " Node(id='Govt. Of India', type='Organization', properties={})]"
            ]
          },
          "metadata": {},
          "execution_count": 97
        }
      ],
      "source": [
        "graph_documents[1].nodes"
      ]
    },
    {
      "cell_type": "code",
      "execution_count": 8,
      "id": "5a07d4ad",
      "metadata": {
        "id": "5a07d4ad"
      },
      "outputs": [],
      "source": [
        "graph = Neo4jGraph(url=uri, username=username, password=password)"
      ]
    },
    {
      "cell_type": "code",
      "execution_count": null,
      "id": "9125bf83",
      "metadata": {
        "id": "9125bf83"
      },
      "outputs": [],
      "source": [
        "graph.add_graph_documents(graph_documents)"
      ]
    },
    {
      "cell_type": "code",
      "source": [
        "!pip install yfiles_jupyter_graphs -qqq"
      ],
      "metadata": {
        "colab": {
          "base_uri": "https://localhost:8080/"
        },
        "id": "wdHARhuKHVSn",
        "outputId": "07bb9951-6eed-4ed6-8738-e6e4c7b68055"
      },
      "id": "wdHARhuKHVSn",
      "execution_count": null,
      "outputs": [
        {
          "output_type": "stream",
          "name": "stdout",
          "text": [
            "\u001b[2K   \u001b[90m━━━━━━━━━━━━━━━━━━━━━━━━━━━━━━━━━━━━━━━━\u001b[0m \u001b[32m15.7/15.7 MB\u001b[0m \u001b[31m104.3 MB/s\u001b[0m eta \u001b[36m0:00:00\u001b[0m\n",
            "\u001b[2K   \u001b[90m━━━━━━━━━━━━━━━━━━━━━━━━━━━━━━━━━━━━━━━━\u001b[0m \u001b[32m1.6/1.6 MB\u001b[0m \u001b[31m19.3 MB/s\u001b[0m eta \u001b[36m0:00:00\u001b[0m\n",
            "\u001b[?25h"
          ]
        }
      ]
    },
    {
      "cell_type": "code",
      "execution_count": null,
      "id": "a90d4caa",
      "metadata": {
        "id": "a90d4caa"
      },
      "outputs": [],
      "source": [
        "import os\n",
        "from neo4j import GraphDatabase\n",
        "from IPython.display import display\n",
        "from yfiles_jupyter_graphs import GraphWidget  # Replace with actual widget library you're using\n",
        "\n",
        "def showGraph(cypher: str = \"MATCH (n)-[r]->(m) RETURN n, r, m\"):\n",
        "    # Create Neo4j driver using environment variables\n",
        "    driver = GraphDatabase.driver(\n",
        "        uri,\n",
        "        auth=(username, password)\n",
        "    )\n",
        "\n",
        "    # Create a session\n",
        "    with driver.session() as session:\n",
        "        # Run the Cypher query\n",
        "        result = session.run(cypher)\n",
        "\n",
        "        # Create graph widget\n",
        "        widget = GraphWidget(graph=result.graph())\n",
        "        widget.node_label_mapping = 'id'  # Adjust based on your node properties\n",
        "\n",
        "        # Display the widget\n",
        "        display(widget)\n",
        "\n",
        "    return widget"
      ]
    },
    {
      "cell_type": "code",
      "execution_count": null,
      "id": "0920d51d",
      "metadata": {
        "colab": {
          "base_uri": "https://localhost:8080/",
          "height": 1000,
          "referenced_widgets": [
            "f27a671ddc984249aab620ce607bb2cc",
            "1ed675f6cab140bd99436b3d75233c08"
          ]
        },
        "id": "0920d51d",
        "outputId": "b5761cb4-6af2-4b8c-b251-c7bbecd82eb9"
      },
      "outputs": [
        {
          "output_type": "display_data",
          "data": {
            "text/plain": [
              "GraphWidget(layout=Layout(height='800px', width='100%'))"
            ],
            "application/vnd.jupyter.widget-view+json": {
              "version_major": 2,
              "version_minor": 0,
              "model_id": "f27a671ddc984249aab620ce607bb2cc"
            }
          },
          "metadata": {
            "application/vnd.jupyter.widget-view+json": {
              "colab": {
                "custom_widget_manager": {
                  "url": "https://ssl.gstatic.com/colaboratory-static/widgets/colab-cdn-widget-manager/2b70e893a8ba7c0f/manager.min.js"
                }
              }
            }
          }
        },
        {
          "output_type": "display_data",
          "data": {
            "text/plain": [
              "GraphWidget(layout=Layout(height='800px', width='100%'))"
            ],
            "application/vnd.jupyter.widget-view+json": {
              "version_major": 2,
              "version_minor": 0,
              "model_id": "f27a671ddc984249aab620ce607bb2cc"
            }
          },
          "metadata": {
            "application/vnd.jupyter.widget-view+json": {
              "colab": {
                "custom_widget_manager": {
                  "url": "https://ssl.gstatic.com/colaboratory-static/widgets/colab-cdn-widget-manager/2b70e893a8ba7c0f/manager.min.js"
                }
              }
            }
          }
        }
      ],
      "source": [
        "showGraph()"
      ]
    },
    {
      "cell_type": "code",
      "source": [
        "from google.colab import output\n",
        "output.enable_custom_widget_manager()"
      ],
      "metadata": {
        "id": "vFxiMhBsHlip"
      },
      "id": "vFxiMhBsHlip",
      "execution_count": null,
      "outputs": []
    },
    {
      "cell_type": "markdown",
      "source": [
        "Support for third party widgets will remain active for the duration of the session. To disable support:"
      ],
      "metadata": {
        "id": "lZZZrCSLHliq"
      },
      "id": "lZZZrCSLHliq"
    },
    {
      "cell_type": "code",
      "source": [
        "from google.colab import output\n",
        "output.disable_custom_widget_manager()"
      ],
      "metadata": {
        "id": "X-juZLp5Hlir"
      },
      "id": "X-juZLp5Hlir",
      "execution_count": null,
      "outputs": []
    },
    {
      "cell_type": "code",
      "source": [
        "docs[0].page_content"
      ],
      "metadata": {
        "colab": {
          "base_uri": "https://localhost:8080/",
          "height": 522
        },
        "id": "qz9FHVRfH_6d",
        "outputId": "4e0931c5-adb6-4c10-a9ff-5578ba7694e6"
      },
      "id": "qz9FHVRfH_6d",
      "execution_count": null,
      "outputs": [
        {
          "output_type": "execute_result",
          "data": {
            "text/plain": [
              "'{\"url\": \"https://www.mosdac.gov.in\", \"title\": \"Meteorological & Oceanographic Satellite Data Archival Centre\", \"text\": \"Skip to main Content 3-hourly Weather forecast. Cold wave prediction over India (WRF Model) Sat. Based Cyclone Obser. and Realtime Pred. over IO. Heat Wave Prediction over India (WRF Model) Heavy Rain (>5mm/hr) forecast using NWP model. Lightning Forecast Monsoon Prediction 2024 Sea State forecast in terms of Wave Height, Wave period etc. 3 Days Solar and Wind Forecast for every 15 minutes Cloud Burst Nowcast for 6 hours\\\\u00a0over Western Himalayan region. Satellite based nowcast for Heavy rain events for 6 hours. AWS Time Series Heavy Rain Events Let\\'s Interactively Visualise the Earth (LIVE) Alerts for Indian States Alerts for\\\\u00a0South East Asian Countries Solar Energy Rainfall Air Quality Soil Wetness Index Sat. Based Cyclone Obser. and Realtime Pred. over IO. ALTIMETER LCS-CORES AND STRETCHING DIRECTIONS Ocean Subsurface Fields RIP Current Forecast for All-India beaches. Ocean State Forecast Eddy Currents Website owned and maintained by MOSDAC, Space Applications Centre, Indian Space Research Organisation, Govt. of INDIA. \\\\\"Ver 3.0; Last reviewed and updated on\\\\n06 Jul, 2025& Served By:\\\\nWeb-Srv-Pri\", \"headings\": [\"Meteorological & Oceanographic Satellite Data Archival Centre\", \"Secondary menu\", \"Services\", \"City Weather\", \"Cold Waves\", \"Cyclone\", \"Heat Waves\", \"Heavy Rain\", \"Lightning\", \"Monsoon\", \"Sea State\", \"Solar & Wind\", \"Cloud Burst\", \"Heavy Rain\", \"AWS Time Series\", \"Heavy Rain\", \"MOSDAC LIVE\", \"Indian State Portal\", \"South East Asian Countries\", \"Urja\", \"VARSHA\", \"VAYU\", \"Soil Moisture\", \"SCORPIO\", \"OIL SPILL\", \"Ocean Subsurface Fields\", \"Safe Beach\", \"Ocean-Eye\", \"Eddy Currents\", \"Announcements\", \"Search\", \"Follow Us\"], \"main_heading\": \"Meteorological & Oceanographic Satellite Data Archival Centre\", \"section_titles\": [\"Announcements\", \"Ocean-Eye\", \"Cloud Burst\", \"Sea State\", \"Soil Moisture\", \"Indian State Portal\", \"Cyclone\", \"VARSHA\", \"VAYU\", \"City Weather\", \"Secondary menu\", \"Eddy Currents\", \"Heavy Rain\", \"Solar & Wind\", \"Urja\", \"Cold Waves\", \"OIL SPILL\", \"Lightning\", \"South East Asian Countries\", \"Safe Beach\", \"Services\", \"Ocean Subsurface Fields\", \"MOSDAC LIVE\", \"AWS Time Series\", \"Follow Us\", \"Search\", \"Monsoon\", \"Heat Waves\", \"SCORPIO\"], \"table_count\": 0}'"
            ],
            "application/vnd.google.colaboratory.intrinsic+json": {
              "type": "string"
            }
          },
          "metadata": {},
          "execution_count": 63
        }
      ]
    },
    {
      "cell_type": "code",
      "source": [
        "# ollm = init_chat_model(model='llama3.1:latest',model_provider='ollama')"
      ],
      "metadata": {
        "id": "_jyhT3MtJmuv"
      },
      "id": "_jyhT3MtJmuv",
      "execution_count": null,
      "outputs": []
    },
    {
      "cell_type": "code",
      "execution_count": 9,
      "id": "01914083",
      "metadata": {
        "id": "01914083"
      },
      "outputs": [],
      "source": [
        "chain = GraphCypherQAChain.from_llm(\n",
        "    llm, graph=graph, verbose=True,\n",
        "    allow_dangerous_requests=True\n",
        ")"
      ]
    },
    {
      "cell_type": "code",
      "execution_count": 12,
      "id": "8a46e1e5",
      "metadata": {
        "colab": {
          "base_uri": "https://localhost:8080/",
          "height": 229
        },
        "id": "8a46e1e5",
        "outputId": "ef408e4d-db3d-431e-c238-ba5aba6bc3b2"
      },
      "outputs": [
        {
          "output_type": "stream",
          "name": "stdout",
          "text": [
            "\n",
            "\n",
            "\u001b[1m> Entering new GraphCypherQAChain chain...\u001b[0m\n",
            "Generated Cypher:\n",
            "\u001b[32;1m\u001b[1;3m MATCH (system:System)-[:SENDS_DATA_TO]->(receiver:System)\n",
            "RETURN receiver\u001b[0m\n",
            "Full Context:\n",
            "\u001b[32;1m\u001b[1;3m[{'receiver': {'id': 'Data Processing System'}}, {'receiver': {'id': 'Product Generation And Dissemination System'}}]\u001b[0m\n",
            "\n",
            "\u001b[1m> Finished chain.\u001b[0m\n"
          ]
        },
        {
          "output_type": "execute_result",
          "data": {
            "text/plain": [
              "' The Data Processing System sends data to the Product Generation and Dissemination System.'"
            ],
            "application/vnd.google.colaboratory.intrinsic+json": {
              "type": "string"
            }
          },
          "metadata": {},
          "execution_count": 12
        }
      ],
      "source": [
        "chain.run(\"where the data processing system sends data?\")"
      ]
    },
    {
      "cell_type": "code",
      "execution_count": null,
      "id": "e23e0ef8",
      "metadata": {
        "id": "e23e0ef8"
      },
      "outputs": [],
      "source": [
        "#it is just initial RnD of this project\n",
        "#and we successfully completed the ground work and now it is devoloping efficiently"
      ]
    }
  ],
  "metadata": {
    "kernelspec": {
      "display_name": "Python 3",
      "name": "python3"
    },
    "language_info": {
      "codemirror_mode": {
        "name": "ipython",
        "version": 3
      },
      "file_extension": ".py",
      "mimetype": "text/x-python",
      "name": "python",
      "nbconvert_exporter": "python",
      "pygments_lexer": "ipython3",
      "version": "3.13.2"
    },
    "colab": {
      "provenance": [],
      "gpuType": "T4"
    },
    "accelerator": "GPU",
    "widgets": {
      "application/vnd.jupyter.widget-state+json": {
        "b0826090852c46a09e0324938f6bdb7b": {
          "model_module": "@jupyter-widgets/controls",
          "model_name": "HBoxModel",
          "model_module_version": "1.5.0",
          "state": {
            "_dom_classes": [],
            "_model_module": "@jupyter-widgets/controls",
            "_model_module_version": "1.5.0",
            "_model_name": "HBoxModel",
            "_view_count": null,
            "_view_module": "@jupyter-widgets/controls",
            "_view_module_version": "1.5.0",
            "_view_name": "HBoxView",
            "box_style": "",
            "children": [
              "IPY_MODEL_a4198ef065194492a7461b45dfc541fa",
              "IPY_MODEL_7707690ae3fe472e84808fb517f8d035",
              "IPY_MODEL_d7fbd86f40974c0e8bcc3bd031b54c4e"
            ],
            "layout": "IPY_MODEL_d2dac5ca285641b794bcac6a83ed4aa7"
          }
        },
        "a4198ef065194492a7461b45dfc541fa": {
          "model_module": "@jupyter-widgets/controls",
          "model_name": "HTMLModel",
          "model_module_version": "1.5.0",
          "state": {
            "_dom_classes": [],
            "_model_module": "@jupyter-widgets/controls",
            "_model_module_version": "1.5.0",
            "_model_name": "HTMLModel",
            "_view_count": null,
            "_view_module": "@jupyter-widgets/controls",
            "_view_module_version": "1.5.0",
            "_view_name": "HTMLView",
            "description": "",
            "description_tooltip": null,
            "layout": "IPY_MODEL_3d675ead219d4afa8a1c583d0cf98b21",
            "placeholder": "​",
            "style": "IPY_MODEL_5ecda912e7fc4b52a641081b7e4b8b61",
            "value": "modules.json: 100%"
          }
        },
        "7707690ae3fe472e84808fb517f8d035": {
          "model_module": "@jupyter-widgets/controls",
          "model_name": "FloatProgressModel",
          "model_module_version": "1.5.0",
          "state": {
            "_dom_classes": [],
            "_model_module": "@jupyter-widgets/controls",
            "_model_module_version": "1.5.0",
            "_model_name": "FloatProgressModel",
            "_view_count": null,
            "_view_module": "@jupyter-widgets/controls",
            "_view_module_version": "1.5.0",
            "_view_name": "ProgressView",
            "bar_style": "success",
            "description": "",
            "description_tooltip": null,
            "layout": "IPY_MODEL_d24fb54bd6f7489a9a27c95631329674",
            "max": 349,
            "min": 0,
            "orientation": "horizontal",
            "style": "IPY_MODEL_72bca3ff344e403a8d54c78dba00fa1f",
            "value": 349
          }
        },
        "d7fbd86f40974c0e8bcc3bd031b54c4e": {
          "model_module": "@jupyter-widgets/controls",
          "model_name": "HTMLModel",
          "model_module_version": "1.5.0",
          "state": {
            "_dom_classes": [],
            "_model_module": "@jupyter-widgets/controls",
            "_model_module_version": "1.5.0",
            "_model_name": "HTMLModel",
            "_view_count": null,
            "_view_module": "@jupyter-widgets/controls",
            "_view_module_version": "1.5.0",
            "_view_name": "HTMLView",
            "description": "",
            "description_tooltip": null,
            "layout": "IPY_MODEL_ff1120f0259d44faa64f047384c379b4",
            "placeholder": "​",
            "style": "IPY_MODEL_1625d587d5134d7a9fb0821c3f6f066f",
            "value": " 349/349 [00:00&lt;00:00, 23.7kB/s]"
          }
        },
        "d2dac5ca285641b794bcac6a83ed4aa7": {
          "model_module": "@jupyter-widgets/base",
          "model_name": "LayoutModel",
          "model_module_version": "1.2.0",
          "state": {
            "_model_module": "@jupyter-widgets/base",
            "_model_module_version": "1.2.0",
            "_model_name": "LayoutModel",
            "_view_count": null,
            "_view_module": "@jupyter-widgets/base",
            "_view_module_version": "1.2.0",
            "_view_name": "LayoutView",
            "align_content": null,
            "align_items": null,
            "align_self": null,
            "border": null,
            "bottom": null,
            "display": null,
            "flex": null,
            "flex_flow": null,
            "grid_area": null,
            "grid_auto_columns": null,
            "grid_auto_flow": null,
            "grid_auto_rows": null,
            "grid_column": null,
            "grid_gap": null,
            "grid_row": null,
            "grid_template_areas": null,
            "grid_template_columns": null,
            "grid_template_rows": null,
            "height": null,
            "justify_content": null,
            "justify_items": null,
            "left": null,
            "margin": null,
            "max_height": null,
            "max_width": null,
            "min_height": null,
            "min_width": null,
            "object_fit": null,
            "object_position": null,
            "order": null,
            "overflow": null,
            "overflow_x": null,
            "overflow_y": null,
            "padding": null,
            "right": null,
            "top": null,
            "visibility": null,
            "width": null
          }
        },
        "3d675ead219d4afa8a1c583d0cf98b21": {
          "model_module": "@jupyter-widgets/base",
          "model_name": "LayoutModel",
          "model_module_version": "1.2.0",
          "state": {
            "_model_module": "@jupyter-widgets/base",
            "_model_module_version": "1.2.0",
            "_model_name": "LayoutModel",
            "_view_count": null,
            "_view_module": "@jupyter-widgets/base",
            "_view_module_version": "1.2.0",
            "_view_name": "LayoutView",
            "align_content": null,
            "align_items": null,
            "align_self": null,
            "border": null,
            "bottom": null,
            "display": null,
            "flex": null,
            "flex_flow": null,
            "grid_area": null,
            "grid_auto_columns": null,
            "grid_auto_flow": null,
            "grid_auto_rows": null,
            "grid_column": null,
            "grid_gap": null,
            "grid_row": null,
            "grid_template_areas": null,
            "grid_template_columns": null,
            "grid_template_rows": null,
            "height": null,
            "justify_content": null,
            "justify_items": null,
            "left": null,
            "margin": null,
            "max_height": null,
            "max_width": null,
            "min_height": null,
            "min_width": null,
            "object_fit": null,
            "object_position": null,
            "order": null,
            "overflow": null,
            "overflow_x": null,
            "overflow_y": null,
            "padding": null,
            "right": null,
            "top": null,
            "visibility": null,
            "width": null
          }
        },
        "5ecda912e7fc4b52a641081b7e4b8b61": {
          "model_module": "@jupyter-widgets/controls",
          "model_name": "DescriptionStyleModel",
          "model_module_version": "1.5.0",
          "state": {
            "_model_module": "@jupyter-widgets/controls",
            "_model_module_version": "1.5.0",
            "_model_name": "DescriptionStyleModel",
            "_view_count": null,
            "_view_module": "@jupyter-widgets/base",
            "_view_module_version": "1.2.0",
            "_view_name": "StyleView",
            "description_width": ""
          }
        },
        "d24fb54bd6f7489a9a27c95631329674": {
          "model_module": "@jupyter-widgets/base",
          "model_name": "LayoutModel",
          "model_module_version": "1.2.0",
          "state": {
            "_model_module": "@jupyter-widgets/base",
            "_model_module_version": "1.2.0",
            "_model_name": "LayoutModel",
            "_view_count": null,
            "_view_module": "@jupyter-widgets/base",
            "_view_module_version": "1.2.0",
            "_view_name": "LayoutView",
            "align_content": null,
            "align_items": null,
            "align_self": null,
            "border": null,
            "bottom": null,
            "display": null,
            "flex": null,
            "flex_flow": null,
            "grid_area": null,
            "grid_auto_columns": null,
            "grid_auto_flow": null,
            "grid_auto_rows": null,
            "grid_column": null,
            "grid_gap": null,
            "grid_row": null,
            "grid_template_areas": null,
            "grid_template_columns": null,
            "grid_template_rows": null,
            "height": null,
            "justify_content": null,
            "justify_items": null,
            "left": null,
            "margin": null,
            "max_height": null,
            "max_width": null,
            "min_height": null,
            "min_width": null,
            "object_fit": null,
            "object_position": null,
            "order": null,
            "overflow": null,
            "overflow_x": null,
            "overflow_y": null,
            "padding": null,
            "right": null,
            "top": null,
            "visibility": null,
            "width": null
          }
        },
        "72bca3ff344e403a8d54c78dba00fa1f": {
          "model_module": "@jupyter-widgets/controls",
          "model_name": "ProgressStyleModel",
          "model_module_version": "1.5.0",
          "state": {
            "_model_module": "@jupyter-widgets/controls",
            "_model_module_version": "1.5.0",
            "_model_name": "ProgressStyleModel",
            "_view_count": null,
            "_view_module": "@jupyter-widgets/base",
            "_view_module_version": "1.2.0",
            "_view_name": "StyleView",
            "bar_color": null,
            "description_width": ""
          }
        },
        "ff1120f0259d44faa64f047384c379b4": {
          "model_module": "@jupyter-widgets/base",
          "model_name": "LayoutModel",
          "model_module_version": "1.2.0",
          "state": {
            "_model_module": "@jupyter-widgets/base",
            "_model_module_version": "1.2.0",
            "_model_name": "LayoutModel",
            "_view_count": null,
            "_view_module": "@jupyter-widgets/base",
            "_view_module_version": "1.2.0",
            "_view_name": "LayoutView",
            "align_content": null,
            "align_items": null,
            "align_self": null,
            "border": null,
            "bottom": null,
            "display": null,
            "flex": null,
            "flex_flow": null,
            "grid_area": null,
            "grid_auto_columns": null,
            "grid_auto_flow": null,
            "grid_auto_rows": null,
            "grid_column": null,
            "grid_gap": null,
            "grid_row": null,
            "grid_template_areas": null,
            "grid_template_columns": null,
            "grid_template_rows": null,
            "height": null,
            "justify_content": null,
            "justify_items": null,
            "left": null,
            "margin": null,
            "max_height": null,
            "max_width": null,
            "min_height": null,
            "min_width": null,
            "object_fit": null,
            "object_position": null,
            "order": null,
            "overflow": null,
            "overflow_x": null,
            "overflow_y": null,
            "padding": null,
            "right": null,
            "top": null,
            "visibility": null,
            "width": null
          }
        },
        "1625d587d5134d7a9fb0821c3f6f066f": {
          "model_module": "@jupyter-widgets/controls",
          "model_name": "DescriptionStyleModel",
          "model_module_version": "1.5.0",
          "state": {
            "_model_module": "@jupyter-widgets/controls",
            "_model_module_version": "1.5.0",
            "_model_name": "DescriptionStyleModel",
            "_view_count": null,
            "_view_module": "@jupyter-widgets/base",
            "_view_module_version": "1.2.0",
            "_view_name": "StyleView",
            "description_width": ""
          }
        },
        "8eb0c7eba9234c499fd86d346924212e": {
          "model_module": "@jupyter-widgets/controls",
          "model_name": "HBoxModel",
          "model_module_version": "1.5.0",
          "state": {
            "_dom_classes": [],
            "_model_module": "@jupyter-widgets/controls",
            "_model_module_version": "1.5.0",
            "_model_name": "HBoxModel",
            "_view_count": null,
            "_view_module": "@jupyter-widgets/controls",
            "_view_module_version": "1.5.0",
            "_view_name": "HBoxView",
            "box_style": "",
            "children": [
              "IPY_MODEL_e2a7b9f4864e41078cb3132d55999d08",
              "IPY_MODEL_030210062a4f4490a3153a457b19b3f7",
              "IPY_MODEL_c555d3d0eb7345618d251c2beb585922"
            ],
            "layout": "IPY_MODEL_73acab5f4a7d4bf6b39ea6ff816c96cc"
          }
        },
        "e2a7b9f4864e41078cb3132d55999d08": {
          "model_module": "@jupyter-widgets/controls",
          "model_name": "HTMLModel",
          "model_module_version": "1.5.0",
          "state": {
            "_dom_classes": [],
            "_model_module": "@jupyter-widgets/controls",
            "_model_module_version": "1.5.0",
            "_model_name": "HTMLModel",
            "_view_count": null,
            "_view_module": "@jupyter-widgets/controls",
            "_view_module_version": "1.5.0",
            "_view_name": "HTMLView",
            "description": "",
            "description_tooltip": null,
            "layout": "IPY_MODEL_407457322b7b486aa52de6d24a5247a0",
            "placeholder": "​",
            "style": "IPY_MODEL_14c77fdb983d421d9cfe69948b911699",
            "value": "config_sentence_transformers.json: 100%"
          }
        },
        "030210062a4f4490a3153a457b19b3f7": {
          "model_module": "@jupyter-widgets/controls",
          "model_name": "FloatProgressModel",
          "model_module_version": "1.5.0",
          "state": {
            "_dom_classes": [],
            "_model_module": "@jupyter-widgets/controls",
            "_model_module_version": "1.5.0",
            "_model_name": "FloatProgressModel",
            "_view_count": null,
            "_view_module": "@jupyter-widgets/controls",
            "_view_module_version": "1.5.0",
            "_view_name": "ProgressView",
            "bar_style": "success",
            "description": "",
            "description_tooltip": null,
            "layout": "IPY_MODEL_3df5d337825d4d51bc8d337a63e05f9f",
            "max": 116,
            "min": 0,
            "orientation": "horizontal",
            "style": "IPY_MODEL_7a647e5773574bce9a060f282ecd017b",
            "value": 116
          }
        },
        "c555d3d0eb7345618d251c2beb585922": {
          "model_module": "@jupyter-widgets/controls",
          "model_name": "HTMLModel",
          "model_module_version": "1.5.0",
          "state": {
            "_dom_classes": [],
            "_model_module": "@jupyter-widgets/controls",
            "_model_module_version": "1.5.0",
            "_model_name": "HTMLModel",
            "_view_count": null,
            "_view_module": "@jupyter-widgets/controls",
            "_view_module_version": "1.5.0",
            "_view_name": "HTMLView",
            "description": "",
            "description_tooltip": null,
            "layout": "IPY_MODEL_a14d1f241c94474a987eef2f802f000d",
            "placeholder": "​",
            "style": "IPY_MODEL_75941c4e7ce841bb80a93351830cb032",
            "value": " 116/116 [00:00&lt;00:00, 13.3kB/s]"
          }
        },
        "73acab5f4a7d4bf6b39ea6ff816c96cc": {
          "model_module": "@jupyter-widgets/base",
          "model_name": "LayoutModel",
          "model_module_version": "1.2.0",
          "state": {
            "_model_module": "@jupyter-widgets/base",
            "_model_module_version": "1.2.0",
            "_model_name": "LayoutModel",
            "_view_count": null,
            "_view_module": "@jupyter-widgets/base",
            "_view_module_version": "1.2.0",
            "_view_name": "LayoutView",
            "align_content": null,
            "align_items": null,
            "align_self": null,
            "border": null,
            "bottom": null,
            "display": null,
            "flex": null,
            "flex_flow": null,
            "grid_area": null,
            "grid_auto_columns": null,
            "grid_auto_flow": null,
            "grid_auto_rows": null,
            "grid_column": null,
            "grid_gap": null,
            "grid_row": null,
            "grid_template_areas": null,
            "grid_template_columns": null,
            "grid_template_rows": null,
            "height": null,
            "justify_content": null,
            "justify_items": null,
            "left": null,
            "margin": null,
            "max_height": null,
            "max_width": null,
            "min_height": null,
            "min_width": null,
            "object_fit": null,
            "object_position": null,
            "order": null,
            "overflow": null,
            "overflow_x": null,
            "overflow_y": null,
            "padding": null,
            "right": null,
            "top": null,
            "visibility": null,
            "width": null
          }
        },
        "407457322b7b486aa52de6d24a5247a0": {
          "model_module": "@jupyter-widgets/base",
          "model_name": "LayoutModel",
          "model_module_version": "1.2.0",
          "state": {
            "_model_module": "@jupyter-widgets/base",
            "_model_module_version": "1.2.0",
            "_model_name": "LayoutModel",
            "_view_count": null,
            "_view_module": "@jupyter-widgets/base",
            "_view_module_version": "1.2.0",
            "_view_name": "LayoutView",
            "align_content": null,
            "align_items": null,
            "align_self": null,
            "border": null,
            "bottom": null,
            "display": null,
            "flex": null,
            "flex_flow": null,
            "grid_area": null,
            "grid_auto_columns": null,
            "grid_auto_flow": null,
            "grid_auto_rows": null,
            "grid_column": null,
            "grid_gap": null,
            "grid_row": null,
            "grid_template_areas": null,
            "grid_template_columns": null,
            "grid_template_rows": null,
            "height": null,
            "justify_content": null,
            "justify_items": null,
            "left": null,
            "margin": null,
            "max_height": null,
            "max_width": null,
            "min_height": null,
            "min_width": null,
            "object_fit": null,
            "object_position": null,
            "order": null,
            "overflow": null,
            "overflow_x": null,
            "overflow_y": null,
            "padding": null,
            "right": null,
            "top": null,
            "visibility": null,
            "width": null
          }
        },
        "14c77fdb983d421d9cfe69948b911699": {
          "model_module": "@jupyter-widgets/controls",
          "model_name": "DescriptionStyleModel",
          "model_module_version": "1.5.0",
          "state": {
            "_model_module": "@jupyter-widgets/controls",
            "_model_module_version": "1.5.0",
            "_model_name": "DescriptionStyleModel",
            "_view_count": null,
            "_view_module": "@jupyter-widgets/base",
            "_view_module_version": "1.2.0",
            "_view_name": "StyleView",
            "description_width": ""
          }
        },
        "3df5d337825d4d51bc8d337a63e05f9f": {
          "model_module": "@jupyter-widgets/base",
          "model_name": "LayoutModel",
          "model_module_version": "1.2.0",
          "state": {
            "_model_module": "@jupyter-widgets/base",
            "_model_module_version": "1.2.0",
            "_model_name": "LayoutModel",
            "_view_count": null,
            "_view_module": "@jupyter-widgets/base",
            "_view_module_version": "1.2.0",
            "_view_name": "LayoutView",
            "align_content": null,
            "align_items": null,
            "align_self": null,
            "border": null,
            "bottom": null,
            "display": null,
            "flex": null,
            "flex_flow": null,
            "grid_area": null,
            "grid_auto_columns": null,
            "grid_auto_flow": null,
            "grid_auto_rows": null,
            "grid_column": null,
            "grid_gap": null,
            "grid_row": null,
            "grid_template_areas": null,
            "grid_template_columns": null,
            "grid_template_rows": null,
            "height": null,
            "justify_content": null,
            "justify_items": null,
            "left": null,
            "margin": null,
            "max_height": null,
            "max_width": null,
            "min_height": null,
            "min_width": null,
            "object_fit": null,
            "object_position": null,
            "order": null,
            "overflow": null,
            "overflow_x": null,
            "overflow_y": null,
            "padding": null,
            "right": null,
            "top": null,
            "visibility": null,
            "width": null
          }
        },
        "7a647e5773574bce9a060f282ecd017b": {
          "model_module": "@jupyter-widgets/controls",
          "model_name": "ProgressStyleModel",
          "model_module_version": "1.5.0",
          "state": {
            "_model_module": "@jupyter-widgets/controls",
            "_model_module_version": "1.5.0",
            "_model_name": "ProgressStyleModel",
            "_view_count": null,
            "_view_module": "@jupyter-widgets/base",
            "_view_module_version": "1.2.0",
            "_view_name": "StyleView",
            "bar_color": null,
            "description_width": ""
          }
        },
        "a14d1f241c94474a987eef2f802f000d": {
          "model_module": "@jupyter-widgets/base",
          "model_name": "LayoutModel",
          "model_module_version": "1.2.0",
          "state": {
            "_model_module": "@jupyter-widgets/base",
            "_model_module_version": "1.2.0",
            "_model_name": "LayoutModel",
            "_view_count": null,
            "_view_module": "@jupyter-widgets/base",
            "_view_module_version": "1.2.0",
            "_view_name": "LayoutView",
            "align_content": null,
            "align_items": null,
            "align_self": null,
            "border": null,
            "bottom": null,
            "display": null,
            "flex": null,
            "flex_flow": null,
            "grid_area": null,
            "grid_auto_columns": null,
            "grid_auto_flow": null,
            "grid_auto_rows": null,
            "grid_column": null,
            "grid_gap": null,
            "grid_row": null,
            "grid_template_areas": null,
            "grid_template_columns": null,
            "grid_template_rows": null,
            "height": null,
            "justify_content": null,
            "justify_items": null,
            "left": null,
            "margin": null,
            "max_height": null,
            "max_width": null,
            "min_height": null,
            "min_width": null,
            "object_fit": null,
            "object_position": null,
            "order": null,
            "overflow": null,
            "overflow_x": null,
            "overflow_y": null,
            "padding": null,
            "right": null,
            "top": null,
            "visibility": null,
            "width": null
          }
        },
        "75941c4e7ce841bb80a93351830cb032": {
          "model_module": "@jupyter-widgets/controls",
          "model_name": "DescriptionStyleModel",
          "model_module_version": "1.5.0",
          "state": {
            "_model_module": "@jupyter-widgets/controls",
            "_model_module_version": "1.5.0",
            "_model_name": "DescriptionStyleModel",
            "_view_count": null,
            "_view_module": "@jupyter-widgets/base",
            "_view_module_version": "1.2.0",
            "_view_name": "StyleView",
            "description_width": ""
          }
        },
        "05d13ac9562243828bfa154a82846c80": {
          "model_module": "@jupyter-widgets/controls",
          "model_name": "HBoxModel",
          "model_module_version": "1.5.0",
          "state": {
            "_dom_classes": [],
            "_model_module": "@jupyter-widgets/controls",
            "_model_module_version": "1.5.0",
            "_model_name": "HBoxModel",
            "_view_count": null,
            "_view_module": "@jupyter-widgets/controls",
            "_view_module_version": "1.5.0",
            "_view_name": "HBoxView",
            "box_style": "",
            "children": [
              "IPY_MODEL_26402a63181441a6965c23f8a35d63d0",
              "IPY_MODEL_c9a496cf7cc4490cbeaee73998232b4c",
              "IPY_MODEL_b85d06ef513c4fffae908d41e24fc0f4"
            ],
            "layout": "IPY_MODEL_5c5cf46757554d41893b896b1f36b373"
          }
        },
        "26402a63181441a6965c23f8a35d63d0": {
          "model_module": "@jupyter-widgets/controls",
          "model_name": "HTMLModel",
          "model_module_version": "1.5.0",
          "state": {
            "_dom_classes": [],
            "_model_module": "@jupyter-widgets/controls",
            "_model_module_version": "1.5.0",
            "_model_name": "HTMLModel",
            "_view_count": null,
            "_view_module": "@jupyter-widgets/controls",
            "_view_module_version": "1.5.0",
            "_view_name": "HTMLView",
            "description": "",
            "description_tooltip": null,
            "layout": "IPY_MODEL_cee8ed34de8a4805aaf59beaecbc290b",
            "placeholder": "​",
            "style": "IPY_MODEL_48d2ea5367a140f7a4106b7731e81ff1",
            "value": "README.md: "
          }
        },
        "c9a496cf7cc4490cbeaee73998232b4c": {
          "model_module": "@jupyter-widgets/controls",
          "model_name": "FloatProgressModel",
          "model_module_version": "1.5.0",
          "state": {
            "_dom_classes": [],
            "_model_module": "@jupyter-widgets/controls",
            "_model_module_version": "1.5.0",
            "_model_name": "FloatProgressModel",
            "_view_count": null,
            "_view_module": "@jupyter-widgets/controls",
            "_view_module_version": "1.5.0",
            "_view_name": "ProgressView",
            "bar_style": "success",
            "description": "",
            "description_tooltip": null,
            "layout": "IPY_MODEL_71a22f758c2245feb263cae40ca87052",
            "max": 1,
            "min": 0,
            "orientation": "horizontal",
            "style": "IPY_MODEL_aa1b6e409e1249ae8d376b7975e4c881",
            "value": 1
          }
        },
        "b85d06ef513c4fffae908d41e24fc0f4": {
          "model_module": "@jupyter-widgets/controls",
          "model_name": "HTMLModel",
          "model_module_version": "1.5.0",
          "state": {
            "_dom_classes": [],
            "_model_module": "@jupyter-widgets/controls",
            "_model_module_version": "1.5.0",
            "_model_name": "HTMLModel",
            "_view_count": null,
            "_view_module": "@jupyter-widgets/controls",
            "_view_module_version": "1.5.0",
            "_view_name": "HTMLView",
            "description": "",
            "description_tooltip": null,
            "layout": "IPY_MODEL_c41c14fd797d4e0fabe1b8cef03e8716",
            "placeholder": "​",
            "style": "IPY_MODEL_b087ba0c6e0b4e949f54df5f6374a342",
            "value": " 10.4k/? [00:00&lt;00:00, 858kB/s]"
          }
        },
        "5c5cf46757554d41893b896b1f36b373": {
          "model_module": "@jupyter-widgets/base",
          "model_name": "LayoutModel",
          "model_module_version": "1.2.0",
          "state": {
            "_model_module": "@jupyter-widgets/base",
            "_model_module_version": "1.2.0",
            "_model_name": "LayoutModel",
            "_view_count": null,
            "_view_module": "@jupyter-widgets/base",
            "_view_module_version": "1.2.0",
            "_view_name": "LayoutView",
            "align_content": null,
            "align_items": null,
            "align_self": null,
            "border": null,
            "bottom": null,
            "display": null,
            "flex": null,
            "flex_flow": null,
            "grid_area": null,
            "grid_auto_columns": null,
            "grid_auto_flow": null,
            "grid_auto_rows": null,
            "grid_column": null,
            "grid_gap": null,
            "grid_row": null,
            "grid_template_areas": null,
            "grid_template_columns": null,
            "grid_template_rows": null,
            "height": null,
            "justify_content": null,
            "justify_items": null,
            "left": null,
            "margin": null,
            "max_height": null,
            "max_width": null,
            "min_height": null,
            "min_width": null,
            "object_fit": null,
            "object_position": null,
            "order": null,
            "overflow": null,
            "overflow_x": null,
            "overflow_y": null,
            "padding": null,
            "right": null,
            "top": null,
            "visibility": null,
            "width": null
          }
        },
        "cee8ed34de8a4805aaf59beaecbc290b": {
          "model_module": "@jupyter-widgets/base",
          "model_name": "LayoutModel",
          "model_module_version": "1.2.0",
          "state": {
            "_model_module": "@jupyter-widgets/base",
            "_model_module_version": "1.2.0",
            "_model_name": "LayoutModel",
            "_view_count": null,
            "_view_module": "@jupyter-widgets/base",
            "_view_module_version": "1.2.0",
            "_view_name": "LayoutView",
            "align_content": null,
            "align_items": null,
            "align_self": null,
            "border": null,
            "bottom": null,
            "display": null,
            "flex": null,
            "flex_flow": null,
            "grid_area": null,
            "grid_auto_columns": null,
            "grid_auto_flow": null,
            "grid_auto_rows": null,
            "grid_column": null,
            "grid_gap": null,
            "grid_row": null,
            "grid_template_areas": null,
            "grid_template_columns": null,
            "grid_template_rows": null,
            "height": null,
            "justify_content": null,
            "justify_items": null,
            "left": null,
            "margin": null,
            "max_height": null,
            "max_width": null,
            "min_height": null,
            "min_width": null,
            "object_fit": null,
            "object_position": null,
            "order": null,
            "overflow": null,
            "overflow_x": null,
            "overflow_y": null,
            "padding": null,
            "right": null,
            "top": null,
            "visibility": null,
            "width": null
          }
        },
        "48d2ea5367a140f7a4106b7731e81ff1": {
          "model_module": "@jupyter-widgets/controls",
          "model_name": "DescriptionStyleModel",
          "model_module_version": "1.5.0",
          "state": {
            "_model_module": "@jupyter-widgets/controls",
            "_model_module_version": "1.5.0",
            "_model_name": "DescriptionStyleModel",
            "_view_count": null,
            "_view_module": "@jupyter-widgets/base",
            "_view_module_version": "1.2.0",
            "_view_name": "StyleView",
            "description_width": ""
          }
        },
        "71a22f758c2245feb263cae40ca87052": {
          "model_module": "@jupyter-widgets/base",
          "model_name": "LayoutModel",
          "model_module_version": "1.2.0",
          "state": {
            "_model_module": "@jupyter-widgets/base",
            "_model_module_version": "1.2.0",
            "_model_name": "LayoutModel",
            "_view_count": null,
            "_view_module": "@jupyter-widgets/base",
            "_view_module_version": "1.2.0",
            "_view_name": "LayoutView",
            "align_content": null,
            "align_items": null,
            "align_self": null,
            "border": null,
            "bottom": null,
            "display": null,
            "flex": null,
            "flex_flow": null,
            "grid_area": null,
            "grid_auto_columns": null,
            "grid_auto_flow": null,
            "grid_auto_rows": null,
            "grid_column": null,
            "grid_gap": null,
            "grid_row": null,
            "grid_template_areas": null,
            "grid_template_columns": null,
            "grid_template_rows": null,
            "height": null,
            "justify_content": null,
            "justify_items": null,
            "left": null,
            "margin": null,
            "max_height": null,
            "max_width": null,
            "min_height": null,
            "min_width": null,
            "object_fit": null,
            "object_position": null,
            "order": null,
            "overflow": null,
            "overflow_x": null,
            "overflow_y": null,
            "padding": null,
            "right": null,
            "top": null,
            "visibility": null,
            "width": "20px"
          }
        },
        "aa1b6e409e1249ae8d376b7975e4c881": {
          "model_module": "@jupyter-widgets/controls",
          "model_name": "ProgressStyleModel",
          "model_module_version": "1.5.0",
          "state": {
            "_model_module": "@jupyter-widgets/controls",
            "_model_module_version": "1.5.0",
            "_model_name": "ProgressStyleModel",
            "_view_count": null,
            "_view_module": "@jupyter-widgets/base",
            "_view_module_version": "1.2.0",
            "_view_name": "StyleView",
            "bar_color": null,
            "description_width": ""
          }
        },
        "c41c14fd797d4e0fabe1b8cef03e8716": {
          "model_module": "@jupyter-widgets/base",
          "model_name": "LayoutModel",
          "model_module_version": "1.2.0",
          "state": {
            "_model_module": "@jupyter-widgets/base",
            "_model_module_version": "1.2.0",
            "_model_name": "LayoutModel",
            "_view_count": null,
            "_view_module": "@jupyter-widgets/base",
            "_view_module_version": "1.2.0",
            "_view_name": "LayoutView",
            "align_content": null,
            "align_items": null,
            "align_self": null,
            "border": null,
            "bottom": null,
            "display": null,
            "flex": null,
            "flex_flow": null,
            "grid_area": null,
            "grid_auto_columns": null,
            "grid_auto_flow": null,
            "grid_auto_rows": null,
            "grid_column": null,
            "grid_gap": null,
            "grid_row": null,
            "grid_template_areas": null,
            "grid_template_columns": null,
            "grid_template_rows": null,
            "height": null,
            "justify_content": null,
            "justify_items": null,
            "left": null,
            "margin": null,
            "max_height": null,
            "max_width": null,
            "min_height": null,
            "min_width": null,
            "object_fit": null,
            "object_position": null,
            "order": null,
            "overflow": null,
            "overflow_x": null,
            "overflow_y": null,
            "padding": null,
            "right": null,
            "top": null,
            "visibility": null,
            "width": null
          }
        },
        "b087ba0c6e0b4e949f54df5f6374a342": {
          "model_module": "@jupyter-widgets/controls",
          "model_name": "DescriptionStyleModel",
          "model_module_version": "1.5.0",
          "state": {
            "_model_module": "@jupyter-widgets/controls",
            "_model_module_version": "1.5.0",
            "_model_name": "DescriptionStyleModel",
            "_view_count": null,
            "_view_module": "@jupyter-widgets/base",
            "_view_module_version": "1.2.0",
            "_view_name": "StyleView",
            "description_width": ""
          }
        },
        "a4dc75a323bc46c2abefef12c99e58d5": {
          "model_module": "@jupyter-widgets/controls",
          "model_name": "HBoxModel",
          "model_module_version": "1.5.0",
          "state": {
            "_dom_classes": [],
            "_model_module": "@jupyter-widgets/controls",
            "_model_module_version": "1.5.0",
            "_model_name": "HBoxModel",
            "_view_count": null,
            "_view_module": "@jupyter-widgets/controls",
            "_view_module_version": "1.5.0",
            "_view_name": "HBoxView",
            "box_style": "",
            "children": [
              "IPY_MODEL_f7045c3b76844a3f8c5df6fe3b94abe3",
              "IPY_MODEL_b49bcac76b3c45ceac22315f1a5b6380",
              "IPY_MODEL_22f4f1062a6c4df288f7d42016030baf"
            ],
            "layout": "IPY_MODEL_7aed057acdc2427e9053aea815b12d79"
          }
        },
        "f7045c3b76844a3f8c5df6fe3b94abe3": {
          "model_module": "@jupyter-widgets/controls",
          "model_name": "HTMLModel",
          "model_module_version": "1.5.0",
          "state": {
            "_dom_classes": [],
            "_model_module": "@jupyter-widgets/controls",
            "_model_module_version": "1.5.0",
            "_model_name": "HTMLModel",
            "_view_count": null,
            "_view_module": "@jupyter-widgets/controls",
            "_view_module_version": "1.5.0",
            "_view_name": "HTMLView",
            "description": "",
            "description_tooltip": null,
            "layout": "IPY_MODEL_2bfc33babb8d45cbb43d6d3a001ecb10",
            "placeholder": "​",
            "style": "IPY_MODEL_55ece95c76d94960a804f466909d1584",
            "value": "sentence_bert_config.json: 100%"
          }
        },
        "b49bcac76b3c45ceac22315f1a5b6380": {
          "model_module": "@jupyter-widgets/controls",
          "model_name": "FloatProgressModel",
          "model_module_version": "1.5.0",
          "state": {
            "_dom_classes": [],
            "_model_module": "@jupyter-widgets/controls",
            "_model_module_version": "1.5.0",
            "_model_name": "FloatProgressModel",
            "_view_count": null,
            "_view_module": "@jupyter-widgets/controls",
            "_view_module_version": "1.5.0",
            "_view_name": "ProgressView",
            "bar_style": "success",
            "description": "",
            "description_tooltip": null,
            "layout": "IPY_MODEL_fa73e7ececcc44269ae9015071234da3",
            "max": 53,
            "min": 0,
            "orientation": "horizontal",
            "style": "IPY_MODEL_061cf8f1fe504add8e5830096eafb79a",
            "value": 53
          }
        },
        "22f4f1062a6c4df288f7d42016030baf": {
          "model_module": "@jupyter-widgets/controls",
          "model_name": "HTMLModel",
          "model_module_version": "1.5.0",
          "state": {
            "_dom_classes": [],
            "_model_module": "@jupyter-widgets/controls",
            "_model_module_version": "1.5.0",
            "_model_name": "HTMLModel",
            "_view_count": null,
            "_view_module": "@jupyter-widgets/controls",
            "_view_module_version": "1.5.0",
            "_view_name": "HTMLView",
            "description": "",
            "description_tooltip": null,
            "layout": "IPY_MODEL_f99b42078ec149a0a86cc698ce9cee13",
            "placeholder": "​",
            "style": "IPY_MODEL_b477f870d31e4835bfcc129bee498feb",
            "value": " 53.0/53.0 [00:00&lt;00:00, 5.85kB/s]"
          }
        },
        "7aed057acdc2427e9053aea815b12d79": {
          "model_module": "@jupyter-widgets/base",
          "model_name": "LayoutModel",
          "model_module_version": "1.2.0",
          "state": {
            "_model_module": "@jupyter-widgets/base",
            "_model_module_version": "1.2.0",
            "_model_name": "LayoutModel",
            "_view_count": null,
            "_view_module": "@jupyter-widgets/base",
            "_view_module_version": "1.2.0",
            "_view_name": "LayoutView",
            "align_content": null,
            "align_items": null,
            "align_self": null,
            "border": null,
            "bottom": null,
            "display": null,
            "flex": null,
            "flex_flow": null,
            "grid_area": null,
            "grid_auto_columns": null,
            "grid_auto_flow": null,
            "grid_auto_rows": null,
            "grid_column": null,
            "grid_gap": null,
            "grid_row": null,
            "grid_template_areas": null,
            "grid_template_columns": null,
            "grid_template_rows": null,
            "height": null,
            "justify_content": null,
            "justify_items": null,
            "left": null,
            "margin": null,
            "max_height": null,
            "max_width": null,
            "min_height": null,
            "min_width": null,
            "object_fit": null,
            "object_position": null,
            "order": null,
            "overflow": null,
            "overflow_x": null,
            "overflow_y": null,
            "padding": null,
            "right": null,
            "top": null,
            "visibility": null,
            "width": null
          }
        },
        "2bfc33babb8d45cbb43d6d3a001ecb10": {
          "model_module": "@jupyter-widgets/base",
          "model_name": "LayoutModel",
          "model_module_version": "1.2.0",
          "state": {
            "_model_module": "@jupyter-widgets/base",
            "_model_module_version": "1.2.0",
            "_model_name": "LayoutModel",
            "_view_count": null,
            "_view_module": "@jupyter-widgets/base",
            "_view_module_version": "1.2.0",
            "_view_name": "LayoutView",
            "align_content": null,
            "align_items": null,
            "align_self": null,
            "border": null,
            "bottom": null,
            "display": null,
            "flex": null,
            "flex_flow": null,
            "grid_area": null,
            "grid_auto_columns": null,
            "grid_auto_flow": null,
            "grid_auto_rows": null,
            "grid_column": null,
            "grid_gap": null,
            "grid_row": null,
            "grid_template_areas": null,
            "grid_template_columns": null,
            "grid_template_rows": null,
            "height": null,
            "justify_content": null,
            "justify_items": null,
            "left": null,
            "margin": null,
            "max_height": null,
            "max_width": null,
            "min_height": null,
            "min_width": null,
            "object_fit": null,
            "object_position": null,
            "order": null,
            "overflow": null,
            "overflow_x": null,
            "overflow_y": null,
            "padding": null,
            "right": null,
            "top": null,
            "visibility": null,
            "width": null
          }
        },
        "55ece95c76d94960a804f466909d1584": {
          "model_module": "@jupyter-widgets/controls",
          "model_name": "DescriptionStyleModel",
          "model_module_version": "1.5.0",
          "state": {
            "_model_module": "@jupyter-widgets/controls",
            "_model_module_version": "1.5.0",
            "_model_name": "DescriptionStyleModel",
            "_view_count": null,
            "_view_module": "@jupyter-widgets/base",
            "_view_module_version": "1.2.0",
            "_view_name": "StyleView",
            "description_width": ""
          }
        },
        "fa73e7ececcc44269ae9015071234da3": {
          "model_module": "@jupyter-widgets/base",
          "model_name": "LayoutModel",
          "model_module_version": "1.2.0",
          "state": {
            "_model_module": "@jupyter-widgets/base",
            "_model_module_version": "1.2.0",
            "_model_name": "LayoutModel",
            "_view_count": null,
            "_view_module": "@jupyter-widgets/base",
            "_view_module_version": "1.2.0",
            "_view_name": "LayoutView",
            "align_content": null,
            "align_items": null,
            "align_self": null,
            "border": null,
            "bottom": null,
            "display": null,
            "flex": null,
            "flex_flow": null,
            "grid_area": null,
            "grid_auto_columns": null,
            "grid_auto_flow": null,
            "grid_auto_rows": null,
            "grid_column": null,
            "grid_gap": null,
            "grid_row": null,
            "grid_template_areas": null,
            "grid_template_columns": null,
            "grid_template_rows": null,
            "height": null,
            "justify_content": null,
            "justify_items": null,
            "left": null,
            "margin": null,
            "max_height": null,
            "max_width": null,
            "min_height": null,
            "min_width": null,
            "object_fit": null,
            "object_position": null,
            "order": null,
            "overflow": null,
            "overflow_x": null,
            "overflow_y": null,
            "padding": null,
            "right": null,
            "top": null,
            "visibility": null,
            "width": null
          }
        },
        "061cf8f1fe504add8e5830096eafb79a": {
          "model_module": "@jupyter-widgets/controls",
          "model_name": "ProgressStyleModel",
          "model_module_version": "1.5.0",
          "state": {
            "_model_module": "@jupyter-widgets/controls",
            "_model_module_version": "1.5.0",
            "_model_name": "ProgressStyleModel",
            "_view_count": null,
            "_view_module": "@jupyter-widgets/base",
            "_view_module_version": "1.2.0",
            "_view_name": "StyleView",
            "bar_color": null,
            "description_width": ""
          }
        },
        "f99b42078ec149a0a86cc698ce9cee13": {
          "model_module": "@jupyter-widgets/base",
          "model_name": "LayoutModel",
          "model_module_version": "1.2.0",
          "state": {
            "_model_module": "@jupyter-widgets/base",
            "_model_module_version": "1.2.0",
            "_model_name": "LayoutModel",
            "_view_count": null,
            "_view_module": "@jupyter-widgets/base",
            "_view_module_version": "1.2.0",
            "_view_name": "LayoutView",
            "align_content": null,
            "align_items": null,
            "align_self": null,
            "border": null,
            "bottom": null,
            "display": null,
            "flex": null,
            "flex_flow": null,
            "grid_area": null,
            "grid_auto_columns": null,
            "grid_auto_flow": null,
            "grid_auto_rows": null,
            "grid_column": null,
            "grid_gap": null,
            "grid_row": null,
            "grid_template_areas": null,
            "grid_template_columns": null,
            "grid_template_rows": null,
            "height": null,
            "justify_content": null,
            "justify_items": null,
            "left": null,
            "margin": null,
            "max_height": null,
            "max_width": null,
            "min_height": null,
            "min_width": null,
            "object_fit": null,
            "object_position": null,
            "order": null,
            "overflow": null,
            "overflow_x": null,
            "overflow_y": null,
            "padding": null,
            "right": null,
            "top": null,
            "visibility": null,
            "width": null
          }
        },
        "b477f870d31e4835bfcc129bee498feb": {
          "model_module": "@jupyter-widgets/controls",
          "model_name": "DescriptionStyleModel",
          "model_module_version": "1.5.0",
          "state": {
            "_model_module": "@jupyter-widgets/controls",
            "_model_module_version": "1.5.0",
            "_model_name": "DescriptionStyleModel",
            "_view_count": null,
            "_view_module": "@jupyter-widgets/base",
            "_view_module_version": "1.2.0",
            "_view_name": "StyleView",
            "description_width": ""
          }
        },
        "a55fa01dbeea45f1a3841b36c2afd47d": {
          "model_module": "@jupyter-widgets/controls",
          "model_name": "HBoxModel",
          "model_module_version": "1.5.0",
          "state": {
            "_dom_classes": [],
            "_model_module": "@jupyter-widgets/controls",
            "_model_module_version": "1.5.0",
            "_model_name": "HBoxModel",
            "_view_count": null,
            "_view_module": "@jupyter-widgets/controls",
            "_view_module_version": "1.5.0",
            "_view_name": "HBoxView",
            "box_style": "",
            "children": [
              "IPY_MODEL_df94bb9bd74d4731a597e48bbe95c9bf",
              "IPY_MODEL_2abf45ef2d4e44f5b3b4d6e537ab2a5a",
              "IPY_MODEL_81985119abda40ec91651bb795427d9f"
            ],
            "layout": "IPY_MODEL_bc86f964952d42f8a32bcac8d0706c2d"
          }
        },
        "df94bb9bd74d4731a597e48bbe95c9bf": {
          "model_module": "@jupyter-widgets/controls",
          "model_name": "HTMLModel",
          "model_module_version": "1.5.0",
          "state": {
            "_dom_classes": [],
            "_model_module": "@jupyter-widgets/controls",
            "_model_module_version": "1.5.0",
            "_model_name": "HTMLModel",
            "_view_count": null,
            "_view_module": "@jupyter-widgets/controls",
            "_view_module_version": "1.5.0",
            "_view_name": "HTMLView",
            "description": "",
            "description_tooltip": null,
            "layout": "IPY_MODEL_0fcc71c1e0b94a4cb835fb2ddbc41ef3",
            "placeholder": "​",
            "style": "IPY_MODEL_552e947f0b064839b545c066ac990fc6",
            "value": "config.json: 100%"
          }
        },
        "2abf45ef2d4e44f5b3b4d6e537ab2a5a": {
          "model_module": "@jupyter-widgets/controls",
          "model_name": "FloatProgressModel",
          "model_module_version": "1.5.0",
          "state": {
            "_dom_classes": [],
            "_model_module": "@jupyter-widgets/controls",
            "_model_module_version": "1.5.0",
            "_model_name": "FloatProgressModel",
            "_view_count": null,
            "_view_module": "@jupyter-widgets/controls",
            "_view_module_version": "1.5.0",
            "_view_name": "ProgressView",
            "bar_style": "success",
            "description": "",
            "description_tooltip": null,
            "layout": "IPY_MODEL_ae45883f003d433b8a4f12fdabad146b",
            "max": 571,
            "min": 0,
            "orientation": "horizontal",
            "style": "IPY_MODEL_e0cc7b9f456041338e78b3b7e04efe17",
            "value": 571
          }
        },
        "81985119abda40ec91651bb795427d9f": {
          "model_module": "@jupyter-widgets/controls",
          "model_name": "HTMLModel",
          "model_module_version": "1.5.0",
          "state": {
            "_dom_classes": [],
            "_model_module": "@jupyter-widgets/controls",
            "_model_module_version": "1.5.0",
            "_model_name": "HTMLModel",
            "_view_count": null,
            "_view_module": "@jupyter-widgets/controls",
            "_view_module_version": "1.5.0",
            "_view_name": "HTMLView",
            "description": "",
            "description_tooltip": null,
            "layout": "IPY_MODEL_a19a077326c040aca6feb09633148874",
            "placeholder": "​",
            "style": "IPY_MODEL_00e436c3df1743c9bec02f39f868b3a4",
            "value": " 571/571 [00:00&lt;00:00, 53.2kB/s]"
          }
        },
        "bc86f964952d42f8a32bcac8d0706c2d": {
          "model_module": "@jupyter-widgets/base",
          "model_name": "LayoutModel",
          "model_module_version": "1.2.0",
          "state": {
            "_model_module": "@jupyter-widgets/base",
            "_model_module_version": "1.2.0",
            "_model_name": "LayoutModel",
            "_view_count": null,
            "_view_module": "@jupyter-widgets/base",
            "_view_module_version": "1.2.0",
            "_view_name": "LayoutView",
            "align_content": null,
            "align_items": null,
            "align_self": null,
            "border": null,
            "bottom": null,
            "display": null,
            "flex": null,
            "flex_flow": null,
            "grid_area": null,
            "grid_auto_columns": null,
            "grid_auto_flow": null,
            "grid_auto_rows": null,
            "grid_column": null,
            "grid_gap": null,
            "grid_row": null,
            "grid_template_areas": null,
            "grid_template_columns": null,
            "grid_template_rows": null,
            "height": null,
            "justify_content": null,
            "justify_items": null,
            "left": null,
            "margin": null,
            "max_height": null,
            "max_width": null,
            "min_height": null,
            "min_width": null,
            "object_fit": null,
            "object_position": null,
            "order": null,
            "overflow": null,
            "overflow_x": null,
            "overflow_y": null,
            "padding": null,
            "right": null,
            "top": null,
            "visibility": null,
            "width": null
          }
        },
        "0fcc71c1e0b94a4cb835fb2ddbc41ef3": {
          "model_module": "@jupyter-widgets/base",
          "model_name": "LayoutModel",
          "model_module_version": "1.2.0",
          "state": {
            "_model_module": "@jupyter-widgets/base",
            "_model_module_version": "1.2.0",
            "_model_name": "LayoutModel",
            "_view_count": null,
            "_view_module": "@jupyter-widgets/base",
            "_view_module_version": "1.2.0",
            "_view_name": "LayoutView",
            "align_content": null,
            "align_items": null,
            "align_self": null,
            "border": null,
            "bottom": null,
            "display": null,
            "flex": null,
            "flex_flow": null,
            "grid_area": null,
            "grid_auto_columns": null,
            "grid_auto_flow": null,
            "grid_auto_rows": null,
            "grid_column": null,
            "grid_gap": null,
            "grid_row": null,
            "grid_template_areas": null,
            "grid_template_columns": null,
            "grid_template_rows": null,
            "height": null,
            "justify_content": null,
            "justify_items": null,
            "left": null,
            "margin": null,
            "max_height": null,
            "max_width": null,
            "min_height": null,
            "min_width": null,
            "object_fit": null,
            "object_position": null,
            "order": null,
            "overflow": null,
            "overflow_x": null,
            "overflow_y": null,
            "padding": null,
            "right": null,
            "top": null,
            "visibility": null,
            "width": null
          }
        },
        "552e947f0b064839b545c066ac990fc6": {
          "model_module": "@jupyter-widgets/controls",
          "model_name": "DescriptionStyleModel",
          "model_module_version": "1.5.0",
          "state": {
            "_model_module": "@jupyter-widgets/controls",
            "_model_module_version": "1.5.0",
            "_model_name": "DescriptionStyleModel",
            "_view_count": null,
            "_view_module": "@jupyter-widgets/base",
            "_view_module_version": "1.2.0",
            "_view_name": "StyleView",
            "description_width": ""
          }
        },
        "ae45883f003d433b8a4f12fdabad146b": {
          "model_module": "@jupyter-widgets/base",
          "model_name": "LayoutModel",
          "model_module_version": "1.2.0",
          "state": {
            "_model_module": "@jupyter-widgets/base",
            "_model_module_version": "1.2.0",
            "_model_name": "LayoutModel",
            "_view_count": null,
            "_view_module": "@jupyter-widgets/base",
            "_view_module_version": "1.2.0",
            "_view_name": "LayoutView",
            "align_content": null,
            "align_items": null,
            "align_self": null,
            "border": null,
            "bottom": null,
            "display": null,
            "flex": null,
            "flex_flow": null,
            "grid_area": null,
            "grid_auto_columns": null,
            "grid_auto_flow": null,
            "grid_auto_rows": null,
            "grid_column": null,
            "grid_gap": null,
            "grid_row": null,
            "grid_template_areas": null,
            "grid_template_columns": null,
            "grid_template_rows": null,
            "height": null,
            "justify_content": null,
            "justify_items": null,
            "left": null,
            "margin": null,
            "max_height": null,
            "max_width": null,
            "min_height": null,
            "min_width": null,
            "object_fit": null,
            "object_position": null,
            "order": null,
            "overflow": null,
            "overflow_x": null,
            "overflow_y": null,
            "padding": null,
            "right": null,
            "top": null,
            "visibility": null,
            "width": null
          }
        },
        "e0cc7b9f456041338e78b3b7e04efe17": {
          "model_module": "@jupyter-widgets/controls",
          "model_name": "ProgressStyleModel",
          "model_module_version": "1.5.0",
          "state": {
            "_model_module": "@jupyter-widgets/controls",
            "_model_module_version": "1.5.0",
            "_model_name": "ProgressStyleModel",
            "_view_count": null,
            "_view_module": "@jupyter-widgets/base",
            "_view_module_version": "1.2.0",
            "_view_name": "StyleView",
            "bar_color": null,
            "description_width": ""
          }
        },
        "a19a077326c040aca6feb09633148874": {
          "model_module": "@jupyter-widgets/base",
          "model_name": "LayoutModel",
          "model_module_version": "1.2.0",
          "state": {
            "_model_module": "@jupyter-widgets/base",
            "_model_module_version": "1.2.0",
            "_model_name": "LayoutModel",
            "_view_count": null,
            "_view_module": "@jupyter-widgets/base",
            "_view_module_version": "1.2.0",
            "_view_name": "LayoutView",
            "align_content": null,
            "align_items": null,
            "align_self": null,
            "border": null,
            "bottom": null,
            "display": null,
            "flex": null,
            "flex_flow": null,
            "grid_area": null,
            "grid_auto_columns": null,
            "grid_auto_flow": null,
            "grid_auto_rows": null,
            "grid_column": null,
            "grid_gap": null,
            "grid_row": null,
            "grid_template_areas": null,
            "grid_template_columns": null,
            "grid_template_rows": null,
            "height": null,
            "justify_content": null,
            "justify_items": null,
            "left": null,
            "margin": null,
            "max_height": null,
            "max_width": null,
            "min_height": null,
            "min_width": null,
            "object_fit": null,
            "object_position": null,
            "order": null,
            "overflow": null,
            "overflow_x": null,
            "overflow_y": null,
            "padding": null,
            "right": null,
            "top": null,
            "visibility": null,
            "width": null
          }
        },
        "00e436c3df1743c9bec02f39f868b3a4": {
          "model_module": "@jupyter-widgets/controls",
          "model_name": "DescriptionStyleModel",
          "model_module_version": "1.5.0",
          "state": {
            "_model_module": "@jupyter-widgets/controls",
            "_model_module_version": "1.5.0",
            "_model_name": "DescriptionStyleModel",
            "_view_count": null,
            "_view_module": "@jupyter-widgets/base",
            "_view_module_version": "1.2.0",
            "_view_name": "StyleView",
            "description_width": ""
          }
        },
        "73133810367046cbb02af342705f1917": {
          "model_module": "@jupyter-widgets/controls",
          "model_name": "HBoxModel",
          "model_module_version": "1.5.0",
          "state": {
            "_dom_classes": [],
            "_model_module": "@jupyter-widgets/controls",
            "_model_module_version": "1.5.0",
            "_model_name": "HBoxModel",
            "_view_count": null,
            "_view_module": "@jupyter-widgets/controls",
            "_view_module_version": "1.5.0",
            "_view_name": "HBoxView",
            "box_style": "",
            "children": [
              "IPY_MODEL_8b53af5a684c42ec9f2345e22896000a",
              "IPY_MODEL_49eac08aa2af4af587bfc9a021d4c27c",
              "IPY_MODEL_26a0e7f67760442b8cacbc9dea4bcec8"
            ],
            "layout": "IPY_MODEL_58197c9d60f14350af5afb7b250354ed"
          }
        },
        "8b53af5a684c42ec9f2345e22896000a": {
          "model_module": "@jupyter-widgets/controls",
          "model_name": "HTMLModel",
          "model_module_version": "1.5.0",
          "state": {
            "_dom_classes": [],
            "_model_module": "@jupyter-widgets/controls",
            "_model_module_version": "1.5.0",
            "_model_name": "HTMLModel",
            "_view_count": null,
            "_view_module": "@jupyter-widgets/controls",
            "_view_module_version": "1.5.0",
            "_view_name": "HTMLView",
            "description": "",
            "description_tooltip": null,
            "layout": "IPY_MODEL_409185b861954d669d64ba5531de01b6",
            "placeholder": "​",
            "style": "IPY_MODEL_8f96422563db41bab42c01fc64d95398",
            "value": "model.safetensors: 100%"
          }
        },
        "49eac08aa2af4af587bfc9a021d4c27c": {
          "model_module": "@jupyter-widgets/controls",
          "model_name": "FloatProgressModel",
          "model_module_version": "1.5.0",
          "state": {
            "_dom_classes": [],
            "_model_module": "@jupyter-widgets/controls",
            "_model_module_version": "1.5.0",
            "_model_name": "FloatProgressModel",
            "_view_count": null,
            "_view_module": "@jupyter-widgets/controls",
            "_view_module_version": "1.5.0",
            "_view_name": "ProgressView",
            "bar_style": "success",
            "description": "",
            "description_tooltip": null,
            "layout": "IPY_MODEL_5d8b2e94d86242f1a47790f9d0b54ba4",
            "max": 437971872,
            "min": 0,
            "orientation": "horizontal",
            "style": "IPY_MODEL_3868ba9bdd3d431486f1b21eb6645cd2",
            "value": 437971872
          }
        },
        "26a0e7f67760442b8cacbc9dea4bcec8": {
          "model_module": "@jupyter-widgets/controls",
          "model_name": "HTMLModel",
          "model_module_version": "1.5.0",
          "state": {
            "_dom_classes": [],
            "_model_module": "@jupyter-widgets/controls",
            "_model_module_version": "1.5.0",
            "_model_name": "HTMLModel",
            "_view_count": null,
            "_view_module": "@jupyter-widgets/controls",
            "_view_module_version": "1.5.0",
            "_view_name": "HTMLView",
            "description": "",
            "description_tooltip": null,
            "layout": "IPY_MODEL_de39c8ba0ae44b9785210fb9d5cf761c",
            "placeholder": "​",
            "style": "IPY_MODEL_d0b653f415eb49eab55cca31cdb0dee4",
            "value": " 438M/438M [00:05&lt;00:00, 59.8MB/s]"
          }
        },
        "58197c9d60f14350af5afb7b250354ed": {
          "model_module": "@jupyter-widgets/base",
          "model_name": "LayoutModel",
          "model_module_version": "1.2.0",
          "state": {
            "_model_module": "@jupyter-widgets/base",
            "_model_module_version": "1.2.0",
            "_model_name": "LayoutModel",
            "_view_count": null,
            "_view_module": "@jupyter-widgets/base",
            "_view_module_version": "1.2.0",
            "_view_name": "LayoutView",
            "align_content": null,
            "align_items": null,
            "align_self": null,
            "border": null,
            "bottom": null,
            "display": null,
            "flex": null,
            "flex_flow": null,
            "grid_area": null,
            "grid_auto_columns": null,
            "grid_auto_flow": null,
            "grid_auto_rows": null,
            "grid_column": null,
            "grid_gap": null,
            "grid_row": null,
            "grid_template_areas": null,
            "grid_template_columns": null,
            "grid_template_rows": null,
            "height": null,
            "justify_content": null,
            "justify_items": null,
            "left": null,
            "margin": null,
            "max_height": null,
            "max_width": null,
            "min_height": null,
            "min_width": null,
            "object_fit": null,
            "object_position": null,
            "order": null,
            "overflow": null,
            "overflow_x": null,
            "overflow_y": null,
            "padding": null,
            "right": null,
            "top": null,
            "visibility": null,
            "width": null
          }
        },
        "409185b861954d669d64ba5531de01b6": {
          "model_module": "@jupyter-widgets/base",
          "model_name": "LayoutModel",
          "model_module_version": "1.2.0",
          "state": {
            "_model_module": "@jupyter-widgets/base",
            "_model_module_version": "1.2.0",
            "_model_name": "LayoutModel",
            "_view_count": null,
            "_view_module": "@jupyter-widgets/base",
            "_view_module_version": "1.2.0",
            "_view_name": "LayoutView",
            "align_content": null,
            "align_items": null,
            "align_self": null,
            "border": null,
            "bottom": null,
            "display": null,
            "flex": null,
            "flex_flow": null,
            "grid_area": null,
            "grid_auto_columns": null,
            "grid_auto_flow": null,
            "grid_auto_rows": null,
            "grid_column": null,
            "grid_gap": null,
            "grid_row": null,
            "grid_template_areas": null,
            "grid_template_columns": null,
            "grid_template_rows": null,
            "height": null,
            "justify_content": null,
            "justify_items": null,
            "left": null,
            "margin": null,
            "max_height": null,
            "max_width": null,
            "min_height": null,
            "min_width": null,
            "object_fit": null,
            "object_position": null,
            "order": null,
            "overflow": null,
            "overflow_x": null,
            "overflow_y": null,
            "padding": null,
            "right": null,
            "top": null,
            "visibility": null,
            "width": null
          }
        },
        "8f96422563db41bab42c01fc64d95398": {
          "model_module": "@jupyter-widgets/controls",
          "model_name": "DescriptionStyleModel",
          "model_module_version": "1.5.0",
          "state": {
            "_model_module": "@jupyter-widgets/controls",
            "_model_module_version": "1.5.0",
            "_model_name": "DescriptionStyleModel",
            "_view_count": null,
            "_view_module": "@jupyter-widgets/base",
            "_view_module_version": "1.2.0",
            "_view_name": "StyleView",
            "description_width": ""
          }
        },
        "5d8b2e94d86242f1a47790f9d0b54ba4": {
          "model_module": "@jupyter-widgets/base",
          "model_name": "LayoutModel",
          "model_module_version": "1.2.0",
          "state": {
            "_model_module": "@jupyter-widgets/base",
            "_model_module_version": "1.2.0",
            "_model_name": "LayoutModel",
            "_view_count": null,
            "_view_module": "@jupyter-widgets/base",
            "_view_module_version": "1.2.0",
            "_view_name": "LayoutView",
            "align_content": null,
            "align_items": null,
            "align_self": null,
            "border": null,
            "bottom": null,
            "display": null,
            "flex": null,
            "flex_flow": null,
            "grid_area": null,
            "grid_auto_columns": null,
            "grid_auto_flow": null,
            "grid_auto_rows": null,
            "grid_column": null,
            "grid_gap": null,
            "grid_row": null,
            "grid_template_areas": null,
            "grid_template_columns": null,
            "grid_template_rows": null,
            "height": null,
            "justify_content": null,
            "justify_items": null,
            "left": null,
            "margin": null,
            "max_height": null,
            "max_width": null,
            "min_height": null,
            "min_width": null,
            "object_fit": null,
            "object_position": null,
            "order": null,
            "overflow": null,
            "overflow_x": null,
            "overflow_y": null,
            "padding": null,
            "right": null,
            "top": null,
            "visibility": null,
            "width": null
          }
        },
        "3868ba9bdd3d431486f1b21eb6645cd2": {
          "model_module": "@jupyter-widgets/controls",
          "model_name": "ProgressStyleModel",
          "model_module_version": "1.5.0",
          "state": {
            "_model_module": "@jupyter-widgets/controls",
            "_model_module_version": "1.5.0",
            "_model_name": "ProgressStyleModel",
            "_view_count": null,
            "_view_module": "@jupyter-widgets/base",
            "_view_module_version": "1.2.0",
            "_view_name": "StyleView",
            "bar_color": null,
            "description_width": ""
          }
        },
        "de39c8ba0ae44b9785210fb9d5cf761c": {
          "model_module": "@jupyter-widgets/base",
          "model_name": "LayoutModel",
          "model_module_version": "1.2.0",
          "state": {
            "_model_module": "@jupyter-widgets/base",
            "_model_module_version": "1.2.0",
            "_model_name": "LayoutModel",
            "_view_count": null,
            "_view_module": "@jupyter-widgets/base",
            "_view_module_version": "1.2.0",
            "_view_name": "LayoutView",
            "align_content": null,
            "align_items": null,
            "align_self": null,
            "border": null,
            "bottom": null,
            "display": null,
            "flex": null,
            "flex_flow": null,
            "grid_area": null,
            "grid_auto_columns": null,
            "grid_auto_flow": null,
            "grid_auto_rows": null,
            "grid_column": null,
            "grid_gap": null,
            "grid_row": null,
            "grid_template_areas": null,
            "grid_template_columns": null,
            "grid_template_rows": null,
            "height": null,
            "justify_content": null,
            "justify_items": null,
            "left": null,
            "margin": null,
            "max_height": null,
            "max_width": null,
            "min_height": null,
            "min_width": null,
            "object_fit": null,
            "object_position": null,
            "order": null,
            "overflow": null,
            "overflow_x": null,
            "overflow_y": null,
            "padding": null,
            "right": null,
            "top": null,
            "visibility": null,
            "width": null
          }
        },
        "d0b653f415eb49eab55cca31cdb0dee4": {
          "model_module": "@jupyter-widgets/controls",
          "model_name": "DescriptionStyleModel",
          "model_module_version": "1.5.0",
          "state": {
            "_model_module": "@jupyter-widgets/controls",
            "_model_module_version": "1.5.0",
            "_model_name": "DescriptionStyleModel",
            "_view_count": null,
            "_view_module": "@jupyter-widgets/base",
            "_view_module_version": "1.2.0",
            "_view_name": "StyleView",
            "description_width": ""
          }
        },
        "4386a916507f40eb84a416448f5625ca": {
          "model_module": "@jupyter-widgets/controls",
          "model_name": "HBoxModel",
          "model_module_version": "1.5.0",
          "state": {
            "_dom_classes": [],
            "_model_module": "@jupyter-widgets/controls",
            "_model_module_version": "1.5.0",
            "_model_name": "HBoxModel",
            "_view_count": null,
            "_view_module": "@jupyter-widgets/controls",
            "_view_module_version": "1.5.0",
            "_view_name": "HBoxView",
            "box_style": "",
            "children": [
              "IPY_MODEL_cf9f4d901a994645a88785e7ab099140",
              "IPY_MODEL_b25980b7d39b4d8bb03d0cc9f2b6f5a1",
              "IPY_MODEL_6798a9a1c27e43968c0b5c912fba7ac7"
            ],
            "layout": "IPY_MODEL_53fc401779a445d8ae21af6dcc9bcd8f"
          }
        },
        "cf9f4d901a994645a88785e7ab099140": {
          "model_module": "@jupyter-widgets/controls",
          "model_name": "HTMLModel",
          "model_module_version": "1.5.0",
          "state": {
            "_dom_classes": [],
            "_model_module": "@jupyter-widgets/controls",
            "_model_module_version": "1.5.0",
            "_model_name": "HTMLModel",
            "_view_count": null,
            "_view_module": "@jupyter-widgets/controls",
            "_view_module_version": "1.5.0",
            "_view_name": "HTMLView",
            "description": "",
            "description_tooltip": null,
            "layout": "IPY_MODEL_8c823e8ba3ed4be4b1cd075da20a19f1",
            "placeholder": "​",
            "style": "IPY_MODEL_e792a80fd91d4ada90fd84a8c4f7217b",
            "value": "tokenizer_config.json: 100%"
          }
        },
        "b25980b7d39b4d8bb03d0cc9f2b6f5a1": {
          "model_module": "@jupyter-widgets/controls",
          "model_name": "FloatProgressModel",
          "model_module_version": "1.5.0",
          "state": {
            "_dom_classes": [],
            "_model_module": "@jupyter-widgets/controls",
            "_model_module_version": "1.5.0",
            "_model_name": "FloatProgressModel",
            "_view_count": null,
            "_view_module": "@jupyter-widgets/controls",
            "_view_module_version": "1.5.0",
            "_view_name": "ProgressView",
            "bar_style": "success",
            "description": "",
            "description_tooltip": null,
            "layout": "IPY_MODEL_f790ede0bc5d4c13ab044c18e3a01715",
            "max": 363,
            "min": 0,
            "orientation": "horizontal",
            "style": "IPY_MODEL_e2cc8706b4eb4b29a6d05de2d3f17ad7",
            "value": 363
          }
        },
        "6798a9a1c27e43968c0b5c912fba7ac7": {
          "model_module": "@jupyter-widgets/controls",
          "model_name": "HTMLModel",
          "model_module_version": "1.5.0",
          "state": {
            "_dom_classes": [],
            "_model_module": "@jupyter-widgets/controls",
            "_model_module_version": "1.5.0",
            "_model_name": "HTMLModel",
            "_view_count": null,
            "_view_module": "@jupyter-widgets/controls",
            "_view_module_version": "1.5.0",
            "_view_name": "HTMLView",
            "description": "",
            "description_tooltip": null,
            "layout": "IPY_MODEL_528a8c175f494d18902f3acae2884ac9",
            "placeholder": "​",
            "style": "IPY_MODEL_7b0b660d15664260afb6f7a65c8b90ec",
            "value": " 363/363 [00:00&lt;00:00, 37.8kB/s]"
          }
        },
        "53fc401779a445d8ae21af6dcc9bcd8f": {
          "model_module": "@jupyter-widgets/base",
          "model_name": "LayoutModel",
          "model_module_version": "1.2.0",
          "state": {
            "_model_module": "@jupyter-widgets/base",
            "_model_module_version": "1.2.0",
            "_model_name": "LayoutModel",
            "_view_count": null,
            "_view_module": "@jupyter-widgets/base",
            "_view_module_version": "1.2.0",
            "_view_name": "LayoutView",
            "align_content": null,
            "align_items": null,
            "align_self": null,
            "border": null,
            "bottom": null,
            "display": null,
            "flex": null,
            "flex_flow": null,
            "grid_area": null,
            "grid_auto_columns": null,
            "grid_auto_flow": null,
            "grid_auto_rows": null,
            "grid_column": null,
            "grid_gap": null,
            "grid_row": null,
            "grid_template_areas": null,
            "grid_template_columns": null,
            "grid_template_rows": null,
            "height": null,
            "justify_content": null,
            "justify_items": null,
            "left": null,
            "margin": null,
            "max_height": null,
            "max_width": null,
            "min_height": null,
            "min_width": null,
            "object_fit": null,
            "object_position": null,
            "order": null,
            "overflow": null,
            "overflow_x": null,
            "overflow_y": null,
            "padding": null,
            "right": null,
            "top": null,
            "visibility": null,
            "width": null
          }
        },
        "8c823e8ba3ed4be4b1cd075da20a19f1": {
          "model_module": "@jupyter-widgets/base",
          "model_name": "LayoutModel",
          "model_module_version": "1.2.0",
          "state": {
            "_model_module": "@jupyter-widgets/base",
            "_model_module_version": "1.2.0",
            "_model_name": "LayoutModel",
            "_view_count": null,
            "_view_module": "@jupyter-widgets/base",
            "_view_module_version": "1.2.0",
            "_view_name": "LayoutView",
            "align_content": null,
            "align_items": null,
            "align_self": null,
            "border": null,
            "bottom": null,
            "display": null,
            "flex": null,
            "flex_flow": null,
            "grid_area": null,
            "grid_auto_columns": null,
            "grid_auto_flow": null,
            "grid_auto_rows": null,
            "grid_column": null,
            "grid_gap": null,
            "grid_row": null,
            "grid_template_areas": null,
            "grid_template_columns": null,
            "grid_template_rows": null,
            "height": null,
            "justify_content": null,
            "justify_items": null,
            "left": null,
            "margin": null,
            "max_height": null,
            "max_width": null,
            "min_height": null,
            "min_width": null,
            "object_fit": null,
            "object_position": null,
            "order": null,
            "overflow": null,
            "overflow_x": null,
            "overflow_y": null,
            "padding": null,
            "right": null,
            "top": null,
            "visibility": null,
            "width": null
          }
        },
        "e792a80fd91d4ada90fd84a8c4f7217b": {
          "model_module": "@jupyter-widgets/controls",
          "model_name": "DescriptionStyleModel",
          "model_module_version": "1.5.0",
          "state": {
            "_model_module": "@jupyter-widgets/controls",
            "_model_module_version": "1.5.0",
            "_model_name": "DescriptionStyleModel",
            "_view_count": null,
            "_view_module": "@jupyter-widgets/base",
            "_view_module_version": "1.2.0",
            "_view_name": "StyleView",
            "description_width": ""
          }
        },
        "f790ede0bc5d4c13ab044c18e3a01715": {
          "model_module": "@jupyter-widgets/base",
          "model_name": "LayoutModel",
          "model_module_version": "1.2.0",
          "state": {
            "_model_module": "@jupyter-widgets/base",
            "_model_module_version": "1.2.0",
            "_model_name": "LayoutModel",
            "_view_count": null,
            "_view_module": "@jupyter-widgets/base",
            "_view_module_version": "1.2.0",
            "_view_name": "LayoutView",
            "align_content": null,
            "align_items": null,
            "align_self": null,
            "border": null,
            "bottom": null,
            "display": null,
            "flex": null,
            "flex_flow": null,
            "grid_area": null,
            "grid_auto_columns": null,
            "grid_auto_flow": null,
            "grid_auto_rows": null,
            "grid_column": null,
            "grid_gap": null,
            "grid_row": null,
            "grid_template_areas": null,
            "grid_template_columns": null,
            "grid_template_rows": null,
            "height": null,
            "justify_content": null,
            "justify_items": null,
            "left": null,
            "margin": null,
            "max_height": null,
            "max_width": null,
            "min_height": null,
            "min_width": null,
            "object_fit": null,
            "object_position": null,
            "order": null,
            "overflow": null,
            "overflow_x": null,
            "overflow_y": null,
            "padding": null,
            "right": null,
            "top": null,
            "visibility": null,
            "width": null
          }
        },
        "e2cc8706b4eb4b29a6d05de2d3f17ad7": {
          "model_module": "@jupyter-widgets/controls",
          "model_name": "ProgressStyleModel",
          "model_module_version": "1.5.0",
          "state": {
            "_model_module": "@jupyter-widgets/controls",
            "_model_module_version": "1.5.0",
            "_model_name": "ProgressStyleModel",
            "_view_count": null,
            "_view_module": "@jupyter-widgets/base",
            "_view_module_version": "1.2.0",
            "_view_name": "StyleView",
            "bar_color": null,
            "description_width": ""
          }
        },
        "528a8c175f494d18902f3acae2884ac9": {
          "model_module": "@jupyter-widgets/base",
          "model_name": "LayoutModel",
          "model_module_version": "1.2.0",
          "state": {
            "_model_module": "@jupyter-widgets/base",
            "_model_module_version": "1.2.0",
            "_model_name": "LayoutModel",
            "_view_count": null,
            "_view_module": "@jupyter-widgets/base",
            "_view_module_version": "1.2.0",
            "_view_name": "LayoutView",
            "align_content": null,
            "align_items": null,
            "align_self": null,
            "border": null,
            "bottom": null,
            "display": null,
            "flex": null,
            "flex_flow": null,
            "grid_area": null,
            "grid_auto_columns": null,
            "grid_auto_flow": null,
            "grid_auto_rows": null,
            "grid_column": null,
            "grid_gap": null,
            "grid_row": null,
            "grid_template_areas": null,
            "grid_template_columns": null,
            "grid_template_rows": null,
            "height": null,
            "justify_content": null,
            "justify_items": null,
            "left": null,
            "margin": null,
            "max_height": null,
            "max_width": null,
            "min_height": null,
            "min_width": null,
            "object_fit": null,
            "object_position": null,
            "order": null,
            "overflow": null,
            "overflow_x": null,
            "overflow_y": null,
            "padding": null,
            "right": null,
            "top": null,
            "visibility": null,
            "width": null
          }
        },
        "7b0b660d15664260afb6f7a65c8b90ec": {
          "model_module": "@jupyter-widgets/controls",
          "model_name": "DescriptionStyleModel",
          "model_module_version": "1.5.0",
          "state": {
            "_model_module": "@jupyter-widgets/controls",
            "_model_module_version": "1.5.0",
            "_model_name": "DescriptionStyleModel",
            "_view_count": null,
            "_view_module": "@jupyter-widgets/base",
            "_view_module_version": "1.2.0",
            "_view_name": "StyleView",
            "description_width": ""
          }
        },
        "5d208c9ee89d48aa962041c9c20a8d2d": {
          "model_module": "@jupyter-widgets/controls",
          "model_name": "HBoxModel",
          "model_module_version": "1.5.0",
          "state": {
            "_dom_classes": [],
            "_model_module": "@jupyter-widgets/controls",
            "_model_module_version": "1.5.0",
            "_model_name": "HBoxModel",
            "_view_count": null,
            "_view_module": "@jupyter-widgets/controls",
            "_view_module_version": "1.5.0",
            "_view_name": "HBoxView",
            "box_style": "",
            "children": [
              "IPY_MODEL_3dc48be608a64453aacb00f299293b86",
              "IPY_MODEL_2d307324202145dc8001bc61340dad10",
              "IPY_MODEL_2e9188ecdfa9477683bf5eb726c0de8b"
            ],
            "layout": "IPY_MODEL_77e9792365ca457e876eb9a3245ba3c0"
          }
        },
        "3dc48be608a64453aacb00f299293b86": {
          "model_module": "@jupyter-widgets/controls",
          "model_name": "HTMLModel",
          "model_module_version": "1.5.0",
          "state": {
            "_dom_classes": [],
            "_model_module": "@jupyter-widgets/controls",
            "_model_module_version": "1.5.0",
            "_model_name": "HTMLModel",
            "_view_count": null,
            "_view_module": "@jupyter-widgets/controls",
            "_view_module_version": "1.5.0",
            "_view_name": "HTMLView",
            "description": "",
            "description_tooltip": null,
            "layout": "IPY_MODEL_37beeebd6d2b48c7a473aed3235eb4c5",
            "placeholder": "​",
            "style": "IPY_MODEL_ed372a9643f145468f6650ffa05000a0",
            "value": "vocab.txt: "
          }
        },
        "2d307324202145dc8001bc61340dad10": {
          "model_module": "@jupyter-widgets/controls",
          "model_name": "FloatProgressModel",
          "model_module_version": "1.5.0",
          "state": {
            "_dom_classes": [],
            "_model_module": "@jupyter-widgets/controls",
            "_model_module_version": "1.5.0",
            "_model_name": "FloatProgressModel",
            "_view_count": null,
            "_view_module": "@jupyter-widgets/controls",
            "_view_module_version": "1.5.0",
            "_view_name": "ProgressView",
            "bar_style": "success",
            "description": "",
            "description_tooltip": null,
            "layout": "IPY_MODEL_a17d362907d147698a30c90fff77e0f4",
            "max": 1,
            "min": 0,
            "orientation": "horizontal",
            "style": "IPY_MODEL_b12a33027ea74f228332934ed8711b38",
            "value": 1
          }
        },
        "2e9188ecdfa9477683bf5eb726c0de8b": {
          "model_module": "@jupyter-widgets/controls",
          "model_name": "HTMLModel",
          "model_module_version": "1.5.0",
          "state": {
            "_dom_classes": [],
            "_model_module": "@jupyter-widgets/controls",
            "_model_module_version": "1.5.0",
            "_model_name": "HTMLModel",
            "_view_count": null,
            "_view_module": "@jupyter-widgets/controls",
            "_view_module_version": "1.5.0",
            "_view_name": "HTMLView",
            "description": "",
            "description_tooltip": null,
            "layout": "IPY_MODEL_e10aa37830304667ae9ec1ad3cf9be04",
            "placeholder": "​",
            "style": "IPY_MODEL_cec53797a0f147a3b3d1249ea50e1a24",
            "value": " 232k/? [00:00&lt;00:00, 10.0MB/s]"
          }
        },
        "77e9792365ca457e876eb9a3245ba3c0": {
          "model_module": "@jupyter-widgets/base",
          "model_name": "LayoutModel",
          "model_module_version": "1.2.0",
          "state": {
            "_model_module": "@jupyter-widgets/base",
            "_model_module_version": "1.2.0",
            "_model_name": "LayoutModel",
            "_view_count": null,
            "_view_module": "@jupyter-widgets/base",
            "_view_module_version": "1.2.0",
            "_view_name": "LayoutView",
            "align_content": null,
            "align_items": null,
            "align_self": null,
            "border": null,
            "bottom": null,
            "display": null,
            "flex": null,
            "flex_flow": null,
            "grid_area": null,
            "grid_auto_columns": null,
            "grid_auto_flow": null,
            "grid_auto_rows": null,
            "grid_column": null,
            "grid_gap": null,
            "grid_row": null,
            "grid_template_areas": null,
            "grid_template_columns": null,
            "grid_template_rows": null,
            "height": null,
            "justify_content": null,
            "justify_items": null,
            "left": null,
            "margin": null,
            "max_height": null,
            "max_width": null,
            "min_height": null,
            "min_width": null,
            "object_fit": null,
            "object_position": null,
            "order": null,
            "overflow": null,
            "overflow_x": null,
            "overflow_y": null,
            "padding": null,
            "right": null,
            "top": null,
            "visibility": null,
            "width": null
          }
        },
        "37beeebd6d2b48c7a473aed3235eb4c5": {
          "model_module": "@jupyter-widgets/base",
          "model_name": "LayoutModel",
          "model_module_version": "1.2.0",
          "state": {
            "_model_module": "@jupyter-widgets/base",
            "_model_module_version": "1.2.0",
            "_model_name": "LayoutModel",
            "_view_count": null,
            "_view_module": "@jupyter-widgets/base",
            "_view_module_version": "1.2.0",
            "_view_name": "LayoutView",
            "align_content": null,
            "align_items": null,
            "align_self": null,
            "border": null,
            "bottom": null,
            "display": null,
            "flex": null,
            "flex_flow": null,
            "grid_area": null,
            "grid_auto_columns": null,
            "grid_auto_flow": null,
            "grid_auto_rows": null,
            "grid_column": null,
            "grid_gap": null,
            "grid_row": null,
            "grid_template_areas": null,
            "grid_template_columns": null,
            "grid_template_rows": null,
            "height": null,
            "justify_content": null,
            "justify_items": null,
            "left": null,
            "margin": null,
            "max_height": null,
            "max_width": null,
            "min_height": null,
            "min_width": null,
            "object_fit": null,
            "object_position": null,
            "order": null,
            "overflow": null,
            "overflow_x": null,
            "overflow_y": null,
            "padding": null,
            "right": null,
            "top": null,
            "visibility": null,
            "width": null
          }
        },
        "ed372a9643f145468f6650ffa05000a0": {
          "model_module": "@jupyter-widgets/controls",
          "model_name": "DescriptionStyleModel",
          "model_module_version": "1.5.0",
          "state": {
            "_model_module": "@jupyter-widgets/controls",
            "_model_module_version": "1.5.0",
            "_model_name": "DescriptionStyleModel",
            "_view_count": null,
            "_view_module": "@jupyter-widgets/base",
            "_view_module_version": "1.2.0",
            "_view_name": "StyleView",
            "description_width": ""
          }
        },
        "a17d362907d147698a30c90fff77e0f4": {
          "model_module": "@jupyter-widgets/base",
          "model_name": "LayoutModel",
          "model_module_version": "1.2.0",
          "state": {
            "_model_module": "@jupyter-widgets/base",
            "_model_module_version": "1.2.0",
            "_model_name": "LayoutModel",
            "_view_count": null,
            "_view_module": "@jupyter-widgets/base",
            "_view_module_version": "1.2.0",
            "_view_name": "LayoutView",
            "align_content": null,
            "align_items": null,
            "align_self": null,
            "border": null,
            "bottom": null,
            "display": null,
            "flex": null,
            "flex_flow": null,
            "grid_area": null,
            "grid_auto_columns": null,
            "grid_auto_flow": null,
            "grid_auto_rows": null,
            "grid_column": null,
            "grid_gap": null,
            "grid_row": null,
            "grid_template_areas": null,
            "grid_template_columns": null,
            "grid_template_rows": null,
            "height": null,
            "justify_content": null,
            "justify_items": null,
            "left": null,
            "margin": null,
            "max_height": null,
            "max_width": null,
            "min_height": null,
            "min_width": null,
            "object_fit": null,
            "object_position": null,
            "order": null,
            "overflow": null,
            "overflow_x": null,
            "overflow_y": null,
            "padding": null,
            "right": null,
            "top": null,
            "visibility": null,
            "width": "20px"
          }
        },
        "b12a33027ea74f228332934ed8711b38": {
          "model_module": "@jupyter-widgets/controls",
          "model_name": "ProgressStyleModel",
          "model_module_version": "1.5.0",
          "state": {
            "_model_module": "@jupyter-widgets/controls",
            "_model_module_version": "1.5.0",
            "_model_name": "ProgressStyleModel",
            "_view_count": null,
            "_view_module": "@jupyter-widgets/base",
            "_view_module_version": "1.2.0",
            "_view_name": "StyleView",
            "bar_color": null,
            "description_width": ""
          }
        },
        "e10aa37830304667ae9ec1ad3cf9be04": {
          "model_module": "@jupyter-widgets/base",
          "model_name": "LayoutModel",
          "model_module_version": "1.2.0",
          "state": {
            "_model_module": "@jupyter-widgets/base",
            "_model_module_version": "1.2.0",
            "_model_name": "LayoutModel",
            "_view_count": null,
            "_view_module": "@jupyter-widgets/base",
            "_view_module_version": "1.2.0",
            "_view_name": "LayoutView",
            "align_content": null,
            "align_items": null,
            "align_self": null,
            "border": null,
            "bottom": null,
            "display": null,
            "flex": null,
            "flex_flow": null,
            "grid_area": null,
            "grid_auto_columns": null,
            "grid_auto_flow": null,
            "grid_auto_rows": null,
            "grid_column": null,
            "grid_gap": null,
            "grid_row": null,
            "grid_template_areas": null,
            "grid_template_columns": null,
            "grid_template_rows": null,
            "height": null,
            "justify_content": null,
            "justify_items": null,
            "left": null,
            "margin": null,
            "max_height": null,
            "max_width": null,
            "min_height": null,
            "min_width": null,
            "object_fit": null,
            "object_position": null,
            "order": null,
            "overflow": null,
            "overflow_x": null,
            "overflow_y": null,
            "padding": null,
            "right": null,
            "top": null,
            "visibility": null,
            "width": null
          }
        },
        "cec53797a0f147a3b3d1249ea50e1a24": {
          "model_module": "@jupyter-widgets/controls",
          "model_name": "DescriptionStyleModel",
          "model_module_version": "1.5.0",
          "state": {
            "_model_module": "@jupyter-widgets/controls",
            "_model_module_version": "1.5.0",
            "_model_name": "DescriptionStyleModel",
            "_view_count": null,
            "_view_module": "@jupyter-widgets/base",
            "_view_module_version": "1.2.0",
            "_view_name": "StyleView",
            "description_width": ""
          }
        },
        "761a435120974f44a7bc2cb990f06ff0": {
          "model_module": "@jupyter-widgets/controls",
          "model_name": "HBoxModel",
          "model_module_version": "1.5.0",
          "state": {
            "_dom_classes": [],
            "_model_module": "@jupyter-widgets/controls",
            "_model_module_version": "1.5.0",
            "_model_name": "HBoxModel",
            "_view_count": null,
            "_view_module": "@jupyter-widgets/controls",
            "_view_module_version": "1.5.0",
            "_view_name": "HBoxView",
            "box_style": "",
            "children": [
              "IPY_MODEL_20f0d45834d344d981e3f37261f847f4",
              "IPY_MODEL_24ecaaf085a641158c2f329d5fd481f4",
              "IPY_MODEL_1a10fbf5cb9843ec90a6351d6e112de7"
            ],
            "layout": "IPY_MODEL_f0ccae41e2c240cd90525e867d32dd28"
          }
        },
        "20f0d45834d344d981e3f37261f847f4": {
          "model_module": "@jupyter-widgets/controls",
          "model_name": "HTMLModel",
          "model_module_version": "1.5.0",
          "state": {
            "_dom_classes": [],
            "_model_module": "@jupyter-widgets/controls",
            "_model_module_version": "1.5.0",
            "_model_name": "HTMLModel",
            "_view_count": null,
            "_view_module": "@jupyter-widgets/controls",
            "_view_module_version": "1.5.0",
            "_view_name": "HTMLView",
            "description": "",
            "description_tooltip": null,
            "layout": "IPY_MODEL_326413f1d9f0447e8ef5b18e07d84d1f",
            "placeholder": "​",
            "style": "IPY_MODEL_ec116dc8c90148cc8d8aabb8b79675d8",
            "value": "tokenizer.json: "
          }
        },
        "24ecaaf085a641158c2f329d5fd481f4": {
          "model_module": "@jupyter-widgets/controls",
          "model_name": "FloatProgressModel",
          "model_module_version": "1.5.0",
          "state": {
            "_dom_classes": [],
            "_model_module": "@jupyter-widgets/controls",
            "_model_module_version": "1.5.0",
            "_model_name": "FloatProgressModel",
            "_view_count": null,
            "_view_module": "@jupyter-widgets/controls",
            "_view_module_version": "1.5.0",
            "_view_name": "ProgressView",
            "bar_style": "success",
            "description": "",
            "description_tooltip": null,
            "layout": "IPY_MODEL_bd001494a13b409e906e9121bfecb996",
            "max": 1,
            "min": 0,
            "orientation": "horizontal",
            "style": "IPY_MODEL_2fd340b133dd40e68bb9441b0cad506a",
            "value": 1
          }
        },
        "1a10fbf5cb9843ec90a6351d6e112de7": {
          "model_module": "@jupyter-widgets/controls",
          "model_name": "HTMLModel",
          "model_module_version": "1.5.0",
          "state": {
            "_dom_classes": [],
            "_model_module": "@jupyter-widgets/controls",
            "_model_module_version": "1.5.0",
            "_model_name": "HTMLModel",
            "_view_count": null,
            "_view_module": "@jupyter-widgets/controls",
            "_view_module_version": "1.5.0",
            "_view_name": "HTMLView",
            "description": "",
            "description_tooltip": null,
            "layout": "IPY_MODEL_40c6e05724e242a1b23bdb8cabe90d87",
            "placeholder": "​",
            "style": "IPY_MODEL_2a4e613019fe4a209e4fe1abd9a0f986",
            "value": " 466k/? [00:00&lt;00:00, 25.9MB/s]"
          }
        },
        "f0ccae41e2c240cd90525e867d32dd28": {
          "model_module": "@jupyter-widgets/base",
          "model_name": "LayoutModel",
          "model_module_version": "1.2.0",
          "state": {
            "_model_module": "@jupyter-widgets/base",
            "_model_module_version": "1.2.0",
            "_model_name": "LayoutModel",
            "_view_count": null,
            "_view_module": "@jupyter-widgets/base",
            "_view_module_version": "1.2.0",
            "_view_name": "LayoutView",
            "align_content": null,
            "align_items": null,
            "align_self": null,
            "border": null,
            "bottom": null,
            "display": null,
            "flex": null,
            "flex_flow": null,
            "grid_area": null,
            "grid_auto_columns": null,
            "grid_auto_flow": null,
            "grid_auto_rows": null,
            "grid_column": null,
            "grid_gap": null,
            "grid_row": null,
            "grid_template_areas": null,
            "grid_template_columns": null,
            "grid_template_rows": null,
            "height": null,
            "justify_content": null,
            "justify_items": null,
            "left": null,
            "margin": null,
            "max_height": null,
            "max_width": null,
            "min_height": null,
            "min_width": null,
            "object_fit": null,
            "object_position": null,
            "order": null,
            "overflow": null,
            "overflow_x": null,
            "overflow_y": null,
            "padding": null,
            "right": null,
            "top": null,
            "visibility": null,
            "width": null
          }
        },
        "326413f1d9f0447e8ef5b18e07d84d1f": {
          "model_module": "@jupyter-widgets/base",
          "model_name": "LayoutModel",
          "model_module_version": "1.2.0",
          "state": {
            "_model_module": "@jupyter-widgets/base",
            "_model_module_version": "1.2.0",
            "_model_name": "LayoutModel",
            "_view_count": null,
            "_view_module": "@jupyter-widgets/base",
            "_view_module_version": "1.2.0",
            "_view_name": "LayoutView",
            "align_content": null,
            "align_items": null,
            "align_self": null,
            "border": null,
            "bottom": null,
            "display": null,
            "flex": null,
            "flex_flow": null,
            "grid_area": null,
            "grid_auto_columns": null,
            "grid_auto_flow": null,
            "grid_auto_rows": null,
            "grid_column": null,
            "grid_gap": null,
            "grid_row": null,
            "grid_template_areas": null,
            "grid_template_columns": null,
            "grid_template_rows": null,
            "height": null,
            "justify_content": null,
            "justify_items": null,
            "left": null,
            "margin": null,
            "max_height": null,
            "max_width": null,
            "min_height": null,
            "min_width": null,
            "object_fit": null,
            "object_position": null,
            "order": null,
            "overflow": null,
            "overflow_x": null,
            "overflow_y": null,
            "padding": null,
            "right": null,
            "top": null,
            "visibility": null,
            "width": null
          }
        },
        "ec116dc8c90148cc8d8aabb8b79675d8": {
          "model_module": "@jupyter-widgets/controls",
          "model_name": "DescriptionStyleModel",
          "model_module_version": "1.5.0",
          "state": {
            "_model_module": "@jupyter-widgets/controls",
            "_model_module_version": "1.5.0",
            "_model_name": "DescriptionStyleModel",
            "_view_count": null,
            "_view_module": "@jupyter-widgets/base",
            "_view_module_version": "1.2.0",
            "_view_name": "StyleView",
            "description_width": ""
          }
        },
        "bd001494a13b409e906e9121bfecb996": {
          "model_module": "@jupyter-widgets/base",
          "model_name": "LayoutModel",
          "model_module_version": "1.2.0",
          "state": {
            "_model_module": "@jupyter-widgets/base",
            "_model_module_version": "1.2.0",
            "_model_name": "LayoutModel",
            "_view_count": null,
            "_view_module": "@jupyter-widgets/base",
            "_view_module_version": "1.2.0",
            "_view_name": "LayoutView",
            "align_content": null,
            "align_items": null,
            "align_self": null,
            "border": null,
            "bottom": null,
            "display": null,
            "flex": null,
            "flex_flow": null,
            "grid_area": null,
            "grid_auto_columns": null,
            "grid_auto_flow": null,
            "grid_auto_rows": null,
            "grid_column": null,
            "grid_gap": null,
            "grid_row": null,
            "grid_template_areas": null,
            "grid_template_columns": null,
            "grid_template_rows": null,
            "height": null,
            "justify_content": null,
            "justify_items": null,
            "left": null,
            "margin": null,
            "max_height": null,
            "max_width": null,
            "min_height": null,
            "min_width": null,
            "object_fit": null,
            "object_position": null,
            "order": null,
            "overflow": null,
            "overflow_x": null,
            "overflow_y": null,
            "padding": null,
            "right": null,
            "top": null,
            "visibility": null,
            "width": "20px"
          }
        },
        "2fd340b133dd40e68bb9441b0cad506a": {
          "model_module": "@jupyter-widgets/controls",
          "model_name": "ProgressStyleModel",
          "model_module_version": "1.5.0",
          "state": {
            "_model_module": "@jupyter-widgets/controls",
            "_model_module_version": "1.5.0",
            "_model_name": "ProgressStyleModel",
            "_view_count": null,
            "_view_module": "@jupyter-widgets/base",
            "_view_module_version": "1.2.0",
            "_view_name": "StyleView",
            "bar_color": null,
            "description_width": ""
          }
        },
        "40c6e05724e242a1b23bdb8cabe90d87": {
          "model_module": "@jupyter-widgets/base",
          "model_name": "LayoutModel",
          "model_module_version": "1.2.0",
          "state": {
            "_model_module": "@jupyter-widgets/base",
            "_model_module_version": "1.2.0",
            "_model_name": "LayoutModel",
            "_view_count": null,
            "_view_module": "@jupyter-widgets/base",
            "_view_module_version": "1.2.0",
            "_view_name": "LayoutView",
            "align_content": null,
            "align_items": null,
            "align_self": null,
            "border": null,
            "bottom": null,
            "display": null,
            "flex": null,
            "flex_flow": null,
            "grid_area": null,
            "grid_auto_columns": null,
            "grid_auto_flow": null,
            "grid_auto_rows": null,
            "grid_column": null,
            "grid_gap": null,
            "grid_row": null,
            "grid_template_areas": null,
            "grid_template_columns": null,
            "grid_template_rows": null,
            "height": null,
            "justify_content": null,
            "justify_items": null,
            "left": null,
            "margin": null,
            "max_height": null,
            "max_width": null,
            "min_height": null,
            "min_width": null,
            "object_fit": null,
            "object_position": null,
            "order": null,
            "overflow": null,
            "overflow_x": null,
            "overflow_y": null,
            "padding": null,
            "right": null,
            "top": null,
            "visibility": null,
            "width": null
          }
        },
        "2a4e613019fe4a209e4fe1abd9a0f986": {
          "model_module": "@jupyter-widgets/controls",
          "model_name": "DescriptionStyleModel",
          "model_module_version": "1.5.0",
          "state": {
            "_model_module": "@jupyter-widgets/controls",
            "_model_module_version": "1.5.0",
            "_model_name": "DescriptionStyleModel",
            "_view_count": null,
            "_view_module": "@jupyter-widgets/base",
            "_view_module_version": "1.2.0",
            "_view_name": "StyleView",
            "description_width": ""
          }
        },
        "825ba97f4f4f4ba990945b53aefbc9c3": {
          "model_module": "@jupyter-widgets/controls",
          "model_name": "HBoxModel",
          "model_module_version": "1.5.0",
          "state": {
            "_dom_classes": [],
            "_model_module": "@jupyter-widgets/controls",
            "_model_module_version": "1.5.0",
            "_model_name": "HBoxModel",
            "_view_count": null,
            "_view_module": "@jupyter-widgets/controls",
            "_view_module_version": "1.5.0",
            "_view_name": "HBoxView",
            "box_style": "",
            "children": [
              "IPY_MODEL_0063c1af940e4997834a50b05c9be83c",
              "IPY_MODEL_9621b479449c4693a2c157d30e11469b",
              "IPY_MODEL_5ec890589f8349f6bb4f77254750452c"
            ],
            "layout": "IPY_MODEL_7006208bffd44ce3be675a55c64a4a2e"
          }
        },
        "0063c1af940e4997834a50b05c9be83c": {
          "model_module": "@jupyter-widgets/controls",
          "model_name": "HTMLModel",
          "model_module_version": "1.5.0",
          "state": {
            "_dom_classes": [],
            "_model_module": "@jupyter-widgets/controls",
            "_model_module_version": "1.5.0",
            "_model_name": "HTMLModel",
            "_view_count": null,
            "_view_module": "@jupyter-widgets/controls",
            "_view_module_version": "1.5.0",
            "_view_name": "HTMLView",
            "description": "",
            "description_tooltip": null,
            "layout": "IPY_MODEL_58df4c3f68c047deb738a6297a696e04",
            "placeholder": "​",
            "style": "IPY_MODEL_af7213250b7e410188c4cdec9f1ead7c",
            "value": "special_tokens_map.json: 100%"
          }
        },
        "9621b479449c4693a2c157d30e11469b": {
          "model_module": "@jupyter-widgets/controls",
          "model_name": "FloatProgressModel",
          "model_module_version": "1.5.0",
          "state": {
            "_dom_classes": [],
            "_model_module": "@jupyter-widgets/controls",
            "_model_module_version": "1.5.0",
            "_model_name": "FloatProgressModel",
            "_view_count": null,
            "_view_module": "@jupyter-widgets/controls",
            "_view_module_version": "1.5.0",
            "_view_name": "ProgressView",
            "bar_style": "success",
            "description": "",
            "description_tooltip": null,
            "layout": "IPY_MODEL_0dca95702533400fa6d06e8c6b5860e8",
            "max": 239,
            "min": 0,
            "orientation": "horizontal",
            "style": "IPY_MODEL_818c2484afec4f6f81ee334d048090a7",
            "value": 239
          }
        },
        "5ec890589f8349f6bb4f77254750452c": {
          "model_module": "@jupyter-widgets/controls",
          "model_name": "HTMLModel",
          "model_module_version": "1.5.0",
          "state": {
            "_dom_classes": [],
            "_model_module": "@jupyter-widgets/controls",
            "_model_module_version": "1.5.0",
            "_model_name": "HTMLModel",
            "_view_count": null,
            "_view_module": "@jupyter-widgets/controls",
            "_view_module_version": "1.5.0",
            "_view_name": "HTMLView",
            "description": "",
            "description_tooltip": null,
            "layout": "IPY_MODEL_5222e66670ff4bc5ae5e7ee2e70bc02d",
            "placeholder": "​",
            "style": "IPY_MODEL_9aed532b6c6f40b09ee2343cebdfd23d",
            "value": " 239/239 [00:00&lt;00:00, 25.8kB/s]"
          }
        },
        "7006208bffd44ce3be675a55c64a4a2e": {
          "model_module": "@jupyter-widgets/base",
          "model_name": "LayoutModel",
          "model_module_version": "1.2.0",
          "state": {
            "_model_module": "@jupyter-widgets/base",
            "_model_module_version": "1.2.0",
            "_model_name": "LayoutModel",
            "_view_count": null,
            "_view_module": "@jupyter-widgets/base",
            "_view_module_version": "1.2.0",
            "_view_name": "LayoutView",
            "align_content": null,
            "align_items": null,
            "align_self": null,
            "border": null,
            "bottom": null,
            "display": null,
            "flex": null,
            "flex_flow": null,
            "grid_area": null,
            "grid_auto_columns": null,
            "grid_auto_flow": null,
            "grid_auto_rows": null,
            "grid_column": null,
            "grid_gap": null,
            "grid_row": null,
            "grid_template_areas": null,
            "grid_template_columns": null,
            "grid_template_rows": null,
            "height": null,
            "justify_content": null,
            "justify_items": null,
            "left": null,
            "margin": null,
            "max_height": null,
            "max_width": null,
            "min_height": null,
            "min_width": null,
            "object_fit": null,
            "object_position": null,
            "order": null,
            "overflow": null,
            "overflow_x": null,
            "overflow_y": null,
            "padding": null,
            "right": null,
            "top": null,
            "visibility": null,
            "width": null
          }
        },
        "58df4c3f68c047deb738a6297a696e04": {
          "model_module": "@jupyter-widgets/base",
          "model_name": "LayoutModel",
          "model_module_version": "1.2.0",
          "state": {
            "_model_module": "@jupyter-widgets/base",
            "_model_module_version": "1.2.0",
            "_model_name": "LayoutModel",
            "_view_count": null,
            "_view_module": "@jupyter-widgets/base",
            "_view_module_version": "1.2.0",
            "_view_name": "LayoutView",
            "align_content": null,
            "align_items": null,
            "align_self": null,
            "border": null,
            "bottom": null,
            "display": null,
            "flex": null,
            "flex_flow": null,
            "grid_area": null,
            "grid_auto_columns": null,
            "grid_auto_flow": null,
            "grid_auto_rows": null,
            "grid_column": null,
            "grid_gap": null,
            "grid_row": null,
            "grid_template_areas": null,
            "grid_template_columns": null,
            "grid_template_rows": null,
            "height": null,
            "justify_content": null,
            "justify_items": null,
            "left": null,
            "margin": null,
            "max_height": null,
            "max_width": null,
            "min_height": null,
            "min_width": null,
            "object_fit": null,
            "object_position": null,
            "order": null,
            "overflow": null,
            "overflow_x": null,
            "overflow_y": null,
            "padding": null,
            "right": null,
            "top": null,
            "visibility": null,
            "width": null
          }
        },
        "af7213250b7e410188c4cdec9f1ead7c": {
          "model_module": "@jupyter-widgets/controls",
          "model_name": "DescriptionStyleModel",
          "model_module_version": "1.5.0",
          "state": {
            "_model_module": "@jupyter-widgets/controls",
            "_model_module_version": "1.5.0",
            "_model_name": "DescriptionStyleModel",
            "_view_count": null,
            "_view_module": "@jupyter-widgets/base",
            "_view_module_version": "1.2.0",
            "_view_name": "StyleView",
            "description_width": ""
          }
        },
        "0dca95702533400fa6d06e8c6b5860e8": {
          "model_module": "@jupyter-widgets/base",
          "model_name": "LayoutModel",
          "model_module_version": "1.2.0",
          "state": {
            "_model_module": "@jupyter-widgets/base",
            "_model_module_version": "1.2.0",
            "_model_name": "LayoutModel",
            "_view_count": null,
            "_view_module": "@jupyter-widgets/base",
            "_view_module_version": "1.2.0",
            "_view_name": "LayoutView",
            "align_content": null,
            "align_items": null,
            "align_self": null,
            "border": null,
            "bottom": null,
            "display": null,
            "flex": null,
            "flex_flow": null,
            "grid_area": null,
            "grid_auto_columns": null,
            "grid_auto_flow": null,
            "grid_auto_rows": null,
            "grid_column": null,
            "grid_gap": null,
            "grid_row": null,
            "grid_template_areas": null,
            "grid_template_columns": null,
            "grid_template_rows": null,
            "height": null,
            "justify_content": null,
            "justify_items": null,
            "left": null,
            "margin": null,
            "max_height": null,
            "max_width": null,
            "min_height": null,
            "min_width": null,
            "object_fit": null,
            "object_position": null,
            "order": null,
            "overflow": null,
            "overflow_x": null,
            "overflow_y": null,
            "padding": null,
            "right": null,
            "top": null,
            "visibility": null,
            "width": null
          }
        },
        "818c2484afec4f6f81ee334d048090a7": {
          "model_module": "@jupyter-widgets/controls",
          "model_name": "ProgressStyleModel",
          "model_module_version": "1.5.0",
          "state": {
            "_model_module": "@jupyter-widgets/controls",
            "_model_module_version": "1.5.0",
            "_model_name": "ProgressStyleModel",
            "_view_count": null,
            "_view_module": "@jupyter-widgets/base",
            "_view_module_version": "1.2.0",
            "_view_name": "StyleView",
            "bar_color": null,
            "description_width": ""
          }
        },
        "5222e66670ff4bc5ae5e7ee2e70bc02d": {
          "model_module": "@jupyter-widgets/base",
          "model_name": "LayoutModel",
          "model_module_version": "1.2.0",
          "state": {
            "_model_module": "@jupyter-widgets/base",
            "_model_module_version": "1.2.0",
            "_model_name": "LayoutModel",
            "_view_count": null,
            "_view_module": "@jupyter-widgets/base",
            "_view_module_version": "1.2.0",
            "_view_name": "LayoutView",
            "align_content": null,
            "align_items": null,
            "align_self": null,
            "border": null,
            "bottom": null,
            "display": null,
            "flex": null,
            "flex_flow": null,
            "grid_area": null,
            "grid_auto_columns": null,
            "grid_auto_flow": null,
            "grid_auto_rows": null,
            "grid_column": null,
            "grid_gap": null,
            "grid_row": null,
            "grid_template_areas": null,
            "grid_template_columns": null,
            "grid_template_rows": null,
            "height": null,
            "justify_content": null,
            "justify_items": null,
            "left": null,
            "margin": null,
            "max_height": null,
            "max_width": null,
            "min_height": null,
            "min_width": null,
            "object_fit": null,
            "object_position": null,
            "order": null,
            "overflow": null,
            "overflow_x": null,
            "overflow_y": null,
            "padding": null,
            "right": null,
            "top": null,
            "visibility": null,
            "width": null
          }
        },
        "9aed532b6c6f40b09ee2343cebdfd23d": {
          "model_module": "@jupyter-widgets/controls",
          "model_name": "DescriptionStyleModel",
          "model_module_version": "1.5.0",
          "state": {
            "_model_module": "@jupyter-widgets/controls",
            "_model_module_version": "1.5.0",
            "_model_name": "DescriptionStyleModel",
            "_view_count": null,
            "_view_module": "@jupyter-widgets/base",
            "_view_module_version": "1.2.0",
            "_view_name": "StyleView",
            "description_width": ""
          }
        },
        "b641c7341b79433299b1ac111e12c7c9": {
          "model_module": "@jupyter-widgets/controls",
          "model_name": "HBoxModel",
          "model_module_version": "1.5.0",
          "state": {
            "_dom_classes": [],
            "_model_module": "@jupyter-widgets/controls",
            "_model_module_version": "1.5.0",
            "_model_name": "HBoxModel",
            "_view_count": null,
            "_view_module": "@jupyter-widgets/controls",
            "_view_module_version": "1.5.0",
            "_view_name": "HBoxView",
            "box_style": "",
            "children": [
              "IPY_MODEL_a06c5f00e798422a864dd310e61b4113",
              "IPY_MODEL_599844e3d1a34a228b26246432ca0e2a",
              "IPY_MODEL_f8393249a9b6460abf017cacd6c7990f"
            ],
            "layout": "IPY_MODEL_50edcb635bb14c7ea011d17445c932f1"
          }
        },
        "a06c5f00e798422a864dd310e61b4113": {
          "model_module": "@jupyter-widgets/controls",
          "model_name": "HTMLModel",
          "model_module_version": "1.5.0",
          "state": {
            "_dom_classes": [],
            "_model_module": "@jupyter-widgets/controls",
            "_model_module_version": "1.5.0",
            "_model_name": "HTMLModel",
            "_view_count": null,
            "_view_module": "@jupyter-widgets/controls",
            "_view_module_version": "1.5.0",
            "_view_name": "HTMLView",
            "description": "",
            "description_tooltip": null,
            "layout": "IPY_MODEL_035cb19d33e4432f826c79aabff3def6",
            "placeholder": "​",
            "style": "IPY_MODEL_3fe86f3d225444d4a661b743ae8c9580",
            "value": "config.json: 100%"
          }
        },
        "599844e3d1a34a228b26246432ca0e2a": {
          "model_module": "@jupyter-widgets/controls",
          "model_name": "FloatProgressModel",
          "model_module_version": "1.5.0",
          "state": {
            "_dom_classes": [],
            "_model_module": "@jupyter-widgets/controls",
            "_model_module_version": "1.5.0",
            "_model_name": "FloatProgressModel",
            "_view_count": null,
            "_view_module": "@jupyter-widgets/controls",
            "_view_module_version": "1.5.0",
            "_view_name": "ProgressView",
            "bar_style": "success",
            "description": "",
            "description_tooltip": null,
            "layout": "IPY_MODEL_fb62604bd6ef4a9bbdff247d1bcd2f43",
            "max": 190,
            "min": 0,
            "orientation": "horizontal",
            "style": "IPY_MODEL_057ccda0764d4c978347065aaf76334d",
            "value": 190
          }
        },
        "f8393249a9b6460abf017cacd6c7990f": {
          "model_module": "@jupyter-widgets/controls",
          "model_name": "HTMLModel",
          "model_module_version": "1.5.0",
          "state": {
            "_dom_classes": [],
            "_model_module": "@jupyter-widgets/controls",
            "_model_module_version": "1.5.0",
            "_model_name": "HTMLModel",
            "_view_count": null,
            "_view_module": "@jupyter-widgets/controls",
            "_view_module_version": "1.5.0",
            "_view_name": "HTMLView",
            "description": "",
            "description_tooltip": null,
            "layout": "IPY_MODEL_f7a2e1c83502408f9bbf2bf00a3ebf56",
            "placeholder": "​",
            "style": "IPY_MODEL_5298c536b11b4d28b304b7808fd0aea5",
            "value": " 190/190 [00:00&lt;00:00, 21.3kB/s]"
          }
        },
        "50edcb635bb14c7ea011d17445c932f1": {
          "model_module": "@jupyter-widgets/base",
          "model_name": "LayoutModel",
          "model_module_version": "1.2.0",
          "state": {
            "_model_module": "@jupyter-widgets/base",
            "_model_module_version": "1.2.0",
            "_model_name": "LayoutModel",
            "_view_count": null,
            "_view_module": "@jupyter-widgets/base",
            "_view_module_version": "1.2.0",
            "_view_name": "LayoutView",
            "align_content": null,
            "align_items": null,
            "align_self": null,
            "border": null,
            "bottom": null,
            "display": null,
            "flex": null,
            "flex_flow": null,
            "grid_area": null,
            "grid_auto_columns": null,
            "grid_auto_flow": null,
            "grid_auto_rows": null,
            "grid_column": null,
            "grid_gap": null,
            "grid_row": null,
            "grid_template_areas": null,
            "grid_template_columns": null,
            "grid_template_rows": null,
            "height": null,
            "justify_content": null,
            "justify_items": null,
            "left": null,
            "margin": null,
            "max_height": null,
            "max_width": null,
            "min_height": null,
            "min_width": null,
            "object_fit": null,
            "object_position": null,
            "order": null,
            "overflow": null,
            "overflow_x": null,
            "overflow_y": null,
            "padding": null,
            "right": null,
            "top": null,
            "visibility": null,
            "width": null
          }
        },
        "035cb19d33e4432f826c79aabff3def6": {
          "model_module": "@jupyter-widgets/base",
          "model_name": "LayoutModel",
          "model_module_version": "1.2.0",
          "state": {
            "_model_module": "@jupyter-widgets/base",
            "_model_module_version": "1.2.0",
            "_model_name": "LayoutModel",
            "_view_count": null,
            "_view_module": "@jupyter-widgets/base",
            "_view_module_version": "1.2.0",
            "_view_name": "LayoutView",
            "align_content": null,
            "align_items": null,
            "align_self": null,
            "border": null,
            "bottom": null,
            "display": null,
            "flex": null,
            "flex_flow": null,
            "grid_area": null,
            "grid_auto_columns": null,
            "grid_auto_flow": null,
            "grid_auto_rows": null,
            "grid_column": null,
            "grid_gap": null,
            "grid_row": null,
            "grid_template_areas": null,
            "grid_template_columns": null,
            "grid_template_rows": null,
            "height": null,
            "justify_content": null,
            "justify_items": null,
            "left": null,
            "margin": null,
            "max_height": null,
            "max_width": null,
            "min_height": null,
            "min_width": null,
            "object_fit": null,
            "object_position": null,
            "order": null,
            "overflow": null,
            "overflow_x": null,
            "overflow_y": null,
            "padding": null,
            "right": null,
            "top": null,
            "visibility": null,
            "width": null
          }
        },
        "3fe86f3d225444d4a661b743ae8c9580": {
          "model_module": "@jupyter-widgets/controls",
          "model_name": "DescriptionStyleModel",
          "model_module_version": "1.5.0",
          "state": {
            "_model_module": "@jupyter-widgets/controls",
            "_model_module_version": "1.5.0",
            "_model_name": "DescriptionStyleModel",
            "_view_count": null,
            "_view_module": "@jupyter-widgets/base",
            "_view_module_version": "1.2.0",
            "_view_name": "StyleView",
            "description_width": ""
          }
        },
        "fb62604bd6ef4a9bbdff247d1bcd2f43": {
          "model_module": "@jupyter-widgets/base",
          "model_name": "LayoutModel",
          "model_module_version": "1.2.0",
          "state": {
            "_model_module": "@jupyter-widgets/base",
            "_model_module_version": "1.2.0",
            "_model_name": "LayoutModel",
            "_view_count": null,
            "_view_module": "@jupyter-widgets/base",
            "_view_module_version": "1.2.0",
            "_view_name": "LayoutView",
            "align_content": null,
            "align_items": null,
            "align_self": null,
            "border": null,
            "bottom": null,
            "display": null,
            "flex": null,
            "flex_flow": null,
            "grid_area": null,
            "grid_auto_columns": null,
            "grid_auto_flow": null,
            "grid_auto_rows": null,
            "grid_column": null,
            "grid_gap": null,
            "grid_row": null,
            "grid_template_areas": null,
            "grid_template_columns": null,
            "grid_template_rows": null,
            "height": null,
            "justify_content": null,
            "justify_items": null,
            "left": null,
            "margin": null,
            "max_height": null,
            "max_width": null,
            "min_height": null,
            "min_width": null,
            "object_fit": null,
            "object_position": null,
            "order": null,
            "overflow": null,
            "overflow_x": null,
            "overflow_y": null,
            "padding": null,
            "right": null,
            "top": null,
            "visibility": null,
            "width": null
          }
        },
        "057ccda0764d4c978347065aaf76334d": {
          "model_module": "@jupyter-widgets/controls",
          "model_name": "ProgressStyleModel",
          "model_module_version": "1.5.0",
          "state": {
            "_model_module": "@jupyter-widgets/controls",
            "_model_module_version": "1.5.0",
            "_model_name": "ProgressStyleModel",
            "_view_count": null,
            "_view_module": "@jupyter-widgets/base",
            "_view_module_version": "1.2.0",
            "_view_name": "StyleView",
            "bar_color": null,
            "description_width": ""
          }
        },
        "f7a2e1c83502408f9bbf2bf00a3ebf56": {
          "model_module": "@jupyter-widgets/base",
          "model_name": "LayoutModel",
          "model_module_version": "1.2.0",
          "state": {
            "_model_module": "@jupyter-widgets/base",
            "_model_module_version": "1.2.0",
            "_model_name": "LayoutModel",
            "_view_count": null,
            "_view_module": "@jupyter-widgets/base",
            "_view_module_version": "1.2.0",
            "_view_name": "LayoutView",
            "align_content": null,
            "align_items": null,
            "align_self": null,
            "border": null,
            "bottom": null,
            "display": null,
            "flex": null,
            "flex_flow": null,
            "grid_area": null,
            "grid_auto_columns": null,
            "grid_auto_flow": null,
            "grid_auto_rows": null,
            "grid_column": null,
            "grid_gap": null,
            "grid_row": null,
            "grid_template_areas": null,
            "grid_template_columns": null,
            "grid_template_rows": null,
            "height": null,
            "justify_content": null,
            "justify_items": null,
            "left": null,
            "margin": null,
            "max_height": null,
            "max_width": null,
            "min_height": null,
            "min_width": null,
            "object_fit": null,
            "object_position": null,
            "order": null,
            "overflow": null,
            "overflow_x": null,
            "overflow_y": null,
            "padding": null,
            "right": null,
            "top": null,
            "visibility": null,
            "width": null
          }
        },
        "5298c536b11b4d28b304b7808fd0aea5": {
          "model_module": "@jupyter-widgets/controls",
          "model_name": "DescriptionStyleModel",
          "model_module_version": "1.5.0",
          "state": {
            "_model_module": "@jupyter-widgets/controls",
            "_model_module_version": "1.5.0",
            "_model_name": "DescriptionStyleModel",
            "_view_count": null,
            "_view_module": "@jupyter-widgets/base",
            "_view_module_version": "1.2.0",
            "_view_name": "StyleView",
            "description_width": ""
          }
        },
        "f27a671ddc984249aab620ce607bb2cc": {
          "model_module": "yfiles-jupyter-graphs",
          "model_name": "GraphModel",
          "model_module_version": "^1.10.7",
          "state": {
            "_context_pane_mapping": [
              {
                "id": "Neighborhood",
                "title": "Neighborhood"
              },
              {
                "id": "Data",
                "title": "Data"
              },
              {
                "id": "Search",
                "title": "Search"
              },
              {
                "id": "About",
                "title": "About"
              }
            ],
            "_data_importer": "neo4j",
            "_directed": true,
            "_dom_classes": [],
            "_edges": [
              {
                "id": 1152921504606847000,
                "start": 13,
                "end": 14,
                "properties": {
                  "label": "DEVELOPED_BY"
                },
                "color": "#9E9E9E",
                "thickness_factor": 1,
                "directed": true,
                "styles": {},
                "label": "DEVELOPED_BY"
              },
              {
                "id": 1152922604118474800,
                "start": 13,
                "end": 15,
                "properties": {
                  "label": "USES"
                },
                "color": "#9C27B0",
                "thickness_factor": 1,
                "directed": true,
                "styles": {},
                "label": "USES"
              },
              {
                "id": 1155174403932160000,
                "start": 13,
                "end": 17,
                "properties": {
                  "label": "USES"
                },
                "color": "#9C27B0",
                "thickness_factor": 1,
                "directed": true,
                "styles": {},
                "label": "USES"
              },
              {
                "id": 1152923703630102500,
                "start": 13,
                "end": 16,
                "properties": {
                  "label": "EMPLOYS"
                },
                "color": "#2196F3",
                "thickness_factor": 1,
                "directed": true,
                "styles": {},
                "label": "EMPLOYS"
              },
              {
                "id": 1155175503443787800,
                "start": 13,
                "end": 18,
                "properties": {
                  "label": "EMPLOYS"
                },
                "color": "#2196F3",
                "thickness_factor": 1,
                "directed": true,
                "styles": {},
                "label": "EMPLOYS"
              },
              {
                "id": 1152924803141730300,
                "start": 13,
                "end": 19,
                "properties": {
                  "label": "CARRIES"
                },
                "color": "#4CAF50",
                "thickness_factor": 1,
                "directed": true,
                "styles": {},
                "label": "CARRIES"
              },
              {
                "id": 1155176602955415600,
                "start": 13,
                "end": 20,
                "properties": {
                  "label": "CARRIES"
                },
                "color": "#4CAF50",
                "thickness_factor": 1,
                "directed": true,
                "styles": {},
                "label": "CARRIES"
              },
              {
                "id": 1152927002164985900,
                "start": 13,
                "end": 22,
                "properties": {
                  "label": "LAUNCHED_ON"
                },
                "color": "#F44336",
                "thickness_factor": 1,
                "directed": true,
                "styles": {},
                "label": "LAUNCHED_ON"
              },
              {
                "id": 1152929201188241400,
                "start": 14,
                "end": 25,
                "properties": {
                  "label": "LAUNCHED"
                },
                "color": "#607D8B",
                "thickness_factor": 1,
                "directed": true,
                "styles": {},
                "label": "LAUNCHED"
              },
              {
                "id": 1152948992397541400,
                "start": 14,
                "end": 50,
                "properties": {
                  "label": "PARTNER"
                },
                "color": "#673AB7",
                "thickness_factor": 1,
                "directed": true,
                "styles": {},
                "label": "PARTNER"
              },
              {
                "id": 1152959987513819100,
                "start": 14,
                "end": 25,
                "properties": {
                  "label": "OPERATOR"
                },
                "color": "#CDDC39",
                "thickness_factor": 1,
                "directed": true,
                "styles": {},
                "label": "OPERATOR"
              },
              {
                "id": 1152925902653358000,
                "start": 20,
                "end": 21,
                "properties": {
                  "label": "TRANSMITS_TO"
                },
                "color": "#9E9E9E",
                "thickness_factor": 1,
                "directed": true,
                "styles": {},
                "label": "TRANSMITS_TO"
              },
              {
                "id": 1152928101676613600,
                "start": 23,
                "end": 24,
                "properties": {
                  "label": "IDENTICAL_TO"
                },
                "color": "#9C27B0",
                "thickness_factor": 1,
                "directed": true,
                "styles": {},
                "label": "IDENTICAL_TO"
              },
              {
                "id": 1152930300699869200,
                "start": 24,
                "end": 26,
                "properties": {
                  "label": "SERVES"
                },
                "color": "#2196F3",
                "thickness_factor": 1,
                "directed": true,
                "styles": {},
                "label": "SERVES"
              },
              {
                "id": 1152939096792891400,
                "start": 24,
                "end": 25,
                "properties": {
                  "label": "PART_OF"
                },
                "color": "#4CAF50",
                "thickness_factor": 1,
                "directed": true,
                "styles": {},
                "label": "PART_OF"
              },
              {
                "id": 1152942395327774700,
                "start": 24,
                "end": 31,
                "properties": {
                  "label": "DATA_PROCESSED_BY"
                },
                "color": "#F44336",
                "thickness_factor": 1,
                "directed": true,
                "styles": {},
                "label": "DATA_PROCESSED_BY"
              },
              {
                "id": 1152930300699869200,
                "start": 25,
                "end": 26,
                "properties": {
                  "label": "SERVES"
                },
                "color": "#2196F3",
                "thickness_factor": 1,
                "directed": true,
                "styles": {},
                "label": "SERVES"
              },
              {
                "id": 1152940196304519200,
                "start": 25,
                "end": 14,
                "properties": {
                  "label": "LAUNCHED_BY"
                },
                "color": "#607D8B",
                "thickness_factor": 1,
                "directed": true,
                "styles": {},
                "label": "LAUNCHED_BY"
              },
              {
                "id": 1152941295816147000,
                "start": 25,
                "end": 27,
                "properties": {
                  "label": "MONITORED_BY"
                },
                "color": "#673AB7",
                "thickness_factor": 1,
                "directed": true,
                "styles": {},
                "label": "MONITORED_BY"
              },
              {
                "id": 1155193095629832200,
                "start": 25,
                "end": 28,
                "properties": {
                  "label": "MONITORED_BY"
                },
                "color": "#673AB7",
                "thickness_factor": 1,
                "directed": true,
                "styles": {},
                "label": "MONITORED_BY"
              },
              {
                "id": 1152961087025447000,
                "start": 25,
                "end": 26,
                "properties": {
                  "label": "PROVIDER"
                },
                "color": "#CDDC39",
                "thickness_factor": 1,
                "directed": true,
                "styles": {},
                "label": "PROVIDER"
              },
              {
                "id": 6917538923245732000,
                "start": 29,
                "end": 33,
                "properties": {
                  "label": "MONITORS"
                },
                "color": "#9E9E9E",
                "thickness_factor": 1,
                "directed": true,
                "styles": {},
                "label": "MONITORS"
              },
              {
                "id": 1152931400211497000,
                "start": 30,
                "end": 25,
                "properties": {
                  "label": "MONITORS"
                },
                "color": "#9E9E9E",
                "thickness_factor": 1,
                "directed": true,
                "styles": {},
                "label": "MONITORS"
              },
              {
                "id": 1152962186537074700,
                "start": 30,
                "end": 27,
                "properties": {
                  "label": "LOCATED_IN"
                },
                "color": "#9C27B0",
                "thickness_factor": 1,
                "directed": true,
                "styles": {},
                "label": "LOCATED_IN"
              },
              {
                "id": 1155213986350760000,
                "start": 30,
                "end": 28,
                "properties": {
                  "label": "LOCATED_IN"
                },
                "color": "#9C27B0",
                "thickness_factor": 1,
                "directed": true,
                "styles": {},
                "label": "LOCATED_IN"
              },
              {
                "id": 1152932499723124700,
                "start": 31,
                "end": 29,
                "properties": {
                  "label": "PROCESSES"
                },
                "color": "#2196F3",
                "thickness_factor": 1,
                "directed": true,
                "styles": {},
                "label": "PROCESSES"
              },
              {
                "id": 1152962186537074700,
                "start": 31,
                "end": 32,
                "properties": {
                  "label": "LOCATED_IN"
                },
                "color": "#9C27B0",
                "thickness_factor": 1,
                "directed": true,
                "styles": {},
                "label": "LOCATED_IN"
              },
              {
                "id": 1152933599234752500,
                "start": 34,
                "end": 35,
                "properties": {
                  "label": "RECEIVES_DATA_FROM"
                },
                "color": "#4CAF50",
                "thickness_factor": 1,
                "directed": true,
                "styles": {},
                "label": "RECEIVES_DATA_FROM"
              },
              {
                "id": 1152937997281263600,
                "start": 34,
                "end": 40,
                "properties": {
                  "label": "LOCATED_AT"
                },
                "color": "#F44336",
                "thickness_factor": 1,
                "directed": true,
                "styles": {},
                "label": "LOCATED_AT"
              },
              {
                "id": 1152943494839402500,
                "start": 34,
                "end": 41,
                "properties": {
                  "label": "RECEIVES_DATA"
                },
                "color": "#607D8B",
                "thickness_factor": 1,
                "directed": true,
                "styles": {},
                "label": "RECEIVES_DATA"
              },
              {
                "id": 1152934698746380300,
                "start": 35,
                "end": 38,
                "properties": {
                  "label": "GENERATES"
                },
                "color": "#673AB7",
                "thickness_factor": 1,
                "directed": true,
                "styles": {},
                "label": "GENERATES"
              },
              {
                "id": 1152963286048702500,
                "start": 35,
                "end": 36,
                "properties": {
                  "label": "SENDS_DATA_TO"
                },
                "color": "#CDDC39",
                "thickness_factor": 1,
                "directed": true,
                "styles": {},
                "label": "SENDS_DATA_TO"
              },
              {
                "id": 1152932499723124700,
                "start": 36,
                "end": 38,
                "properties": {
                  "label": "PROCESSES"
                },
                "color": "#2196F3",
                "thickness_factor": 1,
                "directed": true,
                "styles": {},
                "label": "PROCESSES"
              },
              {
                "id": 1152935798258008000,
                "start": 36,
                "end": 39,
                "properties": {
                  "label": "PRODUCES"
                },
                "color": "#9E9E9E",
                "thickness_factor": 1,
                "directed": true,
                "styles": {},
                "label": "PRODUCES"
              },
              {
                "id": 1152963286048702500,
                "start": 36,
                "end": 37,
                "properties": {
                  "label": "SENDS_DATA_TO"
                },
                "color": "#CDDC39",
                "thickness_factor": 1,
                "directed": true,
                "styles": {},
                "label": "SENDS_DATA_TO"
              },
              {
                "id": 1152936897769635800,
                "start": 37,
                "end": 39,
                "properties": {
                  "label": "DISSEMINATES"
                },
                "color": "#9C27B0",
                "thickness_factor": 1,
                "directed": true,
                "styles": {},
                "label": "DISSEMINATES"
              },
              {
                "id": 1152934698746380300,
                "start": 41,
                "end": 38,
                "properties": {
                  "label": "GENERATES"
                },
                "color": "#673AB7",
                "thickness_factor": 1,
                "directed": true,
                "styles": {},
                "label": "GENERATES"
              },
              {
                "id": 1152932499723124700,
                "start": 42,
                "end": 38,
                "properties": {
                  "label": "PROCESSES"
                },
                "color": "#2196F3",
                "thickness_factor": 1,
                "directed": true,
                "styles": {},
                "label": "PROCESSES"
              },
              {
                "id": 1152935798258008000,
                "start": 42,
                "end": 39,
                "properties": {
                  "label": "PRODUCES"
                },
                "color": "#9E9E9E",
                "thickness_factor": 1,
                "directed": true,
                "styles": {},
                "label": "PRODUCES"
              },
              {
                "id": 1152936897769635800,
                "start": 43,
                "end": 39,
                "properties": {
                  "label": "DISSEMINATES"
                },
                "color": "#9C27B0",
                "thickness_factor": 1,
                "directed": true,
                "styles": {},
                "label": "DISSEMINATES"
              },
              {
                "id": 1152940196304519200,
                "start": 44,
                "end": 45,
                "properties": {
                  "label": "LAUNCHED_BY"
                },
                "color": "#607D8B",
                "thickness_factor": 1,
                "directed": true,
                "styles": {},
                "label": "LAUNCHED_BY"
              },
              {
                "id": 1152944594351030300,
                "start": 44,
                "end": 46,
                "properties": {
                  "label": "IN_ORBIT"
                },
                "color": "#2196F3",
                "thickness_factor": 1,
                "directed": true,
                "styles": {},
                "label": "IN_ORBIT"
              },
              {
                "id": 1152945693862658000,
                "start": 44,
                "end": 26,
                "properties": {
                  "label": "BELONGS_TO"
                },
                "color": "#4CAF50",
                "thickness_factor": 1,
                "directed": true,
                "styles": {},
                "label": "BELONGS_TO"
              },
              {
                "id": 1152946793374285800,
                "start": 47,
                "end": 26,
                "properties": {
                  "label": "PARTNERSHIP"
                },
                "color": "#F44336",
                "thickness_factor": 1,
                "directed": true,
                "styles": {},
                "label": "PARTNERSHIP"
              },
              {
                "id": 1155198593187971000,
                "start": 47,
                "end": 48,
                "properties": {
                  "label": "PARTNERSHIP"
                },
                "color": "#F44336",
                "thickness_factor": 1,
                "directed": true,
                "styles": {},
                "label": "PARTNERSHIP"
              },
              {
                "id": 6917555415920148000,
                "start": 47,
                "end": 49,
                "properties": {
                  "label": "STUDIES"
                },
                "color": "#607D8B",
                "thickness_factor": 1,
                "directed": true,
                "styles": {},
                "label": "STUDIES"
              },
              {
                "id": 1152950091909169200,
                "start": 50,
                "end": 53,
                "properties": {
                  "label": "COMPRISES"
                },
                "color": "#673AB7",
                "thickness_factor": 1,
                "directed": true,
                "styles": {},
                "label": "COMPRISES"
              },
              {
                "id": 1152951191420797000,
                "start": 50,
                "end": 54,
                "properties": {
                  "label": "COMPLEMENTARY_TO"
                },
                "color": "#CDDC39",
                "thickness_factor": 1,
                "directed": true,
                "styles": {},
                "label": "COMPLEMENTARY_TO"
              },
              {
                "id": 1155202991234482200,
                "start": 50,
                "end": 55,
                "properties": {
                  "label": "COMPLEMENTARY_TO"
                },
                "color": "#CDDC39",
                "thickness_factor": 1,
                "directed": true,
                "styles": {},
                "label": "COMPLEMENTARY_TO"
              },
              {
                "id": 1152948992397541400,
                "start": 51,
                "end": 50,
                "properties": {
                  "label": "PARTNER"
                },
                "color": "#673AB7",
                "thickness_factor": 1,
                "directed": true,
                "styles": {},
                "label": "PARTNER"
              },
              {
                "id": 1152921504606847000,
                "start": 53,
                "end": 51,
                "properties": {
                  "label": "DEVELOPED_BY"
                },
                "color": "#9E9E9E",
                "thickness_factor": 1,
                "directed": true,
                "styles": {},
                "label": "DEVELOPED_BY"
              },
              {
                "id": 1152924803141730300,
                "start": 59,
                "end": 63,
                "properties": {
                  "label": "CARRIES"
                },
                "color": "#4CAF50",
                "thickness_factor": 1,
                "directed": true,
                "styles": {},
                "label": "CARRIES"
              },
              {
                "id": 1155176602955415600,
                "start": 59,
                "end": 64,
                "properties": {
                  "label": "CARRIES"
                },
                "color": "#4CAF50",
                "thickness_factor": 1,
                "directed": true,
                "styles": {},
                "label": "CARRIES"
              },
              {
                "id": 1157428402769100800,
                "start": 59,
                "end": 65,
                "properties": {
                  "label": "CARRIES"
                },
                "color": "#4CAF50",
                "thickness_factor": 1,
                "directed": true,
                "styles": {},
                "label": "CARRIES"
              },
              {
                "id": 1152940196304519200,
                "start": 59,
                "end": 60,
                "properties": {
                  "label": "LAUNCHED_BY"
                },
                "color": "#607D8B",
                "thickness_factor": 1,
                "directed": true,
                "styles": {},
                "label": "LAUNCHED_BY"
              },
              {
                "id": 1152952290932424700,
                "start": 59,
                "end": 61,
                "properties": {
                  "label": "LAUNCHED_FROM"
                },
                "color": "#9E9E9E",
                "thickness_factor": 1,
                "directed": true,
                "styles": {},
                "label": "LAUNCHED_FROM"
              },
              {
                "id": 1152953390444052500,
                "start": 59,
                "end": 68,
                "properties": {
                  "label": "PROVIDES_CONTINUITY_OF"
                },
                "color": "#9C27B0",
                "thickness_factor": 1,
                "directed": true,
                "styles": {},
                "label": "PROVIDES_CONTINUITY_OF"
              },
              {
                "id": 1152955589467308000,
                "start": 61,
                "end": 69,
                "properties": {
                  "label": "LAUNCH_SITE"
                },
                "color": "#2196F3",
                "thickness_factor": 1,
                "directed": true,
                "styles": {},
                "label": "LAUNCH_SITE"
              },
              {
                "id": 1152965485071958000,
                "start": 61,
                "end": 82,
                "properties": {
                  "label": "HOSTS"
                },
                "color": "#4CAF50",
                "thickness_factor": 1,
                "directed": true,
                "styles": {},
                "label": "HOSTS"
              },
              {
                "id": 1152921504606847000,
                "start": 64,
                "end": 66,
                "properties": {
                  "label": "DEVELOPED_BY"
                },
                "color": "#9E9E9E",
                "thickness_factor": 1,
                "directed": true,
                "styles": {},
                "label": "DEVELOPED_BY"
              },
              {
                "id": 1152921504606847000,
                "start": 65,
                "end": 67,
                "properties": {
                  "label": "DEVELOPED_BY"
                },
                "color": "#9E9E9E",
                "thickness_factor": 1,
                "directed": true,
                "styles": {},
                "label": "DEVELOPED_BY"
              },
              {
                "id": 1152954489955680300,
                "start": 69,
                "end": 70,
                "properties": {
                  "label": "ALSO_KNOWN_AS"
                },
                "color": "#F44336",
                "thickness_factor": 1,
                "directed": true,
                "styles": {},
                "label": "ALSO_KNOWN_AS"
              },
              {
                "id": 1152956688978935800,
                "start": 69,
                "end": 73,
                "properties": {
                  "label": "EQUIPPED_WITH"
                },
                "color": "#607D8B",
                "thickness_factor": 1,
                "directed": true,
                "styles": {},
                "label": "EQUIPPED_WITH"
              },
              {
                "id": 1155208488792621000,
                "start": 69,
                "end": 74,
                "properties": {
                  "label": "EQUIPPED_WITH"
                },
                "color": "#607D8B",
                "thickness_factor": 1,
                "directed": true,
                "styles": {},
                "label": "EQUIPPED_WITH"
              },
              {
                "id": 1157460288606306300,
                "start": 69,
                "end": 75,
                "properties": {
                  "label": "EQUIPPED_WITH"
                },
                "color": "#607D8B",
                "thickness_factor": 1,
                "directed": true,
                "styles": {},
                "label": "EQUIPPED_WITH"
              },
              {
                "id": 1159712088419991600,
                "start": 69,
                "end": 76,
                "properties": {
                  "label": "EQUIPPED_WITH"
                },
                "color": "#607D8B",
                "thickness_factor": 1,
                "directed": true,
                "styles": {},
                "label": "EQUIPPED_WITH"
              },
              {
                "id": 1152958888002191400,
                "start": 69,
                "end": 59,
                "properties": {
                  "label": "CONTINUITY_OF"
                },
                "color": "#673AB7",
                "thickness_factor": 1,
                "directed": true,
                "styles": {},
                "label": "CONTINUITY_OF"
              },
              {
                "id": 6917566411036426000,
                "start": 69,
                "end": 79,
                "properties": {
                  "label": "CONTINUITY_OF"
                },
                "color": "#673AB7",
                "thickness_factor": 1,
                "directed": true,
                "styles": {},
                "label": "CONTINUITY_OF"
              },
              {
                "id": 1155210687815876600,
                "start": 69,
                "end": 80,
                "properties": {
                  "label": "CONTINUITY_OF"
                },
                "color": "#673AB7",
                "thickness_factor": 1,
                "directed": true,
                "styles": {},
                "label": "CONTINUITY_OF"
              },
              {
                "id": 1152929201188241400,
                "start": 72,
                "end": 69,
                "properties": {
                  "label": "LAUNCHED"
                },
                "color": "#607D8B",
                "thickness_factor": 1,
                "directed": true,
                "styles": {},
                "label": "LAUNCHED"
              },
              {
                "id": 1152957788490563600,
                "start": 76,
                "end": 77,
                "properties": {
                  "label": "PROVIDED_BY"
                },
                "color": "#CDDC39",
                "thickness_factor": 1,
                "directed": true,
                "styles": {},
                "label": "PROVIDED_BY"
              },
              {
                "id": 1152928101676613600,
                "start": 78,
                "end": 24,
                "properties": {
                  "label": "IDENTICAL_TO"
                },
                "color": "#9C27B0",
                "thickness_factor": 1,
                "directed": true,
                "styles": {},
                "label": "IDENTICAL_TO"
              },
              {
                "id": 1152924803141730300,
                "start": 80,
                "end": 83,
                "properties": {
                  "label": "CARRIES"
                },
                "color": "#4CAF50",
                "thickness_factor": 1,
                "directed": true,
                "styles": {},
                "label": "CARRIES"
              },
              {
                "id": 1152939096792891400,
                "start": 81,
                "end": 25,
                "properties": {
                  "label": "PART_OF"
                },
                "color": "#4CAF50",
                "thickness_factor": 1,
                "directed": true,
                "styles": {},
                "label": "PART_OF"
              },
              {
                "id": 1152964385560330200,
                "start": 82,
                "end": 80,
                "properties": {
                  "label": "LAUNCHES"
                },
                "color": "#9E9E9E",
                "thickness_factor": 1,
                "directed": true,
                "styles": {},
                "label": "LAUNCHES"
              },
              {
                "id": 1152966584583585800,
                "start": 84,
                "end": 83,
                "properties": {
                  "label": "DEVELOPS"
                },
                "color": "#9C27B0",
                "thickness_factor": 1,
                "directed": true,
                "styles": {},
                "label": "DEVELOPS"
              },
              {
                "id": 1155219483908899000,
                "start": 216,
                "end": 217,
                "properties": {
                  "label": "OWNED_BY"
                },
                "color": "#2196F3",
                "thickness_factor": 1,
                "directed": true,
                "styles": {},
                "label": "OWNED_BY"
              },
              {
                "id": 1152967684095213800,
                "start": 216,
                "end": 218,
                "properties": {
                  "label": "OWNED_BY"
                },
                "color": "#2196F3",
                "thickness_factor": 1,
                "directed": true,
                "styles": {},
                "label": "OWNED_BY"
              },
              {
                "id": 1152968783606841600,
                "start": 216,
                "end": 217,
                "properties": {
                  "label": "MAINTAINED_BY"
                },
                "color": "#4CAF50",
                "thickness_factor": 1,
                "directed": true,
                "styles": {},
                "label": "MAINTAINED_BY"
              },
              {
                "id": 1155220583420526800,
                "start": 216,
                "end": 234,
                "properties": {
                  "label": "MAINTAINED_BY"
                },
                "color": "#4CAF50",
                "thickness_factor": 1,
                "directed": true,
                "styles": {},
                "label": "MAINTAINED_BY"
              },
              {
                "id": 1157472383234212000,
                "start": 216,
                "end": 238,
                "properties": {
                  "label": "MAINTAINED_BY"
                },
                "color": "#4CAF50",
                "thickness_factor": 1,
                "directed": true,
                "styles": {},
                "label": "MAINTAINED_BY"
              },
              {
                "id": 1152969883118469400,
                "start": 216,
                "end": 219,
                "properties": {
                  "label": "GOVT_OF"
                },
                "color": "#F44336",
                "thickness_factor": 1,
                "directed": true,
                "styles": {},
                "label": "GOVT_OF"
              },
              {
                "id": 1152970982630097200,
                "start": 216,
                "end": 237,
                "properties": {
                  "label": "MAINTAINS"
                },
                "color": "#607D8B",
                "thickness_factor": 1,
                "directed": true,
                "styles": {},
                "label": "MAINTAINS"
              },
              {
                "id": 1152957788490563800,
                "start": 220,
                "end": 234,
                "properties": {
                  "label": "PROVIDED_BY"
                },
                "color": "#CDDC39",
                "thickness_factor": 1,
                "directed": true,
                "styles": {},
                "label": "PROVIDED_BY"
              },
              {
                "id": 1152957788490563800,
                "start": 221,
                "end": 234,
                "properties": {
                  "label": "PROVIDED_BY"
                },
                "color": "#CDDC39",
                "thickness_factor": 1,
                "directed": true,
                "styles": {},
                "label": "PROVIDED_BY"
              },
              {
                "id": 1152957788490563800,
                "start": 222,
                "end": 234,
                "properties": {
                  "label": "PROVIDED_BY"
                },
                "color": "#CDDC39",
                "thickness_factor": 1,
                "directed": true,
                "styles": {},
                "label": "PROVIDED_BY"
              },
              {
                "id": 1152957788490563800,
                "start": 223,
                "end": 234,
                "properties": {
                  "label": "PROVIDED_BY"
                },
                "color": "#CDDC39",
                "thickness_factor": 1,
                "directed": true,
                "styles": {},
                "label": "PROVIDED_BY"
              },
              {
                "id": 1152957788490563800,
                "start": 224,
                "end": 234,
                "properties": {
                  "label": "PROVIDED_BY"
                },
                "color": "#CDDC39",
                "thickness_factor": 1,
                "directed": true,
                "styles": {},
                "label": "PROVIDED_BY"
              },
              {
                "id": 1152957788490563800,
                "start": 225,
                "end": 234,
                "properties": {
                  "label": "PROVIDED_BY"
                },
                "color": "#CDDC39",
                "thickness_factor": 1,
                "directed": true,
                "styles": {},
                "label": "PROVIDED_BY"
              },
              {
                "id": 1152957788490563800,
                "start": 226,
                "end": 234,
                "properties": {
                  "label": "PROVIDED_BY"
                },
                "color": "#CDDC39",
                "thickness_factor": 1,
                "directed": true,
                "styles": {},
                "label": "PROVIDED_BY"
              },
              {
                "id": 1152957788490563800,
                "start": 227,
                "end": 234,
                "properties": {
                  "label": "PROVIDED_BY"
                },
                "color": "#CDDC39",
                "thickness_factor": 1,
                "directed": true,
                "styles": {},
                "label": "PROVIDED_BY"
              },
              {
                "id": 1152957788490563800,
                "start": 228,
                "end": 234,
                "properties": {
                  "label": "PROVIDED_BY"
                },
                "color": "#CDDC39",
                "thickness_factor": 1,
                "directed": true,
                "styles": {},
                "label": "PROVIDED_BY"
              },
              {
                "id": 1152957788490563800,
                "start": 229,
                "end": 234,
                "properties": {
                  "label": "PROVIDED_BY"
                },
                "color": "#CDDC39",
                "thickness_factor": 1,
                "directed": true,
                "styles": {},
                "label": "PROVIDED_BY"
              },
              {
                "id": 1152957788490563800,
                "start": 230,
                "end": 234,
                "properties": {
                  "label": "PROVIDED_BY"
                },
                "color": "#CDDC39",
                "thickness_factor": 1,
                "directed": true,
                "styles": {},
                "label": "PROVIDED_BY"
              },
              {
                "id": 1152957788490563800,
                "start": 231,
                "end": 234,
                "properties": {
                  "label": "PROVIDED_BY"
                },
                "color": "#CDDC39",
                "thickness_factor": 1,
                "directed": true,
                "styles": {},
                "label": "PROVIDED_BY"
              },
              {
                "id": 1152957788490563800,
                "start": 232,
                "end": 234,
                "properties": {
                  "label": "PROVIDED_BY"
                },
                "color": "#CDDC39",
                "thickness_factor": 1,
                "directed": true,
                "styles": {},
                "label": "PROVIDED_BY"
              },
              {
                "id": 1152957788490563800,
                "start": 233,
                "end": 234,
                "properties": {
                  "label": "PROVIDED_BY"
                },
                "color": "#CDDC39",
                "thickness_factor": 1,
                "directed": true,
                "styles": {},
                "label": "PROVIDED_BY"
              },
              {
                "id": 1152957788490563800,
                "start": 235,
                "end": 234,
                "properties": {
                  "label": "PROVIDED_BY"
                },
                "color": "#CDDC39",
                "thickness_factor": 1,
                "directed": true,
                "styles": {},
                "label": "PROVIDED_BY"
              },
              {
                "id": 1152957788490563800,
                "start": 236,
                "end": 234,
                "properties": {
                  "label": "PROVIDED_BY"
                },
                "color": "#CDDC39",
                "thickness_factor": 1,
                "directed": true,
                "styles": {},
                "label": "PROVIDED_BY"
              },
              {
                "id": 1152972082141725000,
                "start": 237,
                "end": 238,
                "properties": {
                  "label": "GOVERNED_BY"
                },
                "color": "#673AB7",
                "thickness_factor": 1,
                "directed": true,
                "styles": {},
                "label": "GOVERNED_BY"
              },
              {
                "id": 1152973181653352700,
                "start": 237,
                "end": 239,
                "properties": {
                  "label": "GOVERNMENT_OWNER"
                },
                "color": "#CDDC39",
                "thickness_factor": 1,
                "directed": true,
                "styles": {},
                "label": "GOVERNMENT_OWNER"
              },
              {
                "id": 1193506677811315000,
                "start": 237,
                "end": 220,
                "properties": {
                  "label": "PROVIDES"
                },
                "color": "#9E9E9E",
                "thickness_factor": 1,
                "directed": true,
                "styles": {},
                "label": "PROVIDES"
              },
              {
                "id": 1186751278370259200,
                "start": 237,
                "end": 223,
                "properties": {
                  "label": "PROVIDES"
                },
                "color": "#9E9E9E",
                "thickness_factor": 1,
                "directed": true,
                "styles": {},
                "label": "PROVIDES"
              },
              {
                "id": 1191254877997629700,
                "start": 237,
                "end": 232,
                "properties": {
                  "label": "PROVIDES"
                },
                "color": "#9E9E9E",
                "thickness_factor": 1,
                "directed": true,
                "styles": {},
                "label": "PROVIDES"
              },
              {
                "id": 1189003078183944400,
                "start": 237,
                "end": 233,
                "properties": {
                  "label": "PROVIDES"
                },
                "color": "#9E9E9E",
                "thickness_factor": 1,
                "directed": true,
                "styles": {},
                "label": "PROVIDES"
              },
              {
                "id": 1152974281164980500,
                "start": 237,
                "end": 240,
                "properties": {
                  "label": "PROVIDES"
                },
                "color": "#9E9E9E",
                "thickness_factor": 1,
                "directed": true,
                "styles": {},
                "label": "PROVIDES"
              },
              {
                "id": 1155226080978665700,
                "start": 237,
                "end": 241,
                "properties": {
                  "label": "PROVIDES"
                },
                "color": "#9E9E9E",
                "thickness_factor": 1,
                "directed": true,
                "styles": {},
                "label": "PROVIDES"
              },
              {
                "id": 1157477880792351000,
                "start": 237,
                "end": 242,
                "properties": {
                  "label": "PROVIDES"
                },
                "color": "#9E9E9E",
                "thickness_factor": 1,
                "directed": true,
                "styles": {},
                "label": "PROVIDES"
              },
              {
                "id": 1159729680606036200,
                "start": 237,
                "end": 243,
                "properties": {
                  "label": "PROVIDES"
                },
                "color": "#9E9E9E",
                "thickness_factor": 1,
                "directed": true,
                "styles": {},
                "label": "PROVIDES"
              },
              {
                "id": 1161981480419721500,
                "start": 237,
                "end": 244,
                "properties": {
                  "label": "PROVIDES"
                },
                "color": "#9E9E9E",
                "thickness_factor": 1,
                "directed": true,
                "styles": {},
                "label": "PROVIDES"
              },
              {
                "id": 1164233280233406700,
                "start": 237,
                "end": 245,
                "properties": {
                  "label": "PROVIDES"
                },
                "color": "#9E9E9E",
                "thickness_factor": 1,
                "directed": true,
                "styles": {},
                "label": "PROVIDES"
              },
              {
                "id": 1166485080047092000,
                "start": 237,
                "end": 246,
                "properties": {
                  "label": "PROVIDES"
                },
                "color": "#9E9E9E",
                "thickness_factor": 1,
                "directed": true,
                "styles": {},
                "label": "PROVIDES"
              },
              {
                "id": 1168736879860777200,
                "start": 237,
                "end": 247,
                "properties": {
                  "label": "PROVIDES"
                },
                "color": "#9E9E9E",
                "thickness_factor": 1,
                "directed": true,
                "styles": {},
                "label": "PROVIDES"
              },
              {
                "id": 1170988679674462500,
                "start": 237,
                "end": 248,
                "properties": {
                  "label": "PROVIDES"
                },
                "color": "#9E9E9E",
                "thickness_factor": 1,
                "directed": true,
                "styles": {},
                "label": "PROVIDES"
              },
              {
                "id": 1173240479488147700,
                "start": 237,
                "end": 249,
                "properties": {
                  "label": "PROVIDES"
                },
                "color": "#9E9E9E",
                "thickness_factor": 1,
                "directed": true,
                "styles": {},
                "label": "PROVIDES"
              },
              {
                "id": 1175492279301833000,
                "start": 237,
                "end": 250,
                "properties": {
                  "label": "PROVIDES"
                },
                "color": "#9E9E9E",
                "thickness_factor": 1,
                "directed": true,
                "styles": {},
                "label": "PROVIDES"
              },
              {
                "id": 1177744079115518200,
                "start": 237,
                "end": 251,
                "properties": {
                  "label": "PROVIDES"
                },
                "color": "#9E9E9E",
                "thickness_factor": 1,
                "directed": true,
                "styles": {},
                "label": "PROVIDES"
              },
              {
                "id": 1179995878929203500,
                "start": 237,
                "end": 252,
                "properties": {
                  "label": "PROVIDES"
                },
                "color": "#9E9E9E",
                "thickness_factor": 1,
                "directed": true,
                "styles": {},
                "label": "PROVIDES"
              },
              {
                "id": 1182247678742888700,
                "start": 237,
                "end": 253,
                "properties": {
                  "label": "PROVIDES"
                },
                "color": "#9E9E9E",
                "thickness_factor": 1,
                "directed": true,
                "styles": {},
                "label": "PROVIDES"
              },
              {
                "id": 1184499478556574000,
                "start": 237,
                "end": 254,
                "properties": {
                  "label": "PROVIDES"
                },
                "color": "#9E9E9E",
                "thickness_factor": 1,
                "directed": true,
                "styles": {},
                "label": "PROVIDES"
              },
              {
                "id": 1195758477625000200,
                "start": 237,
                "end": 255,
                "properties": {
                  "label": "PROVIDES"
                },
                "color": "#9E9E9E",
                "thickness_factor": 1,
                "directed": true,
                "styles": {},
                "label": "PROVIDES"
              },
              {
                "id": 1198010277438685400,
                "start": 237,
                "end": 256,
                "properties": {
                  "label": "PROVIDES"
                },
                "color": "#9E9E9E",
                "thickness_factor": 1,
                "directed": true,
                "styles": {},
                "label": "PROVIDES"
              },
              {
                "id": 1200262077252370700,
                "start": 237,
                "end": 257,
                "properties": {
                  "label": "PROVIDES"
                },
                "color": "#9E9E9E",
                "thickness_factor": 1,
                "directed": true,
                "styles": {},
                "label": "PROVIDES"
              },
              {
                "id": 1202513877066056000,
                "start": 237,
                "end": 258,
                "properties": {
                  "label": "PROVIDES"
                },
                "color": "#9E9E9E",
                "thickness_factor": 1,
                "directed": true,
                "styles": {},
                "label": "PROVIDES"
              },
              {
                "id": 1155223881955410200,
                "start": 238,
                "end": 259,
                "properties": {
                  "label": "GOVERNED_BY"
                },
                "color": "#673AB7",
                "thickness_factor": 1,
                "directed": true,
                "styles": {},
                "label": "GOVERNED_BY"
              }
            ],
            "_graph_layout": {},
            "_highlight": [],
            "_license": {},
            "_model_module": "yfiles-jupyter-graphs",
            "_model_module_version": "^1.10.7",
            "_model_name": "GraphModel",
            "_neighborhood": {},
            "_nodes": [
              {
                "id": 13,
                "properties": {
                  "id": "Metsat",
                  "label": "Satellite"
                },
                "color": "#2196F3",
                "styles": {},
                "label": "Metsat",
                "scale_factor": 1,
                "type": "#2196F3",
                "size": [
                  55,
                  55
                ],
                "position": [
                  0,
                  0
                ]
              },
              {
                "id": 14,
                "properties": {
                  "id": "Isro",
                  "label": "Organization"
                },
                "color": "#4CAF50",
                "styles": {},
                "label": "Isro",
                "scale_factor": 1,
                "type": "#4CAF50",
                "size": [
                  55,
                  55
                ],
                "position": [
                  0,
                  0
                ]
              },
              {
                "id": 15,
                "properties": {
                  "id": "I-1000 Bus",
                  "label": "Bus"
                },
                "color": "#F44336",
                "styles": {},
                "label": "I-1000 Bus",
                "scale_factor": 1,
                "type": "#F44336",
                "size": [
                  55,
                  55
                ],
                "position": [
                  0,
                  0
                ]
              },
              {
                "id": 17,
                "properties": {
                  "id": "Gaas/Ge Solar Panel",
                  "label": "Solar panel"
                },
                "color": "#607D8B",
                "styles": {},
                "label": "Gaas/Ge Solar Panel",
                "scale_factor": 1,
                "type": "#607D8B",
                "size": [
                  55,
                  55
                ],
                "position": [
                  0,
                  0
                ]
              },
              {
                "id": 16,
                "properties": {
                  "id": "Ni-Cd Battery",
                  "label": "Battery"
                },
                "color": "#673AB7",
                "styles": {},
                "label": "Ni-Cd Battery",
                "scale_factor": 1,
                "type": "#673AB7",
                "size": [
                  55,
                  55
                ],
                "position": [
                  0,
                  0
                ]
              },
              {
                "id": 18,
                "properties": {
                  "id": "3-Axis Stabilized Momentum Biased Attitude Control System",
                  "label": "Control system"
                },
                "color": "#CDDC39",
                "styles": {},
                "label": "3-Axis Stabilized Momentum Biased Attitude Control System",
                "scale_factor": 1,
                "type": "#CDDC39",
                "size": [
                  55,
                  55
                ],
                "position": [
                  0,
                  0
                ]
              },
              {
                "id": 19,
                "properties": {
                  "id": "Vhrr",
                  "label": "Radiometer"
                },
                "color": "#9E9E9E",
                "styles": {},
                "label": "Vhrr",
                "scale_factor": 1,
                "type": "#9E9E9E",
                "size": [
                  55,
                  55
                ],
                "position": [
                  0,
                  0
                ]
              },
              {
                "id": 20,
                "properties": {
                  "id": "Drt",
                  "label": "Transponder"
                },
                "color": "#9C27B0",
                "styles": {},
                "label": "Drt",
                "scale_factor": 1,
                "type": "#9C27B0",
                "size": [
                  55,
                  55
                ],
                "position": [
                  0,
                  0
                ]
              },
              {
                "id": 22,
                "properties": {
                  "id": "Pslv",
                  "label": "Launch vehicle"
                },
                "color": "#2196F3",
                "styles": {},
                "label": "Pslv",
                "scale_factor": 1,
                "type": "#2196F3",
                "size": [
                  55,
                  55
                ],
                "position": [
                  0,
                  0
                ]
              },
              {
                "id": 25,
                "properties": {
                  "id": "Insat",
                  "label": "Satellite system"
                },
                "color": "#4CAF50",
                "styles": {},
                "label": "Insat",
                "scale_factor": 1,
                "type": "#4CAF50",
                "size": [
                  55,
                  55
                ],
                "position": [
                  0,
                  0
                ]
              },
              {
                "id": 50,
                "properties": {
                  "id": "Saral-Altika",
                  "label": "Mission"
                },
                "color": "#F44336",
                "styles": {},
                "label": "Saral-Altika",
                "scale_factor": 1,
                "type": "#F44336",
                "size": [
                  55,
                  55
                ],
                "position": [
                  0,
                  0
                ]
              },
              {
                "id": 21,
                "properties": {
                  "id": "Meteorological Data Utilisation Centre",
                  "label": "Facility"
                },
                "color": "#607D8B",
                "styles": {},
                "label": "Meteorological Data Utilisation Centre",
                "scale_factor": 1,
                "type": "#607D8B",
                "size": [
                  55,
                  55
                ],
                "position": [
                  0,
                  0
                ]
              },
              {
                "id": 23,
                "properties": {
                  "id": "Insat-3Dr",
                  "label": "Satellite"
                },
                "color": "#2196F3",
                "styles": {},
                "label": "Insat-3Dr",
                "scale_factor": 1,
                "type": "#2196F3",
                "size": [
                  55,
                  55
                ],
                "position": [
                  0,
                  0
                ]
              },
              {
                "id": 24,
                "properties": {
                  "id": "Insat-3D",
                  "label": "Satellite"
                },
                "color": "#2196F3",
                "styles": {},
                "label": "Insat-3D",
                "scale_factor": 1,
                "type": "#2196F3",
                "size": [
                  55,
                  55
                ],
                "position": [
                  0,
                  0
                ]
              },
              {
                "id": 26,
                "properties": {
                  "id": "India",
                  "label": "Country"
                },
                "color": "#673AB7",
                "styles": {},
                "label": "India",
                "scale_factor": 1,
                "type": "#673AB7",
                "size": [
                  55,
                  55
                ],
                "position": [
                  0,
                  0
                ]
              },
              {
                "id": 31,
                "properties": {
                  "id": "Space Applications Centre",
                  "label": "Organization"
                },
                "color": "#4CAF50",
                "styles": {},
                "label": "Space Applications Centre",
                "scale_factor": 1,
                "type": "#4CAF50",
                "size": [
                  55,
                  55
                ],
                "position": [
                  0,
                  0
                ]
              },
              {
                "id": 27,
                "properties": {
                  "id": "Hassan",
                  "label": "Location"
                },
                "color": "#CDDC39",
                "styles": {},
                "label": "Hassan",
                "scale_factor": 1,
                "type": "#CDDC39",
                "size": [
                  55,
                  55
                ],
                "position": [
                  0,
                  0
                ]
              },
              {
                "id": 28,
                "properties": {
                  "id": "Bhopal",
                  "label": "Location"
                },
                "color": "#CDDC39",
                "styles": {},
                "label": "Bhopal",
                "scale_factor": 1,
                "type": "#CDDC39",
                "size": [
                  55,
                  55
                ],
                "position": [
                  0,
                  0
                ]
              },
              {
                "id": 29,
                "properties": {
                  "id": "Insat-3Dr",
                  "label": "Spacecraft"
                },
                "color": "#9E9E9E",
                "styles": {},
                "label": "Insat-3Dr",
                "scale_factor": 1,
                "type": "#9E9E9E",
                "size": [
                  55,
                  55
                ],
                "position": [
                  0,
                  0
                ]
              },
              {
                "id": 33,
                "properties": {
                  "id": "Earth",
                  "label": "Planet"
                },
                "color": "#9C27B0",
                "styles": {},
                "label": "Earth",
                "scale_factor": 1,
                "type": "#9C27B0",
                "size": [
                  55,
                  55
                ],
                "position": [
                  0,
                  0
                ]
              },
              {
                "id": 30,
                "properties": {
                  "id": "Master Control Facilities",
                  "label": "Facility"
                },
                "color": "#607D8B",
                "styles": {},
                "label": "Master Control Facilities",
                "scale_factor": 1,
                "type": "#607D8B",
                "size": [
                  55,
                  55
                ],
                "position": [
                  0,
                  0
                ]
              },
              {
                "id": 32,
                "properties": {
                  "id": "Ahmedabad",
                  "label": "Location"
                },
                "color": "#CDDC39",
                "styles": {},
                "label": "Ahmedabad",
                "scale_factor": 1,
                "type": "#CDDC39",
                "size": [
                  55,
                  55
                ],
                "position": [
                  0,
                  0
                ]
              },
              {
                "id": 34,
                "properties": {
                  "id": "Ground Receiving System",
                  "label": "System"
                },
                "color": "#2196F3",
                "styles": {},
                "label": "Ground Receiving System",
                "scale_factor": 1,
                "type": "#2196F3",
                "size": [
                  55,
                  55
                ],
                "position": [
                  0,
                  0
                ]
              },
              {
                "id": 35,
                "properties": {
                  "id": "Data Reception System",
                  "label": "System"
                },
                "color": "#2196F3",
                "styles": {},
                "label": "Data Reception System",
                "scale_factor": 1,
                "type": "#2196F3",
                "size": [
                  55,
                  55
                ],
                "position": [
                  0,
                  0
                ]
              },
              {
                "id": 40,
                "properties": {
                  "id": "740 East Longitude",
                  "label": "Location"
                },
                "color": "#CDDC39",
                "styles": {},
                "label": "740 East Longitude",
                "scale_factor": 1,
                "type": "#CDDC39",
                "size": [
                  55,
                  55
                ],
                "position": [
                  0,
                  0
                ]
              },
              {
                "id": 41,
                "properties": {
                  "id": "Data Reception",
                  "label": "System"
                },
                "color": "#2196F3",
                "styles": {},
                "label": "Data Reception",
                "scale_factor": 1,
                "type": "#2196F3",
                "size": [
                  55,
                  55
                ],
                "position": [
                  0,
                  0
                ]
              },
              {
                "id": 38,
                "properties": {
                  "id": "L0 Data",
                  "label": "Data"
                },
                "color": "#4CAF50",
                "styles": {},
                "label": "L0 Data",
                "scale_factor": 1,
                "type": "#4CAF50",
                "size": [
                  55,
                  55
                ],
                "position": [
                  0,
                  0
                ]
              },
              {
                "id": 36,
                "properties": {
                  "id": "Data Processing System",
                  "label": "System"
                },
                "color": "#2196F3",
                "styles": {},
                "label": "Data Processing System",
                "scale_factor": 1,
                "type": "#2196F3",
                "size": [
                  55,
                  55
                ],
                "position": [
                  0,
                  0
                ]
              },
              {
                "id": 39,
                "properties": {
                  "id": "L1B Data",
                  "label": "Data"
                },
                "color": "#4CAF50",
                "styles": {},
                "label": "L1B Data",
                "scale_factor": 1,
                "type": "#4CAF50",
                "size": [
                  55,
                  55
                ],
                "position": [
                  0,
                  0
                ]
              },
              {
                "id": 37,
                "properties": {
                  "id": "Product Generation And Dissemination System",
                  "label": "System"
                },
                "color": "#2196F3",
                "styles": {},
                "label": "Product Generation And Dissemination System",
                "scale_factor": 1,
                "type": "#2196F3",
                "size": [
                  55,
                  55
                ],
                "position": [
                  0,
                  0
                ]
              },
              {
                "id": 42,
                "properties": {
                  "id": "Data Processing",
                  "label": "System"
                },
                "color": "#2196F3",
                "styles": {},
                "label": "Data Processing",
                "scale_factor": 1,
                "type": "#2196F3",
                "size": [
                  55,
                  55
                ],
                "position": [
                  0,
                  0
                ]
              },
              {
                "id": 43,
                "properties": {
                  "id": "Product Generation And Dissemination",
                  "label": "System"
                },
                "color": "#2196F3",
                "styles": {},
                "label": "Product Generation And Dissemination",
                "scale_factor": 1,
                "type": "#2196F3",
                "size": [
                  55,
                  55
                ],
                "position": [
                  0,
                  0
                ]
              },
              {
                "id": 44,
                "properties": {
                  "id": "Insat-3A",
                  "label": "Satellite"
                },
                "color": "#2196F3",
                "styles": {},
                "label": "Insat-3A",
                "scale_factor": 1,
                "type": "#2196F3",
                "size": [
                  55,
                  55
                ],
                "position": [
                  0,
                  0
                ]
              },
              {
                "id": 45,
                "properties": {
                  "id": "European Ariane-5G Launch Vehicle",
                  "label": "Launch vehicle"
                },
                "color": "#2196F3",
                "styles": {},
                "label": "European Ariane-5G Launch Vehicle",
                "scale_factor": 1,
                "type": "#2196F3",
                "size": [
                  55,
                  55
                ],
                "position": [
                  0,
                  0
                ]
              },
              {
                "id": 46,
                "properties": {
                  "id": "Geosynchronous Transfer Orbit",
                  "label": "Orbit"
                },
                "color": "#F44336",
                "styles": {},
                "label": "Geosynchronous Transfer Orbit",
                "scale_factor": 1,
                "type": "#F44336",
                "size": [
                  55,
                  55
                ],
                "position": [
                  0,
                  0
                ]
              },
              {
                "id": 47,
                "properties": {
                  "id": "Megha-Tropiques",
                  "label": "Satellite mission"
                },
                "color": "#607D8B",
                "styles": {},
                "label": "Megha-Tropiques",
                "scale_factor": 1,
                "type": "#607D8B",
                "size": [
                  55,
                  55
                ],
                "position": [
                  0,
                  0
                ]
              },
              {
                "id": 48,
                "properties": {
                  "id": "France",
                  "label": "Country"
                },
                "color": "#673AB7",
                "styles": {},
                "label": "France",
                "scale_factor": 1,
                "type": "#673AB7",
                "size": [
                  55,
                  55
                ],
                "position": [
                  0,
                  0
                ]
              },
              {
                "id": 49,
                "properties": {
                  "id": "Tropics",
                  "label": "Region"
                },
                "color": "#673AB7",
                "styles": {},
                "label": "Tropics",
                "scale_factor": 1,
                "type": "#673AB7",
                "size": [
                  55,
                  55
                ],
                "position": [
                  0,
                  0
                ]
              },
              {
                "id": 53,
                "properties": {
                  "id": "Altika",
                  "label": "Project"
                },
                "color": "#CDDC39",
                "styles": {},
                "label": "Altika",
                "scale_factor": 1,
                "type": "#CDDC39",
                "size": [
                  55,
                  55
                ],
                "position": [
                  0,
                  0
                ]
              },
              {
                "id": 54,
                "properties": {
                  "id": "Envisat",
                  "label": "Mission"
                },
                "color": "#F44336",
                "styles": {},
                "label": "Envisat",
                "scale_factor": 1,
                "type": "#F44336",
                "size": [
                  55,
                  55
                ],
                "position": [
                  0,
                  0
                ]
              },
              {
                "id": 55,
                "properties": {
                  "id": "Jason",
                  "label": "Mission"
                },
                "color": "#F44336",
                "styles": {},
                "label": "Jason",
                "scale_factor": 1,
                "type": "#F44336",
                "size": [
                  55,
                  55
                ],
                "position": [
                  0,
                  0
                ]
              },
              {
                "id": 51,
                "properties": {
                  "id": "Cnes",
                  "label": "Organization"
                },
                "color": "#4CAF50",
                "styles": {},
                "label": "Cnes",
                "scale_factor": 1,
                "type": "#4CAF50",
                "size": [
                  55,
                  55
                ],
                "position": [
                  0,
                  0
                ]
              },
              {
                "id": 59,
                "properties": {
                  "id": "Oceansat-2",
                  "label": "Satellite"
                },
                "color": "#2196F3",
                "styles": {},
                "label": "Oceansat-2",
                "scale_factor": 1,
                "type": "#2196F3",
                "size": [
                  55,
                  55
                ],
                "position": [
                  0,
                  0
                ]
              },
              {
                "id": 63,
                "properties": {
                  "id": "Ocean Colour Monitor (Ocm)",
                  "label": "Payload"
                },
                "color": "#9E9E9E",
                "styles": {},
                "label": "Ocean Colour Monitor (Ocm)",
                "scale_factor": 1,
                "type": "#9E9E9E",
                "size": [
                  55,
                  55
                ],
                "position": [
                  0,
                  0
                ]
              },
              {
                "id": 64,
                "properties": {
                  "id": "Ku-Band Pencil Beam Scatterometer (Scat)",
                  "label": "Payload"
                },
                "color": "#9E9E9E",
                "styles": {},
                "label": "Ku-Band Pencil Beam Scatterometer (Scat)",
                "scale_factor": 1,
                "type": "#9E9E9E",
                "size": [
                  55,
                  55
                ],
                "position": [
                  0,
                  0
                ]
              },
              {
                "id": 65,
                "properties": {
                  "id": "Radio Occultation Sounder For Atmosphere (Rosa)",
                  "label": "Payload"
                },
                "color": "#9E9E9E",
                "styles": {},
                "label": "Radio Occultation Sounder For Atmosphere (Rosa)",
                "scale_factor": 1,
                "type": "#9E9E9E",
                "size": [
                  55,
                  55
                ],
                "position": [
                  0,
                  0
                ]
              },
              {
                "id": 60,
                "properties": {
                  "id": "Pslv-C14",
                  "label": "Launch vehicle"
                },
                "color": "#2196F3",
                "styles": {},
                "label": "Pslv-C14",
                "scale_factor": 1,
                "type": "#2196F3",
                "size": [
                  55,
                  55
                ],
                "position": [
                  0,
                  0
                ]
              },
              {
                "id": 61,
                "properties": {
                  "id": "Satish Dhawan Space Centre",
                  "label": "Space centre"
                },
                "color": "#9C27B0",
                "styles": {},
                "label": "Satish Dhawan Space Centre",
                "scale_factor": 1,
                "type": "#9C27B0",
                "size": [
                  55,
                  55
                ],
                "position": [
                  0,
                  0
                ]
              },
              {
                "id": 68,
                "properties": {
                  "id": "Oceansat-1(Irs-P4)",
                  "label": "Satellite"
                },
                "color": "#2196F3",
                "styles": {},
                "label": "Oceansat-1(Irs-P4)",
                "scale_factor": 1,
                "type": "#2196F3",
                "size": [
                  55,
                  55
                ],
                "position": [
                  0,
                  0
                ]
              },
              {
                "id": 69,
                "properties": {
                  "id": "Oceansat-3",
                  "label": "Satellite"
                },
                "color": "#2196F3",
                "styles": {},
                "label": "Oceansat-3",
                "scale_factor": 1,
                "type": "#2196F3",
                "size": [
                  55,
                  55
                ],
                "position": [
                  0,
                  0
                ]
              },
              {
                "id": 82,
                "properties": {
                  "id": "Pslv-C35",
                  "label": "Launch vehicle"
                },
                "color": "#2196F3",
                "styles": {},
                "label": "Pslv-C35",
                "scale_factor": 1,
                "type": "#2196F3",
                "size": [
                  55,
                  55
                ],
                "position": [
                  0,
                  0
                ]
              },
              {
                "id": 66,
                "properties": {
                  "id": "Isro",
                  "label": "Space agency"
                },
                "color": "#2196F3",
                "styles": {},
                "label": "Isro",
                "scale_factor": 1,
                "type": "#2196F3",
                "size": [
                  55,
                  55
                ],
                "position": [
                  0,
                  0
                ]
              },
              {
                "id": 67,
                "properties": {
                  "id": "Italian Space Agency",
                  "label": "Space agency"
                },
                "color": "#2196F3",
                "styles": {},
                "label": "Italian Space Agency",
                "scale_factor": 1,
                "type": "#2196F3",
                "size": [
                  55,
                  55
                ],
                "position": [
                  0,
                  0
                ]
              },
              {
                "id": 70,
                "properties": {
                  "id": "Eos-06",
                  "label": "Satellite"
                },
                "color": "#2196F3",
                "styles": {},
                "label": "Eos-06",
                "scale_factor": 1,
                "type": "#2196F3",
                "size": [
                  55,
                  55
                ],
                "position": [
                  0,
                  0
                ]
              },
              {
                "id": 73,
                "properties": {
                  "id": "Ocm-3",
                  "label": "Instrument"
                },
                "color": "#4CAF50",
                "styles": {},
                "label": "Ocm-3",
                "scale_factor": 1,
                "type": "#4CAF50",
                "size": [
                  55,
                  55
                ],
                "position": [
                  0,
                  0
                ]
              },
              {
                "id": 74,
                "properties": {
                  "id": "Scat-3",
                  "label": "Instrument"
                },
                "color": "#4CAF50",
                "styles": {},
                "label": "Scat-3",
                "scale_factor": 1,
                "type": "#4CAF50",
                "size": [
                  55,
                  55
                ],
                "position": [
                  0,
                  0
                ]
              },
              {
                "id": 75,
                "properties": {
                  "id": "Sstm",
                  "label": "Instrument"
                },
                "color": "#4CAF50",
                "styles": {},
                "label": "Sstm",
                "scale_factor": 1,
                "type": "#4CAF50",
                "size": [
                  55,
                  55
                ],
                "position": [
                  0,
                  0
                ]
              },
              {
                "id": 76,
                "properties": {
                  "id": "Argos",
                  "label": "Payload"
                },
                "color": "#9E9E9E",
                "styles": {},
                "label": "Argos",
                "scale_factor": 1,
                "type": "#9E9E9E",
                "size": [
                  55,
                  55
                ],
                "position": [
                  0,
                  0
                ]
              },
              {
                "id": 79,
                "properties": {
                  "id": "Oceansat-1",
                  "label": "Satellite"
                },
                "color": "#2196F3",
                "styles": {},
                "label": "Oceansat-1",
                "scale_factor": 1,
                "type": "#2196F3",
                "size": [
                  55,
                  55
                ],
                "position": [
                  0,
                  0
                ]
              },
              {
                "id": 80,
                "properties": {
                  "id": "Scatsat-1",
                  "label": "Satellite"
                },
                "color": "#2196F3",
                "styles": {},
                "label": "Scatsat-1",
                "scale_factor": 1,
                "type": "#2196F3",
                "size": [
                  55,
                  55
                ],
                "position": [
                  0,
                  0
                ]
              },
              {
                "id": 72,
                "properties": {
                  "id": "Pslv-C54",
                  "label": "Launch vehicle"
                },
                "color": "#2196F3",
                "styles": {},
                "label": "Pslv-C54",
                "scale_factor": 1,
                "type": "#2196F3",
                "size": [
                  55,
                  55
                ],
                "position": [
                  0,
                  0
                ]
              },
              {
                "id": 77,
                "properties": {
                  "id": "Cnes",
                  "label": "Space agency"
                },
                "color": "#2196F3",
                "styles": {},
                "label": "Cnes",
                "scale_factor": 1,
                "type": "#2196F3",
                "size": [
                  55,
                  55
                ],
                "position": [
                  0,
                  0
                ]
              },
              {
                "id": 78,
                "properties": {
                  "id": "Insat-3Ds",
                  "label": "Satellite"
                },
                "color": "#2196F3",
                "styles": {},
                "label": "Insat-3Ds",
                "scale_factor": 1,
                "type": "#2196F3",
                "size": [
                  55,
                  55
                ],
                "position": [
                  0,
                  0
                ]
              },
              {
                "id": 83,
                "properties": {
                  "id": "Ku-Band Pencil Beam Scatterometer",
                  "label": "Payload"
                },
                "color": "#9E9E9E",
                "styles": {},
                "label": "Ku-Band Pencil Beam Scatterometer",
                "scale_factor": 1,
                "type": "#9E9E9E",
                "size": [
                  55,
                  55
                ],
                "position": [
                  0,
                  0
                ]
              },
              {
                "id": 81,
                "properties": {
                  "id": "Insat-3Ds",
                  "label": "Spacecraft"
                },
                "color": "#9E9E9E",
                "styles": {},
                "label": "Insat-3Ds",
                "scale_factor": 1,
                "type": "#9E9E9E",
                "size": [
                  55,
                  55
                ],
                "position": [
                  0,
                  0
                ]
              },
              {
                "id": 84,
                "properties": {
                  "id": "Sac-Isro",
                  "label": "Organization"
                },
                "color": "#4CAF50",
                "styles": {},
                "label": "Sac-Isro",
                "scale_factor": 1,
                "type": "#4CAF50",
                "size": [
                  55,
                  55
                ],
                "position": [
                  0,
                  0
                ]
              },
              {
                "id": 216,
                "properties": {
                  "id": "Meteorological & Oceanographic Satellite Data Archival Centre",
                  "label": "Organization"
                },
                "color": "#4CAF50",
                "styles": {},
                "label": "Meteorological & Oceanographic Satellite Data Archival Centre",
                "scale_factor": 1,
                "type": "#4CAF50",
                "size": [
                  55,
                  55
                ],
                "position": [
                  0,
                  0
                ]
              },
              {
                "id": 217,
                "properties": {
                  "id": "Indian Space Research Organisation",
                  "label": "Agency"
                },
                "color": "#F44336",
                "styles": {},
                "label": "Indian Space Research Organisation",
                "scale_factor": 1,
                "type": "#F44336",
                "size": [
                  55,
                  55
                ],
                "position": [
                  0,
                  0
                ]
              },
              {
                "id": 218,
                "properties": {
                  "id": "Space Applications Centre",
                  "label": "Department"
                },
                "color": "#607D8B",
                "styles": {},
                "label": "Space Applications Centre",
                "scale_factor": 1,
                "type": "#607D8B",
                "size": [
                  55,
                  55
                ],
                "position": [
                  0,
                  0
                ]
              },
              {
                "id": 234,
                "properties": {
                  "id": "MOSDAC, Space Applications Centre, Indian Space Research Organisation, Govt. of INDIA",
                  "label": "Organization"
                },
                "color": "#4CAF50",
                "styles": {},
                "label": "MOSDAC, Space Applications Centre, Indian Space Research Organisation, Govt. of INDIA",
                "scale_factor": 1,
                "type": "#4CAF50",
                "size": [
                  55,
                  55
                ],
                "position": [
                  0,
                  0
                ]
              },
              {
                "id": 238,
                "properties": {
                  "id": "Indian Space Research Organisation",
                  "label": "Organization"
                },
                "color": "#4CAF50",
                "styles": {},
                "label": "Indian Space Research Organisation",
                "scale_factor": 1,
                "type": "#4CAF50",
                "size": [
                  55,
                  55
                ],
                "position": [
                  0,
                  0
                ]
              },
              {
                "id": 219,
                "properties": {
                  "id": "Govt. of INDIA",
                  "label": "Country"
                },
                "color": "#673AB7",
                "styles": {},
                "label": "Govt. of INDIA",
                "scale_factor": 1,
                "type": "#673AB7",
                "size": [
                  55,
                  55
                ],
                "position": [
                  0,
                  0
                ]
              },
              {
                "id": 237,
                "properties": {
                  "id": "Mosdac",
                  "label": "Organization"
                },
                "color": "#4CAF50",
                "styles": {},
                "label": "Mosdac",
                "scale_factor": 1,
                "type": "#4CAF50",
                "size": [
                  55,
                  55
                ],
                "position": [
                  0,
                  0
                ]
              },
              {
                "id": 220,
                "properties": {
                  "id": "Soil Wetness Index",
                  "label": "Service"
                },
                "color": "#673AB7",
                "styles": {},
                "label": "Soil Wetness Index",
                "scale_factor": 1,
                "type": "#673AB7",
                "size": [
                  55,
                  55
                ],
                "position": [
                  0,
                  0
                ]
              },
              {
                "id": 221,
                "properties": {
                  "id": "Sat. Based Cyclone Obser. and Realtime Pred. over IO.",
                  "label": "Service"
                },
                "color": "#673AB7",
                "styles": {},
                "label": "Sat. Based Cyclone Obser. and Realtime Pred. over IO.",
                "scale_factor": 1,
                "type": "#673AB7",
                "size": [
                  55,
                  55
                ],
                "position": [
                  0,
                  0
                ]
              },
              {
                "id": 222,
                "properties": {
                  "id": "Ocean State Forecast Eddy Currents Website",
                  "label": "Service"
                },
                "color": "#673AB7",
                "styles": {},
                "label": "Ocean State Forecast Eddy Currents Website",
                "scale_factor": 1,
                "type": "#673AB7",
                "size": [
                  55,
                  55
                ],
                "position": [
                  0,
                  0
                ]
              },
              {
                "id": 223,
                "properties": {
                  "id": "Solar Energy",
                  "label": "Service"
                },
                "color": "#673AB7",
                "styles": {},
                "label": "Solar Energy",
                "scale_factor": 1,
                "type": "#673AB7",
                "size": [
                  55,
                  55
                ],
                "position": [
                  0,
                  0
                ]
              },
              {
                "id": 224,
                "properties": {
                  "id": "Alerts for South East Asian Countries",
                  "label": "Service"
                },
                "color": "#673AB7",
                "styles": {},
                "label": "Alerts for South East Asian Countries",
                "scale_factor": 1,
                "type": "#673AB7",
                "size": [
                  55,
                  55
                ],
                "position": [
                  0,
                  0
                ]
              },
              {
                "id": 225,
                "properties": {
                  "id": "Cloud Burst Nowcast for 6 hours over Western Himalayan region",
                  "label": "Service"
                },
                "color": "#673AB7",
                "styles": {},
                "label": "Cloud Burst Nowcast for 6 hours over Western Himalayan region",
                "scale_factor": 1,
                "type": "#673AB7",
                "size": [
                  55,
                  55
                ],
                "position": [
                  0,
                  0
                ]
              },
              {
                "id": 226,
                "properties": {
                  "id": "Ocean Subsurface Fields RIP Current Forecast for All-India beaches",
                  "label": "Service"
                },
                "color": "#673AB7",
                "styles": {},
                "label": "Ocean Subsurface Fields RIP Current Forecast for All-India beaches",
                "scale_factor": 1,
                "type": "#673AB7",
                "size": [
                  55,
                  55
                ],
                "position": [
                  0,
                  0
                ]
              },
              {
                "id": 227,
                "properties": {
                  "id": "Alerts for Indian States",
                  "label": "Service"
                },
                "color": "#673AB7",
                "styles": {},
                "label": "Alerts for Indian States",
                "scale_factor": 1,
                "type": "#673AB7",
                "size": [
                  55,
                  55
                ],
                "position": [
                  0,
                  0
                ]
              },
              {
                "id": 228,
                "properties": {
                  "id": "AWS Time Series Heavy Rain Events",
                  "label": "Service"
                },
                "color": "#673AB7",
                "styles": {},
                "label": "AWS Time Series Heavy Rain Events",
                "scale_factor": 1,
                "type": "#673AB7",
                "size": [
                  55,
                  55
                ],
                "position": [
                  0,
                  0
                ]
              },
              {
                "id": 229,
                "properties": {
                  "id": "Cold wave prediction over India (WRF Model)",
                  "label": "Service"
                },
                "color": "#673AB7",
                "styles": {},
                "label": "Cold wave prediction over India (WRF Model)",
                "scale_factor": 1,
                "type": "#673AB7",
                "size": [
                  55,
                  55
                ],
                "position": [
                  0,
                  0
                ]
              },
              {
                "id": 230,
                "properties": {
                  "id": "Web-Srv-Pri",
                  "label": "Service"
                },
                "color": "#673AB7",
                "styles": {},
                "label": "Web-Srv-Pri",
                "scale_factor": 1,
                "type": "#673AB7",
                "size": [
                  55,
                  55
                ],
                "position": [
                  0,
                  0
                ]
              },
              {
                "id": 231,
                "properties": {
                  "id": "Heat Wave Prediction over India (WRF Model)",
                  "label": "Service"
                },
                "color": "#673AB7",
                "styles": {},
                "label": "Heat Wave Prediction over India (WRF Model)",
                "scale_factor": 1,
                "type": "#673AB7",
                "size": [
                  55,
                  55
                ],
                "position": [
                  0,
                  0
                ]
              },
              {
                "id": 232,
                "properties": {
                  "id": "Air Quality",
                  "label": "Service"
                },
                "color": "#673AB7",
                "styles": {},
                "label": "Air Quality",
                "scale_factor": 1,
                "type": "#673AB7",
                "size": [
                  55,
                  55
                ],
                "position": [
                  0,
                  0
                ]
              },
              {
                "id": 233,
                "properties": {
                  "id": "Rainfall",
                  "label": "Service"
                },
                "color": "#673AB7",
                "styles": {},
                "label": "Rainfall",
                "scale_factor": 1,
                "type": "#673AB7",
                "size": [
                  55,
                  55
                ],
                "position": [
                  0,
                  0
                ]
              },
              {
                "id": 235,
                "properties": {
                  "id": "3 Days Solar and Wind Forecast for every 15 minutes",
                  "label": "Service"
                },
                "color": "#673AB7",
                "styles": {},
                "label": "3 Days Solar and Wind Forecast for every 15 minutes",
                "scale_factor": 1,
                "type": "#673AB7",
                "size": [
                  55,
                  55
                ],
                "position": [
                  0,
                  0
                ]
              },
              {
                "id": 236,
                "properties": {
                  "id": "Satellite based nowcast for Heavy rain events for 6 hours",
                  "label": "Service"
                },
                "color": "#673AB7",
                "styles": {},
                "label": "Satellite based nowcast for Heavy rain events for 6 hours",
                "scale_factor": 1,
                "type": "#673AB7",
                "size": [
                  55,
                  55
                ],
                "position": [
                  0,
                  0
                ]
              },
              {
                "id": 239,
                "properties": {
                  "id": "Govt. Of India",
                  "label": "Government"
                },
                "color": "#CDDC39",
                "styles": {},
                "label": "Govt. Of India",
                "scale_factor": 1,
                "type": "#CDDC39",
                "size": [
                  55,
                  55
                ],
                "position": [
                  0,
                  0
                ]
              },
              {
                "id": 240,
                "properties": {
                  "id": "Weather Forecast",
                  "label": "Service"
                },
                "color": "#673AB7",
                "styles": {},
                "label": "Weather Forecast",
                "scale_factor": 1,
                "type": "#673AB7",
                "size": [
                  55,
                  55
                ],
                "position": [
                  0,
                  0
                ]
              },
              {
                "id": 241,
                "properties": {
                  "id": "Cold Wave Prediction",
                  "label": "Service"
                },
                "color": "#673AB7",
                "styles": {},
                "label": "Cold Wave Prediction",
                "scale_factor": 1,
                "type": "#673AB7",
                "size": [
                  55,
                  55
                ],
                "position": [
                  0,
                  0
                ]
              },
              {
                "id": 242,
                "properties": {
                  "id": "Cyclone Observation",
                  "label": "Service"
                },
                "color": "#673AB7",
                "styles": {},
                "label": "Cyclone Observation",
                "scale_factor": 1,
                "type": "#673AB7",
                "size": [
                  55,
                  55
                ],
                "position": [
                  0,
                  0
                ]
              },
              {
                "id": 243,
                "properties": {
                  "id": "Heat Wave Prediction",
                  "label": "Service"
                },
                "color": "#673AB7",
                "styles": {},
                "label": "Heat Wave Prediction",
                "scale_factor": 1,
                "type": "#673AB7",
                "size": [
                  55,
                  55
                ],
                "position": [
                  0,
                  0
                ]
              },
              {
                "id": 244,
                "properties": {
                  "id": "Heavy Rain Forecast",
                  "label": "Service"
                },
                "color": "#673AB7",
                "styles": {},
                "label": "Heavy Rain Forecast",
                "scale_factor": 1,
                "type": "#673AB7",
                "size": [
                  55,
                  55
                ],
                "position": [
                  0,
                  0
                ]
              },
              {
                "id": 245,
                "properties": {
                  "id": "Lightning Forecast",
                  "label": "Service"
                },
                "color": "#673AB7",
                "styles": {},
                "label": "Lightning Forecast",
                "scale_factor": 1,
                "type": "#673AB7",
                "size": [
                  55,
                  55
                ],
                "position": [
                  0,
                  0
                ]
              },
              {
                "id": 246,
                "properties": {
                  "id": "Monsoon Prediction",
                  "label": "Service"
                },
                "color": "#673AB7",
                "styles": {},
                "label": "Monsoon Prediction",
                "scale_factor": 1,
                "type": "#673AB7",
                "size": [
                  55,
                  55
                ],
                "position": [
                  0,
                  0
                ]
              },
              {
                "id": 247,
                "properties": {
                  "id": "Sea State Forecast",
                  "label": "Service"
                },
                "color": "#673AB7",
                "styles": {},
                "label": "Sea State Forecast",
                "scale_factor": 1,
                "type": "#673AB7",
                "size": [
                  55,
                  55
                ],
                "position": [
                  0,
                  0
                ]
              },
              {
                "id": 248,
                "properties": {
                  "id": "Solar And Wind Forecast",
                  "label": "Service"
                },
                "color": "#673AB7",
                "styles": {},
                "label": "Solar And Wind Forecast",
                "scale_factor": 1,
                "type": "#673AB7",
                "size": [
                  55,
                  55
                ],
                "position": [
                  0,
                  0
                ]
              },
              {
                "id": 249,
                "properties": {
                  "id": "Cloud Burst Nowcast",
                  "label": "Service"
                },
                "color": "#673AB7",
                "styles": {},
                "label": "Cloud Burst Nowcast",
                "scale_factor": 1,
                "type": "#673AB7",
                "size": [
                  55,
                  55
                ],
                "position": [
                  0,
                  0
                ]
              },
              {
                "id": 250,
                "properties": {
                  "id": "Satellite Based Nowcast",
                  "label": "Service"
                },
                "color": "#673AB7",
                "styles": {},
                "label": "Satellite Based Nowcast",
                "scale_factor": 1,
                "type": "#673AB7",
                "size": [
                  55,
                  55
                ],
                "position": [
                  0,
                  0
                ]
              },
              {
                "id": 251,
                "properties": {
                  "id": "Aws Time Series Heavy Rain Events",
                  "label": "Service"
                },
                "color": "#673AB7",
                "styles": {},
                "label": "Aws Time Series Heavy Rain Events",
                "scale_factor": 1,
                "type": "#673AB7",
                "size": [
                  55,
                  55
                ],
                "position": [
                  0,
                  0
                ]
              },
              {
                "id": 252,
                "properties": {
                  "id": "Interactive Earth Visualisation",
                  "label": "Service"
                },
                "color": "#673AB7",
                "styles": {},
                "label": "Interactive Earth Visualisation",
                "scale_factor": 1,
                "type": "#673AB7",
                "size": [
                  55,
                  55
                ],
                "position": [
                  0,
                  0
                ]
              },
              {
                "id": 253,
                "properties": {
                  "id": "Alerts For Indian States",
                  "label": "Service"
                },
                "color": "#673AB7",
                "styles": {},
                "label": "Alerts For Indian States",
                "scale_factor": 1,
                "type": "#673AB7",
                "size": [
                  55,
                  55
                ],
                "position": [
                  0,
                  0
                ]
              },
              {
                "id": 254,
                "properties": {
                  "id": "Alerts For South East Asian Countries",
                  "label": "Service"
                },
                "color": "#673AB7",
                "styles": {},
                "label": "Alerts For South East Asian Countries",
                "scale_factor": 1,
                "type": "#673AB7",
                "size": [
                  55,
                  55
                ],
                "position": [
                  0,
                  0
                ]
              },
              {
                "id": 255,
                "properties": {
                  "id": "Ocean Subsurface Fields",
                  "label": "Service"
                },
                "color": "#673AB7",
                "styles": {},
                "label": "Ocean Subsurface Fields",
                "scale_factor": 1,
                "type": "#673AB7",
                "size": [
                  55,
                  55
                ],
                "position": [
                  0,
                  0
                ]
              },
              {
                "id": 256,
                "properties": {
                  "id": "Rip Current Forecast",
                  "label": "Service"
                },
                "color": "#673AB7",
                "styles": {},
                "label": "Rip Current Forecast",
                "scale_factor": 1,
                "type": "#673AB7",
                "size": [
                  55,
                  55
                ],
                "position": [
                  0,
                  0
                ]
              },
              {
                "id": 257,
                "properties": {
                  "id": "Ocean State Forecast",
                  "label": "Service"
                },
                "color": "#673AB7",
                "styles": {},
                "label": "Ocean State Forecast",
                "scale_factor": 1,
                "type": "#673AB7",
                "size": [
                  55,
                  55
                ],
                "position": [
                  0,
                  0
                ]
              },
              {
                "id": 258,
                "properties": {
                  "id": "Eddy Currents",
                  "label": "Service"
                },
                "color": "#673AB7",
                "styles": {},
                "label": "Eddy Currents",
                "scale_factor": 1,
                "type": "#673AB7",
                "size": [
                  55,
                  55
                ],
                "position": [
                  0,
                  0
                ]
              },
              {
                "id": 259,
                "properties": {
                  "id": "Govt. Of India",
                  "label": "Organization"
                },
                "color": "#4CAF50",
                "styles": {},
                "label": "Govt. Of India",
                "scale_factor": 1,
                "type": "#4CAF50",
                "size": [
                  55,
                  55
                ],
                "position": [
                  0,
                  0
                ]
              }
            ],
            "_overview": {
              "enabled": null,
              "overview_set": false
            },
            "_selected_graph": [
              [],
              []
            ],
            "_sidebar": {
              "enabled": false,
              "start_with": null
            },
            "_view_count": null,
            "_view_module": "yfiles-jupyter-graphs",
            "_view_module_version": "^1.10.7",
            "_view_name": "GraphView",
            "layout": "IPY_MODEL_1ed675f6cab140bd99436b3d75233c08"
          }
        },
        "1ed675f6cab140bd99436b3d75233c08": {
          "model_module": "@jupyter-widgets/base",
          "model_name": "LayoutModel",
          "model_module_version": "1.2.0",
          "state": {
            "_model_module": "@jupyter-widgets/base",
            "_model_module_version": "1.2.0",
            "_model_name": "LayoutModel",
            "_view_count": null,
            "_view_module": "@jupyter-widgets/base",
            "_view_module_version": "1.2.0",
            "_view_name": "LayoutView",
            "align_content": null,
            "align_items": null,
            "align_self": null,
            "border": null,
            "bottom": null,
            "display": null,
            "flex": null,
            "flex_flow": null,
            "grid_area": null,
            "grid_auto_columns": null,
            "grid_auto_flow": null,
            "grid_auto_rows": null,
            "grid_column": null,
            "grid_gap": null,
            "grid_row": null,
            "grid_template_areas": null,
            "grid_template_columns": null,
            "grid_template_rows": null,
            "height": "800px",
            "justify_content": null,
            "justify_items": null,
            "left": null,
            "margin": null,
            "max_height": null,
            "max_width": null,
            "min_height": null,
            "min_width": null,
            "object_fit": null,
            "object_position": null,
            "order": null,
            "overflow": null,
            "overflow_x": null,
            "overflow_y": null,
            "padding": null,
            "right": null,
            "top": null,
            "visibility": null,
            "width": "100%"
          }
        }
      }
    }
  },
  "nbformat": 4,
  "nbformat_minor": 5
}